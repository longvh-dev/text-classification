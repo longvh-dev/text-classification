{
 "cells": [
  {
   "cell_type": "code",
   "execution_count": 4,
   "id": "8144627f",
   "metadata": {},
   "outputs": [
    {
     "name": "stdout",
     "output_type": "stream",
     "text": [
      "Requirement already satisfied: underthesea in /Users/long/anaconda3/lib/python3.11/site-packages (6.8.0)\n",
      "Requirement already satisfied: Click>=6.0 in /Users/long/anaconda3/lib/python3.11/site-packages (from underthesea) (8.0.4)\n",
      "Requirement already satisfied: python-crfsuite>=0.9.6 in /Users/long/anaconda3/lib/python3.11/site-packages (from underthesea) (0.9.9)\n",
      "Requirement already satisfied: nltk in /Users/long/anaconda3/lib/python3.11/site-packages (from underthesea) (3.8.1)\n",
      "Requirement already satisfied: tqdm in /Users/long/anaconda3/lib/python3.11/site-packages (from underthesea) (4.65.0)\n",
      "Requirement already satisfied: requests in /Users/long/anaconda3/lib/python3.11/site-packages (from underthesea) (2.31.0)\n",
      "Requirement already satisfied: joblib in /Users/long/anaconda3/lib/python3.11/site-packages (from underthesea) (1.2.0)\n",
      "Requirement already satisfied: scikit-learn in /Users/long/anaconda3/lib/python3.11/site-packages (from underthesea) (1.3.0)\n",
      "Requirement already satisfied: PyYAML in /Users/long/anaconda3/lib/python3.11/site-packages (from underthesea) (6.0)\n",
      "Requirement already satisfied: underthesea-core==1.0.4 in /Users/long/anaconda3/lib/python3.11/site-packages (from underthesea) (1.0.4)\n",
      "Requirement already satisfied: regex>=2021.8.3 in /Users/long/anaconda3/lib/python3.11/site-packages (from nltk->underthesea) (2023.10.3)\n",
      "Requirement already satisfied: charset-normalizer<4,>=2 in /Users/long/anaconda3/lib/python3.11/site-packages (from requests->underthesea) (2.0.4)\n",
      "Requirement already satisfied: idna<4,>=2.5 in /Users/long/anaconda3/lib/python3.11/site-packages (from requests->underthesea) (3.4)\n",
      "Requirement already satisfied: urllib3<3,>=1.21.1 in /Users/long/anaconda3/lib/python3.11/site-packages (from requests->underthesea) (1.26.16)\n",
      "Requirement already satisfied: certifi>=2017.4.17 in /Users/long/anaconda3/lib/python3.11/site-packages (from requests->underthesea) (2023.7.22)\n",
      "Requirement already satisfied: numpy>=1.17.3 in /Users/long/anaconda3/lib/python3.11/site-packages (from scikit-learn->underthesea) (1.24.3)\n",
      "Requirement already satisfied: scipy>=1.5.0 in /Users/long/anaconda3/lib/python3.11/site-packages (from scikit-learn->underthesea) (1.11.3)\n",
      "Requirement already satisfied: threadpoolctl>=2.0.0 in /Users/long/anaconda3/lib/python3.11/site-packages (from scikit-learn->underthesea) (2.2.0)\n"
     ]
    }
   ],
   "source": [
    "!pip3 install --user underthesea\n",
    "import regex as re\n",
    "from underthesea import word_tokenize\n",
    "import pandas as pd"
   ]
  },
  {
   "cell_type": "code",
   "execution_count": 52,
   "id": "4b00f848",
   "metadata": {},
   "outputs": [
    {
     "name": "stdout",
     "output_type": "stream",
     "text": [
      "14976\n",
      "14976\n",
      "['Ghế văn phòng', 'Thước dây', 'Cưa tay', 'Váy, đầm', 'Dụng cụ đo, kiểm tra khác']\n",
      "['Ghế HQ - HK095', '30m Thước dây làm bằng sợi thủy tinh TOTAL TMTF12306', 'Cưa gỗ cầm tay cán lớn Asaki AK - 8657', 'Đầm ren cổ V tay ngắn cao cấp', 'Máy đo độ đồng tâm HANN YAN 6401D1']\n"
     ]
    }
   ],
   "source": [
    "# read txt file\n",
    "f = open(\"input/product_train_0.txt\", \"r\")\n",
    "\n",
    "# get category and product\n",
    "categories = []\n",
    "products = []\n",
    "\n",
    "while True:\n",
    "    line = f.readline()\n",
    "    if not line:\n",
    "        break\n",
    "    category = line.split(\" \", 1)[0].replace(\"__label__\", \"\").replace(\"_\", \" \")\n",
    "    categories.append(category)\n",
    "\n",
    "    product = ''.join(line.split(\" \", 1)[1:]).replace(\"\\n\", \"\")\n",
    "    products.append(product)\n",
    "\n",
    "# remove duplicate\n",
    "unique_categories = list(dict.fromkeys(categories))\n",
    "\n",
    "print(len(categories))\n",
    "print(len(products))\n",
    "\n",
    "print(categories[0:5])\n",
    "print(products[0:5])"
   ]
  },
  {
   "cell_type": "code",
   "execution_count": 53,
   "id": "cf80cb4a",
   "metadata": {
    "scrolled": false
   },
   "outputs": [
    {
     "name": "stdout",
     "output_type": "stream",
     "text": [
      "                                            products  \\\n",
      "0                                     Ghế HQ - HK095   \n",
      "1  30m Thước dây làm bằng sợi thủy tinh TOTAL TMT...   \n",
      "2             Cưa gỗ cầm tay cán lớn Asaki AK - 8657   \n",
      "3                      Đầm ren cổ V tay ngắn cao cấp   \n",
      "4                 Máy đo độ đồng tâm HANN YAN 6401D1   \n",
      "\n",
      "                  categories  \n",
      "0              Ghế văn phòng  \n",
      "1                  Thước dây  \n",
      "2                    Cưa tay  \n",
      "3                   Váy, đầm  \n",
      "4  Dụng cụ đo, kiểm tra khác  \n"
     ]
    }
   ],
   "source": [
    "data = pd.DataFrame(list(zip(products, categories)),\n",
    "                    columns=['products', 'categories'])\n",
    "print(data.head(5))"
   ]
  },
  {
   "cell_type": "markdown",
   "id": "f67cb6fe",
   "metadata": {},
   "source": [
    "# EDA\n"
   ]
  },
  {
   "cell_type": "code",
   "execution_count": 54,
   "id": "1ff38268",
   "metadata": {},
   "outputs": [
    {
     "data": {
      "text/plain": [
       "products      0\n",
       "categories    0\n",
       "dtype: int64"
      ]
     },
     "execution_count": 54,
     "metadata": {},
     "output_type": "execute_result"
    }
   ],
   "source": [
    "# check misssing values\n",
    "\n",
    "data.isna().sum()"
   ]
  },
  {
   "cell_type": "code",
   "execution_count": 55,
   "id": "1d0f0177",
   "metadata": {},
   "outputs": [
    {
     "data": {
      "text/plain": [
       "(14976, 2)"
      ]
     },
     "execution_count": 55,
     "metadata": {},
     "output_type": "execute_result"
    }
   ],
   "source": [
    "# check data shape\n",
    "\n",
    "data.shape"
   ]
  },
  {
   "cell_type": "code",
   "execution_count": 56,
   "id": "7fbfd8b9",
   "metadata": {},
   "outputs": [
    {
     "name": "stdout",
     "output_type": "stream",
     "text": [
      "categories\n",
      "Bao đựng, ốp lưng điện thoại    342\n",
      "Bàn ghế phòng khách             187\n",
      "Bộ bàn ghế cafe                 175\n",
      "Váy, đầm                        158\n",
      "Bộ bàn ghế ( phòng ăn, bếp )    135\n",
      "                               ... \n",
      "Tời kéo                           1\n",
      "Van công nghiệp khác              1\n",
      "Máy in khổ lớn                    1\n",
      "Bể cá                             1\n",
      "Bánh pía                          1\n",
      "Name: count, Length: 1971, dtype: int64\n"
     ]
    }
   ],
   "source": [
    "# check target balance\n",
    "\n",
    "print(data['categories'].value_counts())"
   ]
  },
  {
   "cell_type": "markdown",
   "id": "fcbb7e89",
   "metadata": {},
   "source": [
    "# Data Preprocessing\n"
   ]
  },
  {
   "cell_type": "markdown",
   "id": "236590f4",
   "metadata": {},
   "source": [
    "## 1. Chuẩn hoá unicode\n"
   ]
  },
  {
   "cell_type": "code",
   "execution_count": 57,
   "id": "55d0ee48",
   "metadata": {},
   "outputs": [],
   "source": [
    "import regex as re\n",
    "\n",
    "uniChars = \"àáảãạâầấẩẫậăằắẳẵặèéẻẽẹêềếểễệđìíỉĩịòóỏõọôồốổỗộơờớởỡợùúủũụưừứửữựỳýỷỹỵÀÁẢÃẠÂẦẤẨẪẬĂẰẮẲẴẶÈÉẺẼẸÊỀẾỂỄỆĐÌÍỈĨỊÒÓỎÕỌÔỒỐỔỖỘƠỜỚỞỠỢÙÚỦŨỤƯỪỨỬỮỰỲÝỶỸỴÂĂĐÔƠƯ\"\n",
    "unsignChars = \"aaaaaaaaaaaaaaaaaeeeeeeeeeeediiiiiooooooooooooooooouuuuuuuuuuuyyyyyAAAAAAAAAAAAAAAAAEEEEEEEEEEEDIIIOOOOOOOOOOOOOOOOOOOUUUUUUUUUUUYYYYYAADOOU\"\n",
    "\n",
    "\n",
    "def loaddicchar():\n",
    "    dic = {}\n",
    "    char1252 = 'à|á|ả|ã|ạ|ầ|ấ|ẩ|ẫ|ậ|ằ|ắ|ẳ|ẵ|ặ|è|é|ẻ|ẽ|ẹ|ề|ế|ể|ễ|ệ|ì|í|ỉ|ĩ|ị|ò|ó|ỏ|õ|ọ|ồ|ố|ổ|ỗ|ộ|ờ|ớ|ở|ỡ|ợ|ù|ú|ủ|ũ|ụ|ừ|ứ|ử|ữ|ự|ỳ|ý|ỷ|ỹ|ỵ|À|Á|Ả|Ã|Ạ|Ầ|Ấ|Ẩ|Ẫ|Ậ|Ằ|Ắ|Ẳ|Ẵ|Ặ|È|É|Ẻ|Ẽ|Ẹ|Ề|Ế|Ể|Ễ|Ệ|Ì|Í|Ỉ|Ĩ|Ị|Ò|Ó|Ỏ|Õ|Ọ|Ồ|Ố|Ổ|Ỗ|Ộ|Ờ|Ớ|Ở|Ỡ|Ợ|Ù|Ú|Ủ|Ũ|Ụ|Ừ|Ứ|Ử|Ữ|Ự|Ỳ|Ý|Ỷ|Ỹ|Ỵ'.split(\n",
    "        '|')\n",
    "    charutf8 = \"à|á|ả|ã|ạ|ầ|ấ|ẩ|ẫ|ậ|ằ|ắ|ẳ|ẵ|ặ|è|é|ẻ|ẽ|ẹ|ề|ế|ể|ễ|ệ|ì|í|ỉ|ĩ|ị|ò|ó|ỏ|õ|ọ|ồ|ố|ổ|ỗ|ộ|ờ|ớ|ở|ỡ|ợ|ù|ú|ủ|ũ|ụ|ừ|ứ|ử|ữ|ự|ỳ|ý|ỷ|ỹ|ỵ|À|Á|Ả|Ã|Ạ|Ầ|Ấ|Ẩ|Ẫ|Ậ|Ằ|Ắ|Ẳ|Ẵ|Ặ|È|É|Ẻ|Ẽ|Ẹ|Ề|Ế|Ể|Ễ|Ệ|Ì|Í|Ỉ|Ĩ|Ị|Ò|Ó|Ỏ|Õ|Ọ|Ồ|Ố|Ổ|Ỗ|Ộ|Ờ|Ớ|Ở|Ỡ|Ợ|Ù|Ú|Ủ|Ũ|Ụ|Ừ|Ứ|Ử|Ữ|Ự|Ỳ|Ý|Ỷ|Ỹ|Ỵ\".split(\n",
    "        '|')\n",
    "    for i in range(len(char1252)):\n",
    "        dic[char1252[i]] = charutf8[i]\n",
    "    return dic\n",
    "\n",
    "\n",
    "dicchar = loaddicchar()"
   ]
  },
  {
   "cell_type": "code",
   "execution_count": 58,
   "id": "75b48fbb",
   "metadata": {},
   "outputs": [],
   "source": [
    "# Đưa toàn bộ dữ liệu qua hàm này để chuẩn hóa lại\n",
    "def convert_unicode(txt):\n",
    "    return re.sub(\n",
    "        r'à|á|ả|ã|ạ|ầ|ấ|ẩ|ẫ|ậ|ằ|ắ|ẳ|ẵ|ặ|è|é|ẻ|ẽ|ẹ|ề|ế|ể|ễ|ệ|ì|í|ỉ|ĩ|ị|ò|ó|ỏ|õ|ọ|ồ|ố|ổ|ỗ|ộ|ờ|ớ|ở|ỡ|ợ|ù|ú|ủ|ũ|ụ|ừ|ứ|ử|ữ|ự|ỳ|ý|ỷ|ỹ|ỵ|À|Á|Ả|Ã|Ạ|Ầ|Ấ|Ẩ|Ẫ|Ậ|Ằ|Ắ|Ẳ|Ẵ|Ặ|È|É|Ẻ|Ẽ|Ẹ|Ề|Ế|Ể|Ễ|Ệ|Ì|Í|Ỉ|Ĩ|Ị|Ò|Ó|Ỏ|Õ|Ọ|Ồ|Ố|Ổ|Ỗ|Ộ|Ờ|Ớ|Ở|Ỡ|Ợ|Ù|Ú|Ủ|Ũ|Ụ|Ừ|Ứ|Ử|Ữ|Ự|Ỳ|Ý|Ỷ|Ỹ|Ỵ',\n",
    "        lambda x: dicchar[x.group()], txt)"
   ]
  },
  {
   "cell_type": "code",
   "execution_count": null,
   "id": "0613e583",
   "metadata": {},
   "outputs": [],
   "source": []
  },
  {
   "cell_type": "markdown",
   "id": "f2444beb",
   "metadata": {},
   "source": [
    "## 2. Chuẩn hoá kiểu gõ dấu\n",
    "\n",
    "VD: **òa** và **oà** là 2 từ khác nhau. <br>\n",
    "Chi tiết: [Wikipedia](https://vi.wikipedia.org/wiki/Quy_t%E1%BA%AFc_%C4%91%E1%BA%B7t_d%E1%BA%A5u_thanh_c%E1%BB%A7a_ch%E1%BB%AF_Qu%E1%BB%91c_ng%E1%BB%AF)\n"
   ]
  },
  {
   "cell_type": "code",
   "execution_count": 59,
   "id": "29f8c2dd",
   "metadata": {},
   "outputs": [
    {
     "name": "stdout",
     "output_type": "stream",
     "text": [
      "anh hòa hoà thụy thuỵ, đang làm.. gì\n"
     ]
    }
   ],
   "source": [
    "def chuan_hoa_dau_tu_tieng_viet(word):\n",
    "    if not is_valid_vietnam_word(word):\n",
    "        return word\n",
    "\n",
    "    chars = list(word)\n",
    "    dau_cau = 0\n",
    "    nguyen_am_index = []\n",
    "    qu_or_gi = False\n",
    "    for index, char in enumerate(chars):\n",
    "        x, y = nguyen_am_to_ids.get(char, (-1, -1))\n",
    "        if x == -1:\n",
    "            continue\n",
    "        elif x == 9:  # check qu\n",
    "            if index != 0 and chars[index - 1] == 'q':\n",
    "                chars[index] = 'u'\n",
    "                qu_or_gi = True\n",
    "        elif x == 5:  # check gi\n",
    "            if index != 0 and chars[index - 1] == 'g':\n",
    "                chars[index] = 'i'\n",
    "                qu_or_gi = True\n",
    "        if y != 0:\n",
    "            dau_cau = y\n",
    "            chars[index] = bang_nguyen_am[x][0]\n",
    "        if not qu_or_gi or index != 1:\n",
    "            nguyen_am_index.append(index)\n",
    "    if len(nguyen_am_index) < 2:\n",
    "        if qu_or_gi:\n",
    "            if len(chars) == 2:\n",
    "                x, y = nguyen_am_to_ids.get(chars[1])\n",
    "                chars[1] = bang_nguyen_am[x][dau_cau]\n",
    "            else:\n",
    "                x, y = nguyen_am_to_ids.get(chars[2], (-1, -1))\n",
    "                if x != -1:\n",
    "                    chars[2] = bang_nguyen_am[x][dau_cau]\n",
    "                else:\n",
    "                    chars[1] = bang_nguyen_am[5][dau_cau] if chars[1] == 'i' else bang_nguyen_am[9][dau_cau]\n",
    "            return ''.join(chars)\n",
    "        return word\n",
    "\n",
    "    for index in nguyen_am_index:\n",
    "        x, y = nguyen_am_to_ids[chars[index]]\n",
    "        if x == 4 or x == 8:  # ê, ơ\n",
    "            chars[index] = bang_nguyen_am[x][dau_cau]\n",
    "            # for index2 in nguyen_am_index:\n",
    "            #     if index2 != index:\n",
    "            #         x, y = nguyen_am_to_ids[chars[index]]\n",
    "            #         chars[index2] = bang_nguyen_am[x][0]\n",
    "            return ''.join(chars)\n",
    "\n",
    "    if len(nguyen_am_index) == 2:\n",
    "        if nguyen_am_index[-1] == len(chars) - 1:\n",
    "            x, y = nguyen_am_to_ids[chars[nguyen_am_index[0]]]\n",
    "            chars[nguyen_am_index[0]] = bang_nguyen_am[x][dau_cau]\n",
    "            # x, y = nguyen_am_to_ids[chars[nguyen_am_index[1]]]\n",
    "            # chars[nguyen_am_index[1]] = bang_nguyen_am[x][0]\n",
    "        else:\n",
    "            # x, y = nguyen_am_to_ids[chars[nguyen_am_index[0]]]\n",
    "            # chars[nguyen_am_index[0]] = bang_nguyen_am[x][0]\n",
    "            x, y = nguyen_am_to_ids[chars[nguyen_am_index[1]]]\n",
    "            chars[nguyen_am_index[1]] = bang_nguyen_am[x][dau_cau]\n",
    "    else:\n",
    "        # x, y = nguyen_am_to_ids[chars[nguyen_am_index[0]]]\n",
    "        # chars[nguyen_am_index[0]] = bang_nguyen_am[x][0]\n",
    "        x, y = nguyen_am_to_ids[chars[nguyen_am_index[1]]]\n",
    "        chars[nguyen_am_index[1]] = bang_nguyen_am[x][dau_cau]\n",
    "        # x, y = nguyen_am_to_ids[chars[nguyen_am_index[2]]]\n",
    "        # chars[nguyen_am_index[2]] = bang_nguyen_am[x][0]\n",
    "    return ''.join(chars)\n",
    "\n",
    "\n",
    "def is_valid_vietnam_word(word):\n",
    "    chars = list(word)\n",
    "    nguyen_am_index = -1\n",
    "    for index, char in enumerate(chars):\n",
    "        x, y = nguyen_am_to_ids.get(char, (-1, -1))\n",
    "        if x != -1:\n",
    "            if nguyen_am_index == -1:\n",
    "                nguyen_am_index = index\n",
    "            else:\n",
    "                if index - nguyen_am_index != 1:\n",
    "                    return False\n",
    "                nguyen_am_index = index\n",
    "    return True\n",
    "\n",
    "\n",
    "def chuan_hoa_dau_cau_tieng_viet(sentence):\n",
    "    \"\"\"\n",
    "        Chuyển câu tiếng việt về chuẩn gõ dấu kiểu cũ.\n",
    "        :param sentence:\n",
    "        :return:\n",
    "        \"\"\"\n",
    "    sentence = sentence.lower()\n",
    "    words = sentence.split()\n",
    "    for index, word in enumerate(words):\n",
    "        cw = re.sub(r'(^p{P}*)([p{L}.]*p{L}+)(p{P}*$)',\n",
    "                    r'1/2/3', word).split('/')\n",
    "        # print(cw)\n",
    "        if len(cw) == 3:\n",
    "            cw[1] = chuan_hoa_dau_tu_tieng_viet(cw[1])\n",
    "        words[index] = ''.join(cw)\n",
    "    return ' '.join(words)\n",
    "\n",
    "\n",
    "\"\"\"\n",
    "    End section: Chuyển câu văn về cách gõ dấu kiểu cũ: dùng òa úy thay oà uý\n",
    "    Xem tại đây: https://vi.wikipedia.org/wiki/Quy_tắc_đặt_dấu_thanh_trong_chữ_quốc_ngữ\n",
    "\"\"\"\n",
    "# if __name__ == '__main__':\n",
    "print(chuan_hoa_dau_cau_tieng_viet('anh hòa hoà thụy thuỵ, đang làm.. gì'))"
   ]
  },
  {
   "cell_type": "markdown",
   "id": "30463bb1",
   "metadata": {},
   "source": [
    "## 3. Tách từ\n",
    "\n",
    "Học sinh học sinh học => Học_sinh học sinh_học\n"
   ]
  },
  {
   "cell_type": "code",
   "execution_count": 60,
   "id": "e271af5d",
   "metadata": {},
   "outputs": [
    {
     "name": "stdout",
     "output_type": "stream",
     "text": [
      "Tôi là sinh_viên trường đại_học bách_khoa hà_nội\n"
     ]
    }
   ],
   "source": [
    "from underthesea import word_tokenize\n",
    "\n",
    "sentence = \"Tôi là sinh viên trường đại học bách khoa hà nội\"\n",
    "print(word_tokenize(sentence, format=\"text\"))"
   ]
  },
  {
   "cell_type": "markdown",
   "id": "11fc2d52",
   "metadata": {},
   "source": [
    "## 4. Đưa về chữ thường\n"
   ]
  },
  {
   "cell_type": "markdown",
   "id": "9a72491d",
   "metadata": {},
   "source": [
    "## 5. Xoá kí tự ko cần thiết\n"
   ]
  },
  {
   "cell_type": "markdown",
   "id": "80bc62c7",
   "metadata": {},
   "source": [
    "# Hàm tiền xử lý\n"
   ]
  },
  {
   "cell_type": "code",
   "execution_count": 61,
   "id": "908581a7",
   "metadata": {},
   "outputs": [
    {
     "name": "stdout",
     "output_type": "stream",
     "text": [
      "tp hcm là thành_phố lớn nhất việt_nam\n"
     ]
    }
   ],
   "source": [
    "import regex as re\n",
    "\n",
    "\n",
    "def text_preprocess(document):\n",
    "    # chuẩn hóa unicode\n",
    "    # document = convert_unicode(document)\n",
    "    # chuẩn hóa cách gõ dấu tiếng Việt\n",
    "    # document = chuan_hoa_dau_cau_tieng_viet(document)\n",
    "    # tách từ\n",
    "    document = word_tokenize(document, format=\"text\")\n",
    "    # đưa về lower\n",
    "    document = document.lower()\n",
    "    # xóa các ký tự không cần thiết\n",
    "    # document = re.sub(\n",
    "    #     r'[^swáàảãạăắằẳẵặâấầẩẫậéèẻẽẹêếềểễệóòỏõọôốồổỗộơớờởỡợíìỉĩịúùủũụưứừửữựýỳỷỹỵđ_]', ' ', document)\n",
    "    # xóa khoảng trắng thừa\n",
    "    document = re.sub(r'\\s+', ' ', document).strip()\n",
    "    return document\n",
    "\n",
    "\n",
    "documents = 'TP HCM là thành phố lớn nhất Việt Nam'\n",
    "print(text_preprocess(documents))"
   ]
  },
  {
   "cell_type": "markdown",
   "id": "fa2e1443",
   "metadata": {},
   "source": [
    "# Xây dựng mô hình phân loại\n"
   ]
  },
  {
   "cell_type": "markdown",
   "id": "88c5ff47",
   "metadata": {},
   "source": [
    "## 1. Xây dựng tập train / test\n"
   ]
  },
  {
   "cell_type": "code",
   "execution_count": 62,
   "id": "c53bcf0c",
   "metadata": {},
   "outputs": [
    {
     "name": "stdout",
     "output_type": "stream",
     "text": [
      "['Access point (Wifi)', 'Ampe kìm', 'Amplifier', 'Amplifier Hi-End', 'An toàn cho bé khi đi ô tô', 'An toàn cho trẻ', 'Ba lô học sinh', 'Ba lô leo núi, du lịch', 'Baga xe máy', 'Balo thời trang', 'Bao bì thực phẩm', 'Bao cao su', 'Bao cố định chấn thương', 'Bao đựng, ốp lưng điện thoại', 'Barie tự động', 'Bia', 'Biến tần', 'Biến áp máy cấp nguồn đa năng', 'Biển báo giao thông', 'Biển chỉ', 'Biển, bảng, đèn thông báo ( Led )', 'Block điều hòa', 'Bluetooth USB Adapter', 'Board mạch điều khiển', 'Body liền cho bé', 'Boot nữ', 'Bu lông, tắc kê', 'Buồng tắm đa năng', 'Buộc tóc', 'Buộc tóc trẻ em', 'Bài vị thờ', 'Bàn Billiard (Bi A)', 'Bàn cafe ( café)', 'Bàn chơi game - Bàn phòng Game', 'Bàn chải đánh răng', 'Bàn chế biến thực phẩm', 'Bàn chụp sản phẩm', 'Bàn ghế học tập và giảng dạy', 'Bàn ghế nhà hàng, khách sạn', 'Bàn ghế nhựa', 'Bàn ghế phòng khách', 'Bàn ghế phòng ngủ', 'Bàn ghế phòng thí nghiệm', 'Bàn ghế sân vườn', 'Bàn ghế trang điểm', 'Bàn ghế trẻ em', 'Bàn giám đốc', 'Bàn họp', 'Bàn là', 'Bàn làm việc văn phòng', 'Bàn lạnh pizza', 'Bàn mổ, giường khám', 'Bàn phím', 'Bàn phím Game thủ', 'Bàn phím laptop', 'Bàn phím điều khiển', 'Bàn phím điện thoại', 'Bàn quầy, bàn lễ tân', 'Bàn thờ treo', 'Bàn trà đa năng', 'Bàn vi tính', 'Bánh chocolate', 'Bánh kem xốp', 'Bánh khác', 'Bánh ngũ cốc', 'Bánh pía', 'Bánh trung thu', 'Bánh xe đẩy', 'Bát hương', 'Bát, đĩa ...', 'Bê tông, vữa', 'Bìa', 'Bình (lọ) hoa thờ', 'Bình chữa cháy', 'Bình giữ nóng trà, cafe', 'Bình khí nén', 'Bình nóng lạnh', 'Bình phong tre', 'Bình sữa và phụ kiện', 'Bình thủy, Phích điện', 'Bình trà, bộ ấm chén', 'Bình tích áp máy bơm', 'Bình uống nước cho bé', 'Bình đựng nước', 'Bình, Lọ hoa', 'Bình, thùng đá nhựa', 'Bóng Tennis', 'Bóng chuyền', 'Bóng rổ', 'Bóng đèn', 'Bô, thùng rác cho bé', 'Bông tai, hoa tai nữ', 'Bông trang điểm', 'Bông tẩy trang, giấy thấm dầu', 'Bông, băng, gạc', 'Búa cầm tay', 'Búa thoát hiểm Ô tô', 'Búp bê', 'Bút', 'Bút cao cấp', 'Bút kẻ lông mày', 'Bút kẻ mắt nước', 'Bút kẻ viền môi', 'Bút đo nhiệt kế, Cặp nhiệt độ', 'Bút đánh dấu bề mặt', 'Băng keo chịu lực', 'Băng keo, hồ dán', 'Băng mực cho máy in Kim', 'Băng vệ sinh', 'Bơ, pho mát (cheese)', 'Bơm hút chân không', 'Bơm ly tâm', 'Bơm nước Ôtô', 'Bơm tay thủy lực', 'Bơm thùng phuy', 'Bơm thả chìm', 'Bơm thủy lực', 'Bơm Ôtô', 'Bơm định lượng', 'Bạc biên Ô tô', 'Bạc đạn, Vòng bi, vòng đệm', 'Bạt phủ xe máy', 'Bạt phủ Ô tô', 'Bạt, mái che', 'Bản lề', 'Bản lề laptop', 'Bảng', 'Bảng điện tử', 'Bảo vệ, chống nóng cho ô tô', 'Bấm ghim, đục lỗ', 'Bật lửa, hộp quẹt', 'Bếp gas', 'Bếp gas âm', 'Bếp hầm', 'Bếp hồng ngoại', 'Bếp nướng', 'Bếp nướng thịt Doner', 'Bếp nướng xúc xích', 'Bếp rán', 'Bếp từ', 'Bếp á', 'Bếp âu', 'Bếp điện', 'Bể bơi mini', 'Bể cá', 'Bể rửa siêu âm', 'Bệ bước Ôtô', 'Bệt Toilet tự động', 'Bệt toilet', 'Bỉm, quần tã', 'Bọc ghế - Lót ghế', 'Bọc tay lái', 'Bố thắng (má phanh) xe máy', 'Bồn ngâm chân', 'Bồn nước', 'Bồn rửa y tế', 'Bồn tắm góc (bồn ngâm)', 'Bồn tắm góc massage', 'Bồn tắm massage', 'Bồn tắm nằm (bồn ngâm)', 'Bồn tắm đứng (vách kính)', 'Bộ Timer hẹn giờ', 'Bộ bàn ghế ( phòng ăn, bếp )', 'Bộ bàn ghế cafe', 'Bộ bàn phím & Chuột', 'Bộ bàn tủ thờ', 'Bộ bình thở ( bộ bình khí o2 )', 'Bộ chia màn hình', 'Bộ chuyển đổi - Converter', 'Bộ chuyển đổi quang điện (Converter)', 'Bộ chìa lục giác ( lục lăng )', 'Bộ chăn ga gối đệm', 'Bộ chổi trang điểm', 'Bộ chụp sản phẩm', 'Bộ cờ lê', 'Bộ dụng cụ sửa chữa tổng hợp', 'Bộ ga và đệm cho cũi', 'Bộ giũa', 'Bộ giải mã DAC', 'Bộ hàn, cắt gió đá', 'Bộ khẩu, tay khẩu', 'Bộ liên hoàn trong nhà', 'Bộ lưu điện (UPS)', 'Bộ lưu điện cho cửa cuốn', 'Bộ lọc khí', 'Bộ mỹ phẩm chăm sóc da', 'Bộ mỹ phẩm chăm sóc tóc', 'Bộ mỹ phẩm tổng hợp', 'Bộ phòng ngủ', 'Bộ phụ kiện phòng tắm', 'Bộ phụ kiện điện thoại', 'Bộ quần áo lót nữ', 'Bộ quần áo nam', 'Bộ quần áo nữ', 'Bộ quần áo thể thao nam', 'Bộ quần áo thể thao nữ', 'Bộ sập tủ chè', 'Bộ thiết bị phòng tắm', 'Bộ trang sức, nữ trang', 'Bộ trang điểm', 'Bộ trả nước về bể bơi', 'Bộ trễ Delay bảo vệ tủ lạnh', 'Bộ trống', 'Bộ trống điện tử', 'Bộ trộn âm (Mixer)', 'Bộ típ ( bộ tuýp )', 'Bộ tản nhiệt CPU laptop', 'Bộ điều khiển máy móc', 'Bộ điều khiển nguồn điện', 'Bộ điều khiển nhiệt độ', 'Bộ điều khiển van khí nén', 'Bộ điều khiển điện tử', 'Bộ đèn trang trí', 'Bộ đồ chế biến ăn dặm cho bé', 'Bộ đồ nấu bếp', 'Bộ đồ sơ sinh', 'Bộ đồ ăn cho bé', 'Bộ đồ đôi', 'Bộ đục', 'Bột giặt', 'Bột giặt, nước xả cho bé', 'Bột màu công nghiệp', 'Bột ngũ cốc', 'Bột đá (CaCO3)', 'Bột đậu đỏ', 'Bục phát biểu', 'CPU Server', 'CPU laptop', 'Ca, nắp nhựa', 'Camera IP', 'Camera giám sát', 'Camera hành trình Ôtô', 'Cao dán', 'Cao su công nghiệp', 'Cao áp màn hình laptop', 'Caravat nam', 'Card kỹ xảo', 'Card mở rộng', 'Các loại phần mềm khác', 'Chai, lọ, can', 'Che khuyết điểm', 'Chiết áp', 'Chiếu', 'Cho bé sơ sinh', 'Cho thuê trang thiết bị tổ chức sự kiện', 'Cho thuê xe du lịch', 'Chocolate', 'Chuyển phát nhanh', 'Chuông cửa', 'Chuông cửa có màn hình', 'Chuông, còi báo cháy', 'Chuồng trại chăn nuôi', 'Chuồng, cũi cho vật nuôi', 'Chuột máy tính ( Mouse)', 'Cháo ăn liền', 'Chân máy quay', 'Chân máy ảnh (Tripod)', 'Chân váy', 'Chân đế bàn ghế', 'Chì hàn, thiếc hàn', 'Chì kẻ viền mắt', 'Chìa khóa (Remote) Ôtô', 'Chìa lục giác', 'Chó cảnh', 'Chóa đèn', 'Chăm sóc cơ thể', 'Chăm sóc mẹ khi sinh', 'Chăm sóc răng miệng', 'Chăn', 'Chăn cho bé', 'Chăn điện', 'Chăn ủ cho bé', 'Chạm đồng', 'Chảo', 'Chấn lưu', 'Chất rửa chén, bát', 'Chất tẩy rửa', 'Chậu hoa, đôn hoa', 'Chậu rửa (Lavabo) khác', 'Chậu rửa Lavabo treo tường', 'Chậu rửa Lavabo âm bàn', 'Chậu rửa Lavabo để bàn', 'Chậu rửa bát có bàn', 'Chậu rửa bát có hộp Inox', 'Chậu rửa bát không bàn', 'Chậu rửa bát không bàn lắp âm bàn', 'Chậu rửa khẩn cấp', 'Chắn bùn xe máy', 'Chặn lùi xe, định vị bánh xe', 'Chỉ phẫu thuật', 'Chống ẩm, khử mùi, xịt phòng các loại', 'Chống ồn Ô tô', 'Chụp khí', 'Chụp ảnh nghệ thuật', 'Compa', 'Connectors - Đầu nối', 'Contactor ( công tắc tơ )', 'Cua', 'Cua biển - Ghẹ biển', 'Cung cấp công nghệ', 'Cung cấp trang phục tổ chức sự kiện', 'Cung cấp trang thiết bị tổ chức sự kiện', 'Cup, huy chương, biểu trưng', 'Cà phê giảm cân', 'Cà phê hòa tan', 'Cà phê hạt', 'Cà phê phin', 'Cá', 'Cá khô', 'Các linh kiện khác (máy tính)', 'Các loại kem phấn cho bé', 'Các loại máy khác', 'Các loại móc', 'Các loại nước hoa khác', 'Các loại phụ kiện ô tô khác', 'Các loại vật liệu hoàn thiện khác', 'Các món ăn khác', 'Các phụ kiện điện thoại khác', 'Các phụ tùng xe máy khác', 'Các phụ tùng xe đạp khác', 'Các sản phẩm cơ khí khác', 'Các sản phẩm khác', 'Các sản phẩm nhựa khác', 'Các thiết bị tản nhiệt', 'Các vật tư phụ', 'Các đồ dùng bơi lội khác', 'Cáp kết nối tivi', 'Cáp màn hình laptop', 'Cáp thép', 'Cáp usb - USB cable', 'Cáp viễn thông', 'Cáp điện', 'Cáp đồng trục', 'Cân bàn', 'Cân chiết rót', 'Cân nhà bếp', 'Cân phân tích', 'Cân sức khoẻ', 'Cân điện tử khác', 'Cân định lượng', 'Cây Inox', 'Cây cảnh Tết', 'Cây giả - Hoa giả nghệ thuật', 'Cây nước nóng lạnh', 'Cây nội thất', 'Cầu nâng xe máy', 'Còi xe máy', 'Còi ô tô', 'Công tơ điện', 'Công tắc ba', 'Công tắc cảm ứng', 'Công tắc cảm ứng chuyển động', 'Công tắc gạt', 'Công tắc hành trình', 'Công tắc hẹn giờ ( công tắc đồng hồ )', 'Công tắc đôi', 'Công tắc đơn', 'Cưa tay', 'Cảm biến lực', 'Cảm biến nhiệt độ', 'Cảm biến tiệm cận', 'Cảm biến từ', 'Cảm biến Ô tô', 'Cảm biến áp lực ( áp suất )', 'Cảm biến đo tốc độ', 'Cảo - Vam', 'Cần câu', 'Cần cẩu', 'Cần xiết lực', 'Cầu dao tự động ( Aptomat )', 'Cầu nâng', 'Cầu thang gỗ', 'Cầu trượt', 'Cặp học sinh', 'Cặp, túi đựng laptop', 'Cọ trang điểm', 'Cọc tiêu giao thông', 'Cỏ nhân tạo', 'Cốc giấy', 'Cốc, chén ...', 'Cốp pha', 'Cồn công nghiệp', 'Cổng chia, gộp, chuyển tín hiệu (Hình ảnh)', 'Cổng trượt', 'Cổng từ dò kim loại', 'Cổng từ kiểm soát ra vào', 'Cổng tự động', 'Cổng xếp', 'Cột ngăn', 'Cột nước, vòi phun', 'Cờ lê', 'Cừ thép ( thép cọc cừ )', 'Cửa chống cháy', 'Cửa cuốn', 'Cửa gỗ', 'Cửa kéo', 'Cửa kính', 'Cửa lùa', 'Cửa nhựa', 'Cửa nhựa lõi thép', 'Cửa tự động', 'Cửa đi mở quay ra ngoài', 'Dao cạo, bàn cạo râu', 'Dao cắt ống', 'Dao kỹ thuật', 'Dao rọc giấy', 'Dao đa năng', 'Dao, kéo, dụng cụ cắt gọt ...', 'Display (màn hình Laptop)', 'Docking stations (Đế cắm thêm)', 'Downlight', 'Dung dịch rửa tay', 'Dung dịch tẩy rửa', 'Dung dịch vệ sinh phụ nữ', 'Dung dịch xả', 'Duỡng tóc, tạo kiểu cho nam', 'Dàn karaoke', 'Dàn âm thanh', 'Dây Curoa công nghiệp', 'Dây chuyền nam', 'Dây chuyền, vòng cổ nữ', 'Dây câu', 'Dây công nghiệp', 'Dây dẫn Hi-End', 'Dây hàn, cáp hàn', 'Dây lưng (thắt lưng) nam', 'Dây lưng (thắt lưng) nữ', 'Dây lưng, đai an toàn', 'Dây mạng', 'Dây nối (Cable)', 'Dây phao bể bơi', 'Dây thép', 'Dây thắt thời trang nam', 'Dây thắt thời trang nữ', 'Dây đai', 'Dây đeo máy ảnh, máy quay', 'Dây điện', 'Dây đồng hồ', 'Dép, Sandal nam', 'Dép, Sandal nữ', 'Dép, Sandal trẻ em', 'Dưỡng móng', 'Dưỡng môi', 'Dải phân cách', 'Dầu gội đầu', 'Dầu gội đầu nam', 'Dầu nhớt cho động cơ xe máy', 'Dầu xả', 'Dầu ăn', 'Dầu, nhớt công nghiệp', 'Dầu, nhớt, dung dịch bảo dưỡng', 'Dịch vụ câu cá', 'Dịch vụ cắt, khắc laser', 'Dịch vụ gia công, chế tạo', 'Dịch vụ luật khác', 'Dịch vụ sửa chữa thiết bị', 'Dịch vụ sửa chữa điện thoại', 'Dịch vụ tháo dỡ và di chuyển', 'Dịch vụ thẩm mỹ', 'Dụng cụ bóng chuyền', 'Dụng cụ bổ trợ may', 'Dụng cụ cho vật nuôi', 'Dụng cụ chỉnh sửa móng', 'Dụng cụ cách điện', 'Dụng cụ cố định ngoài xương', 'Dụng cụ dán mi', 'Dụng cụ gá cặp', 'Dụng cụ hỗ trợ tỉa, vẽ lông mày', 'Dụng cụ massage', 'Dụng cụ ngư nghiệp', 'Dụng cụ nha khoa', 'Dụng cụ niêm phong hàng hóa', 'Dụng cụ nẹp DHS-DCS', 'Dụng cụ siết mở ốc, vít', 'Dụng cụ sửa chữa', 'Dụng cụ tai mũi họng khác', 'Dụng cụ thi công cáp quang', 'Dụng cụ thí nghiệm', 'Dụng cụ thể hình khác', 'Dụng cụ trang điểm khác', 'Dụng cụ trồng cây, làm vườn', 'Dụng cụ tập bụng', 'Dụng cụ tập luyện võ thuật', 'Dụng cụ tập luyện, thi đấu (võ thuật, yoga)', 'Dụng cụ xây dựng cầm tay', 'Dụng cụ y tế khác', 'Dụng cụ ăn uống vật nuôi', 'Dụng cụ đo ren', 'Dụng cụ đo, kiểm tra khác', 'Dụng cụ đựng & Chế biến thực phẩm', 'Dụng cụ đựng hóa chất', 'Dụng cụ, thiết bị sửa chữa Xe máy', 'Dụng cụ, thiết bị sửa chữa Ôtô', 'Fibre Media Converter', 'File tài liệu', 'Flycam', 'GPS - Hệ thống định vị vệ tinh trên Ô tô', 'Ga thoát sàn', 'Ga trải giường', 'Gaming Mouse - Chuột game thủ', 'Gel bôi trơn', 'Ghim bấm', 'Ghép hình công trình nổi tiếng', 'Ghép hình khối', 'Ghép hình lâu đài', 'Ghép hình máy bay', 'Ghép hình nhà cửa', 'Ghép hình nhân vật', 'Ghép hình xe cộ', 'Ghép hình động vật', 'Ghế Sun Lounger', 'Ghế băng công cộng', 'Ghế cafe ( café)', 'Ghế chơi game - Ghế phòng game', 'Ghế cắt tóc', 'Ghế giám đốc', 'Ghế gội đầu', 'Ghế hội trường, rạp hát', 'Ghế nằm (relax)', 'Ghế phòng chờ', 'Ghế phòng họp', 'Ghế thư giãn ( ghế xích đu )', 'Ghế tập ăn, ghế rung cho bé', 'Ghế văn phòng', 'Ghế xếp Folding', 'Gia vị rắc cơm', 'Gioăng cửa', 'Giàn giáo', 'Giàn năng lượng mặt trời ( Máy nước nóng năng lượng mặt trời )', 'Giàn phơi', 'Giày (vớ) sơ sinh', 'Giày bóng rổ', 'Giày bóng đá nam', 'Giày bệt nữ', 'Giày cao gót', 'Giày cầu lông', 'Giày da nam', 'Giày gót thấp', 'Giày tennis nam', 'Giày thể thao nam', 'Giày thể thao nữ', 'Giày thể thao trẻ em', 'Giày trẻ em', 'Giày vải nam', 'Giày, dép khác', 'Giá treo màn hình', 'Giá vẽ cho bé', 'Giá để dụng cụ sửa chữa Ô tô', 'Giá đỡ điện thoại', 'Giá, kệ quán cafe', 'Giá, kệ để hàng', 'Giá, kệ để đồ trẻ em', 'Giá, kệ, tủ văn phòng khác', 'Giá, móc treo quần áo', 'Giá, tủ, kệ đựng đĩa CD', 'Giường', 'Giường cũi trẻ em', 'Giường trẻ em', 'Giấy', 'Giấy công nghiệp', 'Giấy dán kính', 'Giấy dán tường', 'Giấy in ảnh', 'Giấy thơm quần áo', 'Giấy ướt, giấy lót xu...', 'Giầy, ủng bảo hộ', 'Giỏ, khay, kệ', 'Giống cây trồng', 'Gáy lò xo đóng sổ', 'Gói cước 3G', 'Găng tay bảo hộ', 'Găng tay, tất tay', 'Gương chiếu hậu xe đạp', 'Gương cầu lồi', 'Gương phòng tắm', 'Gương soi treo tường', 'Gương trang điểm', 'Gương đèn trang trí', 'Gương, kính ô tô', 'Gạch bông', 'Gạch granite', 'Gạch không nung siêu nhẹ', 'Gạch lát nền', 'Gạch trang trí', 'Gạch tự chèn ( gạch block )', 'Gạch xây', 'Gạch ốp lát', 'Gạt mưa Ôtô', 'Gậy leo núi', 'Gậy đánh Golf', 'Gọng kính thuốc', 'Gọng kính thời trang', 'Gối', 'Gối cho bé', 'Gối trang trí', 'Gối ô tô', 'Gối ôm', 'Gỗ mỹ nghệ', 'Gỗ thông', 'Gờ giảm tốc', 'HDD 3.5 Inch (Ổ cứng Desktop)', 'HDD box', 'HDD di động (Ổ cứng cắm ngoài)', 'Head Phone - Tai nghe', 'Hoa chúc mừng', 'Hoa cưới', 'Hoa khô', 'Hoa quả, trái cây', 'Hoa sinh nhật', 'Hoa trang trí', 'Hoa tình yêu', 'Hoa văn phòng', 'Hot Deal Spa, sức khỏe', 'Hot Deal Thời trang', 'Hot Deal Đào tạo', 'Hot Deal Ẩm thực', 'Hoành phi, câu đối', 'Hub - Switch', 'Hàng rào', 'Hình xăm thời trang', 'Hóa chất công nghiệp', 'Hóa chất thí nghiệm', 'Hóa chất tinh khiết', 'Hóa chất xây dựng', 'Hóa chất xử lý chất thải', 'Hương đốt (nhang)', 'Hạc thờ', 'Hạt khô, khoai chiên, bắp rang, hoa quả sấy', 'Hạt mạng (Conector)', 'Hạt nêm', 'Hạt tiêu', 'Hệ giàn thép', 'Hệ thống camera giám sát', 'Hệ thống kiểm soát ra vào', 'Hệ thống xử lý bụi, thông gió', 'Hệ thống xử lý chất thải', 'Hộp box điện', 'Hộp giảm tốc', 'Hộp giữ nhiệt thức ăn cho bé', 'Hộp nối, hộp chia ngả ( cho ống luồn dây điện )', 'Hộp tỳ tay trên Ô tô', 'Hộp đựng giấy phòng tắm', 'Hộp đựng kính', 'Hộp, khay nhựa', 'Hộp, tủ phối quang', 'In bao bì, nhãn mác', 'In trên vật liệu khác', 'In túi giấy', 'Jack chuyển tai nghe', 'Kem lót', 'Kem nền nữ', 'Kem tẩy da chết toàn thân', 'Kem tắm trắng', 'Kem đánh răng', 'Keo công nghiệp', 'Khay mực in', 'Khay đựng hoa quả', 'Khay đựng thức ăn, đồ uống', 'Khay, hộp tre', 'Khay, hộp đựng xà phòng ( xà bông )', 'Khu nghỉ dưỡng Hòa Bình', 'Khung kéo phông', 'Khung tranh', 'Khung treo tivi', 'Khung, album ảnh', 'Khuôn cửa, khung cửa', 'Khuôn hàn', 'Khuôn mẫu các loại', 'Khóa', 'Khóa chống trộm xe máy', 'Khóa cửa bằng vân tay', 'Khóa cửa sử dụng thẻ từ', 'Khóa điện tử', 'Khăn giấy ướt', 'Khăn khách sạn', 'Khăn nữ', 'Khăn trải bàn, khăn ăn ...', 'Khăn tắm cho bé', 'Khăn tắm, khăn mặt ...', 'Khẩu trang', 'Khẩu trang bảo hộ', 'Khử mùi,Hút mùi Ôtô', 'Kim loại và hợp kim', 'Kim xăm', 'Kèn Saxophone', 'Kéo', 'Kéo cắt công nghiệp', 'Kéo, dao cạo', 'Két bán hàng', 'Két sắt, két bạc', 'Kìm', 'Kìm bấm cáp', 'Kích thuỷ lực ( Con đội thủy lực )', 'Kính hiển vi', 'Kính hiển vi phẫu thuật', 'Kính lúp', 'Kính lúp công nghiệp', 'Kính lọc (Filter)', 'Kính mắt Hồng Kông nữ', 'Kính mắt Trung Quốc nam', 'Kính mắt bảo hộ', 'Kính mắt hàng hiệu nam', 'Kính mắt hàng hiệu nữ', 'Kính mắt hàng hiệu trẻ em', 'Kính xem phim 3D (3D Glasses)', 'Kính áp tròng', 'Kính ốp', 'Kẹo cao su', 'Kẹo chocolate', 'Kẹo hoa quả', 'Kẹo mềm, dẻo', 'Kẹo sâm', 'Kẹo sữa', 'Kẹo trà xanh', 'Kẹp bướm', 'Kẹp số bàn', 'Kẹp tóc, cặp tóc', 'Kẹp tóc, cặp tóc trẻ em', 'Kẹp đa năng', 'Kệ kính phòng tắm', 'Kệ tivi', 'Kệ đựng đồ phòng tắm', 'LED Displays - bóng đèn LED', 'LED trang trí, quảng cáo', 'La bàn điện tử', 'Laptop, Tablet Trung Quốc', 'Lá côn Ô tô', 'Lens Mount', 'Linh kiện máy in', 'Linh kiện máy nghe nhạc', 'Linh kiện máy photocopy', 'Linh kiện điện tử', 'Linh kiện, chân sạc, cáp trong điện thoại', 'Linh kiện, phụ kiện đồ chơi', 'Loa che nắng (Hood)', 'Loa máy tính', 'Loa nghe nhạc', 'Loa ngoài cho laptop, máy nghe nhạc', 'Loa ngoài điện thoại', 'Loa phóng thanh', 'Loa trang trí', 'Loa trong laptop', 'Loa ôtô', 'Logo, Decal Xe máy', 'Logo, poster, đề can', 'Logo, đề can', 'Lò nướng', 'Lò xo uốn ống ( cho ống luồn dây điện )', 'Lò xông, tinh dầu', 'Lót ly, treo ly, gạt tàn ...', 'Lõi lọc nước', 'Lư hương', 'Lưới an toàn', 'Lưới giặt', 'Lưới thép', 'Lưới địa kỹ thuật, lưới xây dựng', 'Lưỡi câu', 'Lưỡi cưa, lưỡi cắt', 'Lạc', 'Lắc tay bạc nữ', 'Lắc tay nam', 'Lắc tay nữ', 'Lắc tay đá phong thủy', 'Lắc tay đôi', 'Lều chơi', 'Lều, bạt', 'Lịch', 'Lọc dầu Ô tô', 'Lọc gió Ôtô', 'Lốp xe máy', 'Lốp xe nâng', 'Lốp xe ôtô', 'Lồng chụp sản phẩm', 'Mac Accessories', 'MacBook', 'Mainboard', 'Mainboard Laptop', 'Manơ Canh', 'Mascara', 'Máy cân bằng bánh xe Ôtô', 'Máy tháo lắp lốp xe máy', 'Máy tháo lắp lốp Ôtô', 'Men bia, rượu', 'Mi giả', 'Micro ghi âm camera', 'Microphone', 'Miếng dán trắng răng', 'Mobile', 'Modem quang', 'Module quang', 'Mousepad (Bàn di chuột)', 'Mua xe trả góp', 'Muối tắm', 'Màn (mùng) cho bé', 'Màn chiếu Projector', 'Màn hình', 'Màn hình LCD quảng cáo - đa dụng', 'Màn hình Mobile, PDA phone', 'Màn hình máy tính LCD', 'Màn ngăn PVC', 'Màu mắt', 'Máng đèn', 'Máy bay điều khiển từ xa', 'Máy biến áp', 'Máy bào gỗ', 'Máy băm rau cỏ cho gia súc, gia cầm', 'Máy bơm bể bơi', 'Máy bơm chữa cháy', 'Máy bơm hút dầu, mỡ', 'Máy bơm nước công nghiệp', 'Máy bơm nước gia dụng', 'Máy bơm thoát nước thải', 'Máy bơm và hút dầu thải xe máy', 'Máy bơm, lọc bể cá', 'Máy bắn tia nước cao áp', 'Máy bắt muỗi', 'Máy bộ đàm cầm tay', 'Máy chiết rót', 'Máy chà sàn', 'Máy chưng cất rượu', 'Máy chấm công', 'Máy chế biến thực phẩm khác', 'Máy cày, xới đất', 'Máy cán bột ( nghiền bột , xay bột )', 'Máy cân bằng tia Laser', 'Máy câu', 'Máy cưa bàn trượt', 'Máy cưa vanh', 'Máy cưa xích', 'Máy cưa xương (máy chặt xương)', 'Máy cưa đĩa', 'Máy cạo râu', 'Máy cất nước', 'Máy cấy', 'Máy cắt CNC', 'Máy cắt Plasma', 'Máy cắt cỏ', 'Máy cắt khuôn mẫu may công nghiệp', 'Máy cắt laser', 'Máy cắt nhôm', 'Máy cắt sắt', 'Máy cắt vòng', 'Máy cắt đá', 'Máy dán cạnh', 'Máy dán miệng cốc', 'Máy dán nhãn tự động', 'Máy dán thùng carton', 'Máy dò kim loại công nghiệp', 'Máy ghi âm', 'Máy ghi âm điện thoại', 'Máy gia công thanh cái', 'Máy gieo hạt, xới cỏ và bón phân', 'Máy giám sát bảo vệ', 'Máy giặt', 'Máy giặt công nghiệp', 'Máy giặt thảm', 'Máy hiện sóng', 'Máy hàn CO2/MAG', 'Máy hàn Mig/Mag', 'Máy hàn TIG', 'Máy hàn công nghiệp', 'Máy hàn que', 'Máy hàn ống', 'Máy hút bụi', 'Máy hút bụi công nghiệp', 'Máy hút chân không', 'Máy hút khử mùi công nghiệp', 'Máy hút mùi', 'Máy hút ẩm', 'Máy hút ẩm công nghiệp', 'Máy hủy tài liệu', 'Máy in', 'Máy in 3D', 'Máy in All in One', 'Máy in hóa đơn', 'Máy in khổ lớn', 'Máy in laser đen trắng', 'Máy in mã ngày', 'Máy in mã vạch', 'Máy in nhãn mác', 'Máy in phun', 'Máy khoan bàn', 'Máy khoan cầm tay', 'Máy khoan ổ khóa, bản lề', 'Máy khoan, đục bê tông', 'Máy khác', 'Máy khò', 'Máy kiểm kho', 'Máy kiểm vải', 'Máy li tâm', 'Máy làm kem', 'Máy làm khăn sạch', 'Máy làm lạnh nước', 'Máy làm lạnh nước hoa quả', 'Máy làm mát di động', 'Máy làm mát không khí công nghiệp', 'Máy làm sushi', 'Máy làm sữa chua', 'Máy làm sữa đậu nành', 'Máy làm vỏ ốc quế', 'Máy làm đá siêu tốc', 'Máy làm đẹp da', 'Máy lọc không khí', 'Máy lọc nước', 'Máy lọc thông minh cho bể bơi', 'Máy lọc, khử độc tố rượu', 'Máy massage toàn thân', 'Máy may công nghiệp', 'Máy mài cầm tay', 'Máy mài góc', 'Máy mài khuôn', 'Máy nghe nhạc Mp4', 'Máy nghiền dược liệu', 'Máy nghiền thức ăn chăn nuôi', 'Máy nén khí', 'Máy nén khí piston', 'Máy nén khí trục vít', 'Máy nước nóng bơm nhiệt', 'Máy nạp ắc quy', 'Máy nổ ngô', 'Máy pha cafe', 'Máy phay gỗ', 'Máy photocopy cũ', 'Máy phun rửa áp lực', 'Máy phun sơn', 'Máy phun sương', 'Máy phun sương tăng độ ẩm', 'Máy phun thuốc khử trùng', 'Máy phun, xịt côn trùng', 'Máy phát điện công nghiệp', 'Máy phát điện dân dụng', 'Máy rang cà phê', 'Máy rang hạt nông sản', 'Máy rung khí nén', 'Máy rút màng co ( máy hút màng co )', 'Máy rửa bát', 'Máy rửa chén, bát công nghiệp', 'Máy rửa rau quả, thực phẩm', 'Máy sinh hóa', 'Máy sản xuất đá viên', 'Máy sấy công nghiệp', 'Máy sấy khí nén', 'Máy sấy khô bát', 'Máy sấy tóc', 'Máy sốc tim', 'Máy sủi', 'Máy taro (Máy khoan tạo ren)', 'Máy thu hoạch khoai tây', 'Máy thái lát thịt', 'Máy thái rau, củ', 'Máy thông tắc ( ống, cống )', 'Máy thùa khuy', 'Máy thổi khí', 'Máy tiện CNC', 'Máy tiệt trùng', 'Máy tiệt trùng - Hâm sữa', 'Máy trộn bê tông', 'Máy trộn bột', 'Máy tách màu gạo', 'Máy tách xương cá', 'Máy tách, bóc vỏ thực phẩm', 'Máy tính Desktop', 'Máy tính Desktop (Công ty lắp ráp)', 'Máy tính bảng (Tablet PC)', 'Máy tính laptop', 'Máy tính phòng Net - Game', 'Máy tạo Ozone', 'Máy tạo Ozone công nghiệp', 'Máy tạo hạt phân bón', 'Máy tạo kiểu tóc', 'Máy tập chạy bộ', 'Máy uốn ống thường', 'Máy viền chỉ', 'Máy vát mép', 'Máy vắt khô', 'Máy vắt sổ', 'Máy vặt lông gia cầm', 'Máy xay cà phê', 'Máy xay hạt', 'Máy xay sinh tố', 'Máy xay thực phẩm', 'Máy xay đá', 'Máy xét nghiệm máu', 'Máy xóa xăm', 'Máy xông hơi mặt', 'Máy xông hơi ướt', 'Máy xúc đào', 'Máy xăm', 'Máy ép dầu thực vật', 'Máy ép dầu đậu nành', 'Máy ép màng nhôm', 'Máy ép mía', 'Máy ép nhiệt (gỗ)', 'Máy ép nhiệt, cán màng', 'Máy ép nhựa', 'Máy ép thủy lực', 'Máy ép trái cây', 'Máy đo huyết áp', 'Máy đo nhiệt độ', 'Máy đo nồng độ Oxy trong máu', 'Máy đo thính lực', 'Máy đo đường huyết', 'Máy đo độ cứng', 'Máy đo độ nhớt', 'Máy đo độ pH', 'Máy đánh giầy', 'Máy đánh trứng', 'Máy đóng gói', 'Máy đóng trà túi lọc', 'Máy đóng đai', 'Máy đùn xúc xích', 'Máy đùn ép cám viên', 'Máy đầm đất, bê tông', 'Máy đập lúa', 'Máy đếm tiền', 'Máy đếm tần số', 'Máy đọc mã vạch', 'Máy ảnh số', 'Máy ảnh số chuyên dụng', 'Máy ấp trứng gia cầm', 'Món Cá', 'Món Tôm', 'Mô hình xe ô tô, xe máy', 'Mô tơ cửa', 'Mô tơ máy bơm', 'Mũ (Nón) bảo hiểm xe máy', 'Mũ (Nón) bảo hiểm xe đạp', 'Mũ, nón bảo hộ', 'Mũ, nón khác', 'Mũ, nón nam', 'Mũ, nón nữ', 'Mũ, nón sơ sinh', 'Mũ, nón trẻ em', 'Mũ, nón đồng phục sự kiện', 'Mũi khoan', 'Mực máy photocopy', 'Mật ong', 'Mắt kính thời trang', 'Mặt dây chuyền nữ', 'Mặt dây đá phong thủy', 'Mặt kính điện thoại', 'Mặt nạ', 'Mặt nạ bảo hộ', 'Mặt nạ ổ điện', 'Mặt nạ, hấp, ủ dưỡng tóc', 'Mỏ hàn, mỏ thổi', 'Mỏ lết', 'Mồi câu', 'Mỡ công nghiệp', 'Mực in', 'Mực khô', 'Mực xăm', 'Mỹ phẩm cao cấp - Trang điểm', 'Mỹ phẩm tạo dáng tóc', 'Nam châm', 'Nguyên liệu làm bánh các loại', 'Nguyên liệu làm kem', 'Nguyên liệu sản xuất gạch', 'Nguyên liệu sản xuất thực phẩm', 'Nguyên liệu thực phẩm khác', 'Nguyên liệu trà sữa', 'Nguyên liệu tá dược', 'Nguyên liệu, hương liệu mỹ phẩm', 'Nguyên liệu, hương liệu thực phẩm', 'Nguyên liệu, phụ kiện khác', 'Nguồn', 'Nguồn máy tính (PSU)', 'Ngói', 'Nhau thai cừu', 'Nhà biệt thự', 'Nhà bóng, bể vầy', 'Nhà chung cư', 'Nhà hơi, nhà phao', 'Nhân sâm khô', 'Nhân sâm tươi', 'Nhãn dán', 'Nhíp gắp tụ', 'Nhôm tấm', 'Nhạc cụ dân tộc', 'Nhẫn cưới, nhẫn đính hôn', 'Nhẫn nam', 'Nhẫn nữ', 'Nhổ ghim', 'Nút nhấn', 'Nước hoa hồng', 'Nước hoa nam', 'Nước hoa nữ', 'Nước hoa quả ngâm', 'Nước hoa ôtô', 'Nước mắm, xì dầu', 'Nước ngọt, nước trái cây, đóng lon', 'Nước súc miệng', 'Nấm', 'Nắp che ống kính', 'Nắp thùng sau Ô tô', 'Nắp xăng Ô tô', 'Nến thờ', 'Nến điện tử', 'Nồi buffet', 'Nồi chiên đa năng', 'Nồi cơm điện', 'Nồi hơi', 'Nồi hấp', 'Nồi nấu cháo công nghiệp', 'Nồi nấu phở công nghiệp', 'Nồi xào nấu công nghiệp', 'Nồi áp suất', 'Nồi áp suất điện', 'Nồi, Xoong', 'Pa Lăng', 'Pallet', 'Panel PC - máy tính Panel', 'Phanh,Má phanh Ôtô', 'Phao, Áo phao', 'Phiếu thu, chi', 'Phân bón, đạm, tăng trưởng', 'Phích cắm điện', 'Phòng của bé', 'Phòng học bộ môn', 'Phòng thay đồ di động', 'Phòng tắm Spa', 'Phông chụp ảnh', 'Phù điêu, tượng', 'Phấn má', 'Phấn nền', 'Phấn phủ', 'Phần mềm Mobile, PDA', 'Phần mềm cho Windows', 'Phần mềm quản lý khách hàng', 'Phụ gia xây dựng', 'Phụ kiện Flycam', 'Phụ kiện Golf', 'Phụ kiện Toilet', 'Phụ kiện báo, chữa cháy khác', 'Phụ kiện bảng tương tác', 'Phụ kiện bảo hộ lao động', 'Phụ kiện bể bơi khác', 'Phụ kiện cho thiết bị mạng', 'Phụ kiện cho tivi', 'Phụ kiện cho đồng hồ thông minh', 'Phụ kiện cáp', 'Phụ kiện cân điện tử', 'Phụ kiện dụng cụ nông nghiệp', 'Phụ kiện dụng cụ sửa chữa', 'Phụ kiện giàn giáo, cốp pha', 'Phụ kiện hệ thống kiểm soát ra vào', 'Phụ kiện i-Pad (i-Pad Accessories)', 'Phụ kiện khí nén', 'Phụ kiện khóa điện tử', 'Phụ kiện kết nối', 'Phụ kiện làm bánh', 'Phụ kiện lọc nước tinh khiết', 'Phụ kiện máy chơi Game', 'Phụ kiện máy chế biến gỗ', 'Phụ kiện máy cơ khí', 'Phụ kiện máy hàn khác', 'Phụ kiện máy nén khí khác', 'Phụ kiện máy phun rửa áp lực', 'Phụ kiện máy phun sương', 'Phụ kiện máy tính bảng (Tablet Accessories)', 'Phụ kiện máy tập chạy bộ', 'Phụ kiện máy đo đạc, trắc địa', 'Phụ kiện máy ảnh, máy quay', 'Phụ kiện mạng', 'Phụ kiện nhà bếp', 'Phụ kiện nhà bếp công nghiệp', 'Phụ kiện nhạc cụ', 'Phụ kiện phòng tắm khác', 'Phụ kiện quang', 'Phụ kiện sàn gỗ', 'Phụ kiện sách điện tử (Ebook Reader Accessories)', 'Phụ kiện teen nam', 'Phụ kiện teen nữ', 'Phụ kiện thiết bị công nghiệp khác', 'Phụ kiện thiết bị cầm tay', 'Phụ kiện thiết bị làm sạch', 'Phụ kiện thiết bị nâng hạ', 'Phụ kiện thiết bị âm thanh', 'Phụ kiện thiết bị điện khác', 'Phụ kiện thiết bị đo, kiểm tra', 'Phụ kiện thông minh', 'Phụ kiện thời trang', 'Phụ kiện thời trang vật nuôi', 'Phụ kiện trang trí xe máy', 'Phụ kiện tủ bếp', 'Phụ kiện tủ điện', 'Phụ kiện và vật liệu', 'Phụ kiện xe đạp', 'Phụ kiện xăm', 'Phụ kiện đèn chiếu sáng', 'Phụ kiện ống dẫn công nghiệp', 'Phụ kiện ống luồn dây điện khác', 'Phụ kiện ống nước', 'Phụ kiện, thiết bị Cầu lông', 'Phụ kiện, thiết bị Tennis', 'Phụ tùng bơm bê tông', 'Phụ tùng máy đầm', 'Phụ tùng phụ kiện tàu thuyền khác', 'Phụ tùng xe nâng khác', 'Phụ tùng ôtô', 'Phục trang Triều đình nam', 'Phục trang nam khác', 'Phục trang nữ khác', 'Phục trang trẻ em khác', 'Pin laptop', 'Pin máy tính bảng', 'Pin máy ảnh, máy quay', 'Pin thông dụng', 'Pin và phụ kiện', 'Pin điện thoại', 'Power Amplifier', 'Projector (máy chiếu)', 'Que hàn , thau hàn', 'Que thử y tế', 'Quà tặng gốm sứ', 'Quà tặng pha lê, thủy tinh', 'Quà tổng hợp', 'Quạt cây', 'Quạt hơi nước', 'Quạt hướng trục', 'Quạt không cánh', 'Quạt ly tâm', 'Quạt sạc', 'Quạt thông gió công nghiệp', 'Quạt thông gió dân dụng', 'Quạt thờ', 'Quạt treo tường', 'Quạt trần', 'Quạt điện công nghiệp', 'Quạt điện dân dụng', 'Quạt đèn trang trí', 'Quả bóng bàn', 'Quả bóng đá', 'Quần bò nam (Jeans)', 'Quần bò nữ (Jeans)', 'Quần giả váy', 'Quần kaki nam', 'Quần legging', 'Quần lót nữ', 'Quần lót trẻ em', 'Quần ngố nam', 'Quần nữ khác', 'Quần shorts nam', 'Quần shorts nữ', 'Quần thể thao nam', 'Quần thể thao nữ', 'Quần trẻ em', 'Quần tây', 'Quần tây nữ', 'Quần yếm', 'Quần áo bóng rổ', 'Quần áo bóng đá nam', 'Quần áo bảo hộ', 'Quần áo cả bộ cho trẻ em', 'Quần áo khiêu vũ nam', 'Quần áo lặn biển', 'Quần áo mặc ở nhà', 'Quần áo ngủ nam', 'Quần áo tập luyện, thi đấu (golf)', 'Quần đôi', 'Quầy bar nhà hàng', 'Quầy xe lưu động ( quầy bán hàng di động )', 'RAM (Desktop)', 'RAM (Server)', 'RAM(laptop)', 'Rau, củ, quả', 'Receiver', 'Robot cấp phôi tự động', 'Robot lắp ráp', 'Robot điều khiển từ xa', 'Rong biển khô', 'Router', 'Rulo cuốn ống khí nén', 'Ruột bút bi', 'Ruột bút chì', 'Ruột chăn', 'Ruột gối', 'Rào chắn', 'Rèm cửa khác', 'Rơ Moóc', 'Rơ le bán dẫn', 'Rơ le bảo vệ kết hợp', 'Rơ le điều khiển', 'Rổ, rá các loại', 'SDH/MSAP', 'SP chăm sóc sức khỏe, sắc đẹp khác', 'Sen cây', 'Sen vòi', 'Server (Máy chủ)', 'Snack', 'Sofa giường', 'Sofa nhà hàng', 'Sofa văn phòng', 'Sofa, salon', 'Son', 'Sound Card', 'Switches - Chuyển mạch', 'Sàn gỗ', 'Sàn nhẹ', 'Sàn nhựa, gạch nhựa', 'Sách', 'Sách điện tử ( eBook Readers )', 'Sên nhông đĩa', 'Súng bắn đinh', 'Súng dán keo', 'Súng hàn', 'Súng xiết Bu lông', 'Súng xịt hơi ( súng xịt khí )', 'Sơn', 'Sơn chống thấm', 'Sơn móng', 'Sơn ngoại thất', 'Sơn nội thất', 'Sạc pin laptop (Adapter)', 'Sạc pin máy ảnh, máy quay', 'Sạc pin ngoài cho điện thoại', 'Sạc điện thoại', 'Sạc điện, chuyển đổi điện', 'Sản phẩm chăm sóc bàn chân', 'Sản phẩm chăm sóc da tay', 'Sản phẩm chăm sóc tóc', 'Sản phẩm chăm sóc vật nuôi', 'Sản phẩm chống nắng cho da mặt', 'Sản phẩm chống nắng toàn thân', 'Sản phẩm diệt côn trùng', 'Sản phẩm dành cho da bị mụn', 'Sản phẩm dành cho da lão hóa', 'Sản phẩm dành cho da nám, tàn nhang', 'Sản phẩm dành cho ngực', 'Sản phẩm dành riêng cho nam', 'Sản phẩm dùng cho da vùng mắt', 'Sản phẩm dùng cho giày, dép khác', 'Sản phẩm dùng một lần', 'Sản phẩm dưỡng da mặt', 'Sản phẩm dưỡng da toàn thân', 'Sản phẩm khử mùi cho nam', 'Sản phẩm làm sạch', 'Sản phẩm làm trắng', 'Sản phẩm làm đẹp từ thiên nhiên', 'Sản phẩm massage', 'Sản phẩm massage mặt', 'Sản phẩm massage toàn thân', 'Sản phẩm phòng chống côn trùng', 'Sản phẩm thêu thùa', 'Sản phẩm trị sẹo', 'Sản phẩm tẩy da chết cho da mặt', 'Sản phẩm tẩy trang mặt', 'Sản phẩm từ tổ yến', 'Sập', 'Sập thờ', 'Sắt nghệ thuật', 'Sổ', 'Sửa chữa, bảo dưỡng, lắp đặt', 'Sữa bột', 'Sữa nước', 'Sữa rửa mặt', 'Sữa rửa mặt nam', 'Sữa tắm', 'Sữa tắm nam', 'Sữa tắm, dầu gội đầu cho bé', 'Tab đầu giường', 'Tai nghe bluetooth', 'Tampon, dấu, mực dấu', 'Tay co, đẩy thủy lực', 'Tay máy hàn thiếc', 'Tay nắm cửa', 'Tay nắm xe máy', 'Tay treo hắt sáng', 'Tay vịn cầu thang', 'Thang', 'Thang máy', 'Thang nâng', 'Thanh Cân Bằng Ôtô', 'Thanh chống va đập', 'Thanh lăn khử mùi', 'Thanh ray', 'Thanh ren', 'Thanh treo khăn đôi', 'Thanh treo khăn đơn', 'Thanh ốp cột, góc tường', 'Thi công xây dựng', 'Thiết bị PDH Multiplexer', 'Thiết bị báo động chống trộm', 'Thiết bị bảo dưỡng ô tô', 'Thiết bị chuyển đổi điện áp', 'Thiết bị cân vành xe máy', 'Thiết bị cơ khí Ôtô khác', 'Thiết bị cảm biến', 'Thiết bị cảm biến quang điện', 'Thiết bị cảm ứng phòng tắm', 'Thiết bị dạy và học các cấp', 'Thiết bị ghi âm bộ đàm', 'Thiết bị giảm chấn', 'Thiết bị giảm cân', 'Thiết bị kiểm soát ra vào', 'Thiết bị kiểm định ô tô', 'Thiết bị làm sạch', 'Thiết bị ngành tóc', 'Thiết bị nhà xưởng', 'Thiết bị phát sóng wifi trên Ô tô', 'Thiết bị phòng chống sét', 'Thiết bị phòng sạch', 'Thiết bị phục hồi chức năng', 'Thiết bị rửa xe Ôtô', 'Thiết bị siêu thị', 'Thiết bị thu nước bể bơi', 'Thiết bị trình chiếu', 'Thiết bị trình chiếu ánh sáng', 'Thiết bị tạo nhiệt bo mạch', 'Thiết bị tự động hóa', 'Thiết bị viễn thông khác', 'Thiết bị vệ sinh bể bơi', 'Thiết bị xông hơi khô', 'Thiết bị xông hơi ướt', 'Thiết bị điều khiển tưới sân vườn', 'Thiết bị điều khiển tự động', 'Thiết bị đo khí độc', 'Thiết bị đo lực căng', 'Thiết bị đo nhiệt độ', 'Thiết bị đo ánh sáng', 'Thiết bị đo áp suất', 'Thiết bị đo độ ẩm', 'Thiết bị đo độ ồn', 'Thiết bị đo, kiểm tra khí', 'Thiết bị đại tu, phục hồi ô tô', 'Thiết bị định vị GPS', 'Thiết bị ổn định hình ảnh cầm tay', 'Thiết bị, linh kiện khác', 'Thiết kế kiến trúc tổng hợp', 'Thiết kế nội thất khác', 'Thiết kế phòng khách', 'Thiết kế quảng cáo', 'Thiệp cưới', 'Thuốc an thần', 'Thuốc bổ, Vitamin', 'Thuốc giảm cân', 'Thuốc nhuộm tóc', 'Thuốc tiểu đường', 'Thuốc uốn tóc', 'Thuốc ép tóc', 'Thuốc đông y', 'Thép cuộn', 'Thép cây ( thép thanh )', 'Thép hình', 'Thép hộp', 'Thép vuông', 'Thép vằn', 'Thép ống', 'Thìa, dĩa cho bé', 'Thìa, dĩa, đũa ...', 'Thùng rác công cộng', 'Thùng rác thông minh', 'Thùng sau Xe máy', 'Thùng đựng gạo', 'Thùng đựng rác', 'Thùng đựng đồ nghề', 'Thùng, vỏ máy tính (PC Case)', 'Thú nhún', 'Thú nhồi bông', 'Thước Pan-me', 'Thước dây', 'Thước kẹp ( Thước cặp )', 'Thước kẻ', 'Thước lá', 'Thước thuỷ', 'Thước thẳng', 'Thước xếp', 'Thước êke', 'Thước đo khe hở', 'Thước đo lỗ', 'Thước đo độ dày (Dụng cụ đo độ dày)', 'Thước đo độ sâu', 'Thạch trái cây', 'Thảm', 'Thảm chơi trẻ em', 'Thẻ cảm ứng', 'Thẻ nhớ', 'Thịt hun khói', 'Thổ cẩm', 'Thớt, rế, lót tay ...', 'Thời trang Tennis', 'Thời trang cho vật nuôi', 'Thời trang công sở nữ', 'Thời trang dạ hội', 'Thời trang nam khác', 'Thời trang nữ khác', 'Thức ăn chăn nuôi', 'Thức ăn vật nuôi', 'Thức ăn đông lạnh', 'Thực phẩm bổ dưỡng dành cho trẻ em', 'Thực phẩm bổ dưỡng từ thiên nhiên', 'Thực phẩm cho bà bầu', 'Thực phẩm chức năng khác', 'Thực phẩm dinh dưỡng tăng cân', 'Thực phẩm giảm cân chống béo phì', 'Thực phẩm hỗ trợ làm đẹp da, tóc', 'Thực phẩm hỗ trợ điều trị bệnh dạ dày', 'Thực phẩm hỗ trợ điều trị bệnh thận', 'Thực phẩm hỗ trợ điều trị xương khớp', 'Thực phẩm khô khác', 'Thực phẩm phòng bệnh, tăng sức đề kháng', 'Thực phẩm qua sơ chế', 'Thực phẩm tăng cường sức khỏe', 'Tinh bột nghệ', 'Tinh dầu (Chăm sóc cơ thể)', 'Tinh dầu (Chăm sóc da mặt)', 'Tinh dầu chăm sóc tóc', 'Tivi Box', 'Tivi LCD', 'Tivi LED', 'Tivi OLED', 'Tivi Plasma', 'Tiêu, Sáo', 'Tour du lịch Châu Á', 'Tour du lịch Châu Âu', 'Tour du lịch Trong nước', 'Trang phục bảo hiểm xe máy', 'Trang phục teen nam', 'Tranh chữ', 'Tranh dán tường khác', 'Tranh gạch', 'Tranh nghệ thuật', 'Tranh tường (Graffiti)', 'Tranh vải dán tường', 'Tranh đá', 'Tripod Head', 'Trung tâm báo cháy', 'Trà', 'Trạm trộn bê tông', 'Trải sàn - Lót sàn', 'Trần gỗ', 'Trụ chữa cháy ( trụ cứu hỏa )', 'Trụ nhảy cao', 'Trục giấy vệ sinh', 'Tuốc nơ vít ( tô vít )', 'Tóc giả', 'Tông đơ cắt tóc', 'Túi Hand-made', 'Túi cứu thương', 'Túi giữ nhiệt', 'Túi lọc bụi', 'Túi nilon', 'Túi xách hàng hiệu nam', 'Túi xách hàng hiệu nữ', 'Túi xách teen nữ', 'Túi đựng máy quay', 'Túi đựng máy ảnh', 'Túi đựng đồ cho bé', 'Túi, cặp xách tổng hợp khác', 'Túi, cặp xách tổng hợp nam', 'Túi, cặp xách tổng hợp nữ', 'Túi, hộp mỹ phẩm', 'Túi, vỏ chống nước', 'Tương hột', 'Tương đen', 'Tương ớt', 'Tượng thờ', 'Tải giả điện tử DC', 'Tấm Inox', 'Tấm dán bảo vệ', 'Tấm lót bồn cầu ( tấm lót bệ xí )', 'Tấm mặt chống tràn bể bơi', 'Tấm ốp tường', 'Tất nam', 'Tất nữ', 'Tất phun', 'Tất trẻ em', 'Tất y khoa', 'Tập, vở', 'Tỏi khô', 'Tồn ngai thờ', 'Tổ yến qua sơ chế', 'Tổ yến thô', 'Tời kéo', 'Tời nâng', 'Tủ Lavabo', 'Tủ bếp', 'Tủ chống ẩm', 'Tủ giám đốc', 'Tủ gương', 'Tủ hút khí độc', 'Tủ hồ sơ', 'Tủ kệ phòng khách', 'Tủ lạnh', 'Tủ lạnh công nghiệp', 'Tủ lạnh phòng thí nghiệm', 'Tủ lạnh ô tô', 'Tủ mạng', 'Tủ nhựa', 'Tủ nấu cơm công nghiệp', 'Tủ quần áo', 'Tủ rượu', 'Tủ sách', 'Tủ thuốc', 'Tủ thờ Thần Tài', 'Tủ trưng bày thực phẩm', 'Tủ trẻ em', 'Tủ tài liệu', 'Tủ tạo môi trường', 'Tủ vải', 'Tủ đông', 'Tủ đựng đồ phòng ngủ', 'Tủ, giá để thiết bị', 'Tủ, lò sấy thiết bị y tế', 'USB Memory 3.0', 'USB Modem - USB 3G', 'USB memory', 'Uốn mi', 'Vali đi học', 'Vali, Hành lý', 'Van bi', 'Van bướm', 'Van các loại ( dùng cho bể bơi )', 'Van công nghiệp khác', 'Van cầu', 'Van cửa ( van cổng )', 'Van giảm áp', 'Van khí nén', 'Van lọc', 'Van máy nén khí', 'Van một chiều', 'Van nước', 'Van thủy lực', 'Van xả khí', 'Van áp suất', 'Van điện từ', 'Vest nam', 'Video Card', 'Vách chống cháy', 'Vách ngăn bàn làm việc', 'Vách ngăn gỗ ốp', 'Vách ngăn phòng khách', 'Vách tắm ( Cabin tắm )', 'Ván gỗ', 'Ván trượt - SkateBoard', 'Váy bầu', 'Váy bộ', 'Váy chữ A', 'Váy liền', 'Váy maxi', 'Váy quây', 'Váy suông', 'Váy sơ sinh', 'Váy trẻ em', 'Váy xòe', 'Váy xếp li', 'Váy yếm', 'Váy đuôi cá', 'Váy, đầm', 'Vè che mưa Ôtô', 'Vé máy bay Trong nước', 'Ví, bóp nam', 'Ví, bóp nữ', 'Vít', 'Vòi hoa sen khác', 'Vòi hoa sen, vòi nước', 'Vòi rửa, vòi nước', 'Vòi xịt vệ sinh phòng tắm', 'Vòng bi xe nâng', 'Vòng bi Ôtô', 'Vòng tay trẻ em', 'Vô Lăng Ô tô', 'Võng, Ghế xếp', 'Văn phòng phẩm khác', 'Vải', 'Vải lọc chống tĩnh điện', 'Vận tải nội địa', 'Vật dụng liên quan bóng rổ', 'Vật dụng trang trí', 'Vật dụng trang trí vườn', 'Vật liệu chống cháy', 'Vật liệu chống thấm', 'Vật liệu cách âm, cách nhiệt', 'Vật liệu lọc nước', 'Vật liệu đóng gói hàng hóa', 'Vật tư ngành lạnh', 'Vật tư phòng thí nghiệm', 'Vật tư y tế khác', 'Vỉ nướng', 'Vỏ chăn', 'Vỏ máy điện thoại', 'Vỏ nhựa xe máy', 'Vợt cầu lông', 'Wax Tẩy lông', 'Workstation - Máy trạm', 'Xe bồn', 'Xe chuyên dụng', 'Xe dành cho người khuyết tật', 'Xe lu', 'Xe máy', 'Xe máy ba bánh chở hàng', 'Xe máy cũ', 'Xe máy phân khối lớn (Motor)', 'Xe máy điều khiển từ xa', 'Xe nâng', 'Xe nâng tay', 'Xe quét rác', 'Xe tải', 'Xe tải cẩu', 'Xe tập đi cho bé', 'Xe Ô tô, xe máy đồ chơi', 'Xe đi chợ', 'Xe điện', 'Xe đạp', 'Xe đạp trẻ em', 'Xe đầu kéo (Xe container)', 'Xe đẩy', 'Xe đẩy hành lý', 'Xe đẩy phục vụ', 'Xe đẩy quần áo - dọn phòng', 'Xe đẩy tay', 'Xe đẩy thiết bị y tế', 'Xe đẩy, giá thức ăn', 'Xi lanh ( dùng cho máy nén khí )', 'Xi lanh (bơm kim tiêm)', 'Xi đánh bóng Ôtô', 'Xi đánh giày', 'Xà bông', 'Xà đơn', 'Xích', 'Xích đu', 'Xô, thùng, chậu nhựa', 'Yên xe máy', 'Yếm ăn cho bé', 'Án gian thờ', 'Áo bò nữ', 'Áo bầu', 'Áo cưới, váy cưới', 'Áo da nam', 'Áo da nữ', 'Áo dài nam', 'Áo dài nữ', 'Áo dài trẻ em', 'Áo dạ nữ', 'Áo gió nữ', 'Áo hai dây, áo quây', 'Áo khoác chống nắng', 'Áo khoác cách điệu', 'Áo khoác có mũ', 'Áo khoác cổ lông', 'Áo khoác len nữ', 'Áo khoác nam', 'Áo khoác phao nữ', 'Áo khoác thể thao nữ', 'Áo khoác trẻ em', 'Áo khoác đôi', 'Áo len nam', 'Áo len nữ', 'Áo lót nữ', 'Áo măng tô nữ', 'Áo mưa, ủng đi mưa', 'Áo sơ mi nam', 'Áo sơ mi nữ', 'Áo sơ mi trẻ em', 'Áo sơ sinh', 'Áo thun nam (áo phông)', 'Áo thun nữ (áo pull)', 'Áo thun trẻ em', 'Áo thun đôi', 'Áo thể thao nam', 'Áo thể thao nữ', 'Áo trẻ em', 'Áo vest nữ', 'Áo váy bầu', 'Ê tô', 'Ô dù', 'Ô tô Điện', 'Ô tô điều khiển từ xa', 'Ôtô (Du lịch)', 'Ôtô cũ', 'Đai cột sống', 'Đai giữ bụng bầu', 'Đai massage bụng', 'Đai ốc', 'Điều hòa', 'Điều hòa công nghiệp', 'Điều khiển máy ảnh', 'Điện thoại Trung Quốc', 'Điện thoại trả góp', 'Đui đèn', 'Đui đèn các loại', 'Đuốc hàn', 'Đàn Ghi-ta (guitar)', 'Đàn Organ', 'Đàn Piano', 'Đàn Piano điện (Digital Pianos)', 'Đàn Ukulele', 'Đàn Violin (Vĩ cầm)', 'Đào tạo lái xe ô tô', 'Đá , Cát', 'Đá cắt', 'Đá mài', 'Đá điêu khắc', 'Đá ốp lát', 'Đèn Exit, sự cố', 'Đèn Flash', 'Đèn Led', 'Đèn bàn', 'Đèn báo sự cố ( dùng trong pccc )', 'Đèn bể bơi', 'Đèn cao áp', 'Đèn chiếu sáng công cộng', 'Đèn chiếu sáng khuôn viên', 'Đèn chiếu sáng khẩn cấp', 'Đèn chiếu sáng nhà xưởng', 'Đèn chùm', 'Đèn chụp ngoài trời', 'Đèn cây', 'Đèn diệt côn trùng', 'Đèn giao thông', 'Đèn mâm', 'Đèn mổ', 'Đèn ngủ', 'Đèn năng lượng mặt trời', 'Đèn pha', 'Đèn pha lê', 'Đèn pin', 'Đèn pin, đèn xách', 'Đèn quay phim', 'Đèn rọi', 'Đèn sân vườn', 'Đèn sưởi', 'Đèn sạc', 'Đèn thả', 'Đèn trang trí dưới nước', 'Đèn tranh', 'Đèn trụ', 'Đèn tường', 'Đèn vách', 'Đèn xe máy', 'Đèn áp trần', 'Đèn ôtô', 'Đĩa chà nhám', 'Đĩa hoa quả thờ', 'Đĩa mài', 'Đường', 'Đạo cụ ảo thuật', 'Đầu ghi hình cho camera giám sát', 'Đầu gắn mũi khoan', 'Đầu nối ( cho ống luồn dây điện )', 'Đầu nối Jack', 'Đầu nối nhanh khí nén', 'Đầu phun nước', 'Đầu socket', 'Đầu thu kỹ thuật số', 'Đầu đĩa than', 'Đầu đọc thẻ nhớ', 'Đặc sản miền Bắc', 'Đặc sản miền Nam', 'Đặc sản miền Trung', 'Đế (chân) nến thờ', 'Đế sạc (Dock) cho điện thoại', 'Đế âm', 'Đệm (Nệm)', 'Đệm (Nệm) cho bé', 'Đệm chống va tàu', 'Đệm phím', 'Đỉnh thờ', 'Địu bé', 'Đồ bơi nữ', 'Đồ bơi trẻ em', 'Đồ bảo vệ sức khoẻ', 'Đồ bảo vệ, phụ kiện bóng đá', 'Đồ chơi', 'Đồ chơi - Trang trí nội thất Ô tô', 'Đồ chơi bập bênh', 'Đồ chơi bằng gỗ', 'Đồ chơi chữ viết', 'Đồ chơi dùng pin', 'Đồ chơi ghép hình khác', 'Đồ chơi hóa trang', 'Đồ chơi laptop', 'Đồ chơi lắp ghép', 'Đồ chơi mô hình khác', 'Đồ chơi môn Bóng rổ', 'Đồ chơi môn Câu cá', 'Đồ chơi nhân vật', 'Đồ chơi nhạc cụ', 'Đồ chơi thông minh, phát triển trí não khác', 'Đồ chơi thể thao cho trẻ khác', 'Đồ chơi thể thao tổng hợp', 'Đồ chơi thử thách trí tuệ', 'Đồ chơi trong giáo dục', 'Đồ chơi tổng hợp khác', 'Đồ dùng khác cho bé', 'Đồ dùng nhà bếp khác', 'Đồ dùng sinh hoạt khác', 'Đồ dùng trong nhà tắm', 'Đồ dùng đựng thực phẩm', 'Đồ hộp', 'Đồ lót nam', 'Đồ lót nữ khác', 'Đồ ngủ nữ', 'Đồ phong thủy', 'Đồ thờ khác', 'Đồ thủ công mỹ nghệ khác', 'Đồ thủy tinh', 'Đồ trang trí gốm, sứ', 'Đồ uống bổ dưỡng, làm đẹp', 'Đồ uống khác', 'Đồ vệ sinh, bàn chải, khăn', 'Đồ ăn cho bà bầu', 'Đồ ăn khác cho bé', 'Đồ ăn không béo, ăn kiêng', 'Đồ ăn liền', 'Đồ ăn nghiền cho bé', 'Đồ độ xe máy', 'Đồ độ Ô tô', 'Đồ đựng bút', 'Đồng hồ Argon, Co2, Oxy', 'Đồng hồ báo thức, để bàn', 'Đồng hồ cây', 'Đồng hồ cổ', 'Đồng hồ hàng hiệu khác', 'Đồng hồ hàng hiệu nam', 'Đồng hồ hàng hiệu nữ', 'Đồng hồ nước', 'Đồng hồ so', 'Đồng hồ thông minh (SmartWatch)', 'Đồng hồ trang trí', 'Đồng hồ treo tường', 'Đồng hồ đeo tay Hồng Kông nam', 'Đồng hồ đeo tay Hồng Kông nữ', 'Đồng hồ đeo tay Hồng Kông trẻ em', 'Đồng hồ đeo tay Trung Quốc nam', 'Đồng hồ đeo tay Trung Quốc nữ', 'Đồng hồ đo km xe máy', 'Đồng hồ đo lưu lượng', 'Đồng hồ đo vạn năng', 'Đồng hồ đo áp suất lốp Ô tô', 'Đồng hồ đo điện trở', 'Đồng hồ đôi', 'Đồng phục bệnh viện', 'Đồng phục công nhân', 'Đồng phục công sở', 'Đồng phục gia đình', 'Đồng phục học sinh- sinh viên', 'Đồng phục mẫu giáo', 'Đồng phục nhà hàng- Khách sạn', 'Đồng phục sự kiện', 'Động cơ gắn ngoài thuyền', 'Động cơ nổ', 'Động cơ điện', 'Đục gỗ', 'Ấm siêu tốc', 'Ắc quy', 'Ắc quy xe máy', 'Ắc quy ô tô', 'Ống bơm cát', 'Ống dẫn công nghiệp khác', 'Ống dẫn hơi', 'Ống dẫn khí', 'Ống dẫn xăng dầu', 'Ống gió', 'Ống inox công nghiệp', 'Ống kính cho điện thoại', 'Ống kính máy ảnh', 'Ống luồn dây điện', 'Ống ngắm (Viewfinder)', 'Ống nhòm', 'Ống nhựa xoắn', 'Ống nước', 'Ống thoát hiểm', 'Ống đồng', 'Ống đựng nhang (hương)', 'Ốp - Cản - Bậc', 'Ốp chân phanh, ga', 'Ổ cắm điện', 'Ổ quang laptop', 'Ổ rắn (SSD) - Solid state drive', 'Ổn áp'] n\n",
      "2631      Kính Mắt Goldsun Korea GS217004 S3 59 - 12 - 145\n",
      "107                                      Decal nhôm xi bạc\n",
      "10315                         Bàn Uống Nước Thông Minh 003\n",
      "367      Bàn Học Sinh Có Kệ Sách , ngang 80 cm màu nâu ...\n",
      "4252                   Bàn phím giả cơ Lightning PR - 8801\n",
      "                               ...                        \n",
      "5191                                   Máy cắt KM SS - 965\n",
      "13418                                       Guitar SV 400K\n",
      "5390                     Kem trị nám ban đêm Mother & care\n",
      "860                                   Chậu rửa Selta ST 09\n",
      "7270                            Khung tranh An Phú Gia 001\n",
      "Name: products, Length: 11980, dtype: object\n"
     ]
    }
   ],
   "source": [
    "from sklearn.model_selection import train_test_split\n",
    "from sklearn.preprocessing import LabelEncoder\n",
    "\n",
    "test_percent = 0.2\n",
    "\n",
    "# split data\n",
    "X_train, X_test, y_train, y_test = train_test_split(data['products'], data['categories'], test_size=test_percent,\n",
    "                                                    random_state=42)\n",
    "\n",
    "# save train/test data\n",
    "with open('data/train.txt', 'w') as f:\n",
    "    for x, y in zip(X_train, y_train):\n",
    "        y = y.replace(\" \", \"_\")\n",
    "        f.write('__label__' + y + ' ' + x + '\\n')\n",
    "\n",
    "with open('data/test.txt', 'w') as f:\n",
    "    for x, y in zip(X_test, y_test):\n",
    "        y = y.replace(\" \", \"_\")\n",
    "        f.write('__label__' + y + ' ' + x + '\\n')\n",
    "\n",
    "# encode target\n",
    "label_encoder = LabelEncoder()\n",
    "label_encoder.fit(data['categories'])\n",
    "\n",
    "print(list(label_encoder.classes_), 'n')\n",
    "\n",
    "y_train = label_encoder.transform(y_train)\n",
    "y_test = label_encoder.transform(y_test)\n",
    "\n",
    "print(X_train)"
   ]
  },
  {
   "cell_type": "code",
   "execution_count": 48,
   "id": "64b3f841",
   "metadata": {},
   "outputs": [],
   "source": [
    "import os\n",
    "MODEL_PATH = \"models\"\n",
    "\n",
    "if not os.path.exists(MODEL_PATH):\n",
    "    os.makedirs(MODEL_PATH)"
   ]
  },
  {
   "cell_type": "markdown",
   "id": "eb901f46",
   "metadata": {},
   "source": [
    "## 2. Naive Bayes\n",
    "\n",
    "[https://scikit-learn.org/stable/modules/generated/sklearn.naive_bayes.MultinomialNB.html]\n"
   ]
  },
  {
   "cell_type": "code",
   "execution_count": 49,
   "id": "74c1113f",
   "metadata": {},
   "outputs": [
    {
     "name": "stdout",
     "output_type": "stream",
     "text": [
      "Done training Naive Bayes in 1.0791888236999512 seconds.\n"
     ]
    }
   ],
   "source": [
    "import pickle\n",
    "import time\n",
    "import os\n",
    "from sklearn.feature_extraction.text import CountVectorizer\n",
    "from sklearn.feature_extraction.text import TfidfTransformer\n",
    "from sklearn.naive_bayes import MultinomialNB\n",
    "from sklearn.pipeline import Pipeline\n",
    "\n",
    "start_time = time.time()\n",
    "text_clf = Pipeline([('vect', CountVectorizer(ngram_range=(1, 1),\n",
    "                                              max_df=0.8,\n",
    "                                              max_features=None)),\n",
    "                     ('tfidf', TfidfTransformer()),\n",
    "                     ('clf', MultinomialNB())\n",
    "                     ])\n",
    "text_clf = text_clf.fit(X_train, y_train)\n",
    "\n",
    "train_time = time.time() - start_time\n",
    "print('Done training Naive Bayes in', train_time, 'seconds.')\n",
    "\n",
    "# Save model\n",
    "pickle.dump(text_clf, open(os.path.join(MODEL_PATH, \"naive_bayes.pkl\"), 'wb'))"
   ]
  },
  {
   "cell_type": "markdown",
   "id": "ea6efe1e",
   "metadata": {},
   "source": [
    "## 3. Linear Classifier\n",
    "\n",
    "[https://scikit-learn.org/stable/modules/generated/sklearn.linear_model.LogisticRegression.html]\n"
   ]
  },
  {
   "cell_type": "code",
   "execution_count": 51,
   "id": "9b7938e6",
   "metadata": {},
   "outputs": [
    {
     "ename": "KeyboardInterrupt",
     "evalue": "",
     "output_type": "error",
     "traceback": [
      "\u001b[0;31m---------------------------------------------------------------------------\u001b[0m",
      "\u001b[0;31mKeyboardInterrupt\u001b[0m                         Traceback (most recent call last)",
      "\u001b[1;32m/Users/long/Desktop/KPDL_HLV/Text_Classification.ipynb Cell 28\u001b[0m line \u001b[0;36m1\n\u001b[1;32m      <a href='vscode-notebook-cell:/Users/long/Desktop/KPDL_HLV/Text_Classification.ipynb#X36sZmlsZQ%3D%3D?line=2'>3</a>\u001b[0m start_time \u001b[39m=\u001b[39m time\u001b[39m.\u001b[39mtime()\n\u001b[1;32m      <a href='vscode-notebook-cell:/Users/long/Desktop/KPDL_HLV/Text_Classification.ipynb#X36sZmlsZQ%3D%3D?line=3'>4</a>\u001b[0m text_clf \u001b[39m=\u001b[39m Pipeline([(\u001b[39m'\u001b[39m\u001b[39mvect\u001b[39m\u001b[39m'\u001b[39m, CountVectorizer(ngram_range\u001b[39m=\u001b[39m(\u001b[39m1\u001b[39m, \u001b[39m1\u001b[39m),\n\u001b[1;32m      <a href='vscode-notebook-cell:/Users/long/Desktop/KPDL_HLV/Text_Classification.ipynb#X36sZmlsZQ%3D%3D?line=4'>5</a>\u001b[0m                                               max_df\u001b[39m=\u001b[39m\u001b[39m0.8\u001b[39m,\n\u001b[1;32m      <a href='vscode-notebook-cell:/Users/long/Desktop/KPDL_HLV/Text_Classification.ipynb#X36sZmlsZQ%3D%3D?line=5'>6</a>\u001b[0m                                               max_features\u001b[39m=\u001b[39m\u001b[39mNone\u001b[39;00m)),\n\u001b[0;32m   (...)\u001b[0m\n\u001b[1;32m     <a href='vscode-notebook-cell:/Users/long/Desktop/KPDL_HLV/Text_Classification.ipynb#X36sZmlsZQ%3D%3D?line=9'>10</a>\u001b[0m                                                 max_iter\u001b[39m=\u001b[39m\u001b[39m10000\u001b[39m))\n\u001b[1;32m     <a href='vscode-notebook-cell:/Users/long/Desktop/KPDL_HLV/Text_Classification.ipynb#X36sZmlsZQ%3D%3D?line=10'>11</a>\u001b[0m                      ])\n\u001b[0;32m---> <a href='vscode-notebook-cell:/Users/long/Desktop/KPDL_HLV/Text_Classification.ipynb#X36sZmlsZQ%3D%3D?line=11'>12</a>\u001b[0m text_clf \u001b[39m=\u001b[39m text_clf\u001b[39m.\u001b[39mfit(X_train, y_train)\n\u001b[1;32m     <a href='vscode-notebook-cell:/Users/long/Desktop/KPDL_HLV/Text_Classification.ipynb#X36sZmlsZQ%3D%3D?line=13'>14</a>\u001b[0m train_time \u001b[39m=\u001b[39m time\u001b[39m.\u001b[39mtime() \u001b[39m-\u001b[39m start_time\n\u001b[1;32m     <a href='vscode-notebook-cell:/Users/long/Desktop/KPDL_HLV/Text_Classification.ipynb#X36sZmlsZQ%3D%3D?line=14'>15</a>\u001b[0m \u001b[39mprint\u001b[39m(\u001b[39m'\u001b[39m\u001b[39mDone training Linear Classifier in\u001b[39m\u001b[39m'\u001b[39m, train_time, \u001b[39m'\u001b[39m\u001b[39mseconds.\u001b[39m\u001b[39m'\u001b[39m)\n",
      "File \u001b[0;32m~/anaconda3/lib/python3.11/site-packages/sklearn/base.py:1151\u001b[0m, in \u001b[0;36m_fit_context.<locals>.decorator.<locals>.wrapper\u001b[0;34m(estimator, *args, **kwargs)\u001b[0m\n\u001b[1;32m   1144\u001b[0m     estimator\u001b[39m.\u001b[39m_validate_params()\n\u001b[1;32m   1146\u001b[0m \u001b[39mwith\u001b[39;00m config_context(\n\u001b[1;32m   1147\u001b[0m     skip_parameter_validation\u001b[39m=\u001b[39m(\n\u001b[1;32m   1148\u001b[0m         prefer_skip_nested_validation \u001b[39mor\u001b[39;00m global_skip_validation\n\u001b[1;32m   1149\u001b[0m     )\n\u001b[1;32m   1150\u001b[0m ):\n\u001b[0;32m-> 1151\u001b[0m     \u001b[39mreturn\u001b[39;00m fit_method(estimator, \u001b[39m*\u001b[39margs, \u001b[39m*\u001b[39m\u001b[39m*\u001b[39mkwargs)\n",
      "File \u001b[0;32m~/anaconda3/lib/python3.11/site-packages/sklearn/pipeline.py:420\u001b[0m, in \u001b[0;36mPipeline.fit\u001b[0;34m(self, X, y, **fit_params)\u001b[0m\n\u001b[1;32m    418\u001b[0m     \u001b[39mif\u001b[39;00m \u001b[39mself\u001b[39m\u001b[39m.\u001b[39m_final_estimator \u001b[39m!=\u001b[39m \u001b[39m\"\u001b[39m\u001b[39mpassthrough\u001b[39m\u001b[39m\"\u001b[39m:\n\u001b[1;32m    419\u001b[0m         fit_params_last_step \u001b[39m=\u001b[39m fit_params_steps[\u001b[39mself\u001b[39m\u001b[39m.\u001b[39msteps[\u001b[39m-\u001b[39m\u001b[39m1\u001b[39m][\u001b[39m0\u001b[39m]]\n\u001b[0;32m--> 420\u001b[0m         \u001b[39mself\u001b[39m\u001b[39m.\u001b[39m_final_estimator\u001b[39m.\u001b[39mfit(Xt, y, \u001b[39m*\u001b[39m\u001b[39m*\u001b[39mfit_params_last_step)\n\u001b[1;32m    422\u001b[0m \u001b[39mreturn\u001b[39;00m \u001b[39mself\u001b[39m\n",
      "File \u001b[0;32m~/anaconda3/lib/python3.11/site-packages/sklearn/base.py:1151\u001b[0m, in \u001b[0;36m_fit_context.<locals>.decorator.<locals>.wrapper\u001b[0;34m(estimator, *args, **kwargs)\u001b[0m\n\u001b[1;32m   1144\u001b[0m     estimator\u001b[39m.\u001b[39m_validate_params()\n\u001b[1;32m   1146\u001b[0m \u001b[39mwith\u001b[39;00m config_context(\n\u001b[1;32m   1147\u001b[0m     skip_parameter_validation\u001b[39m=\u001b[39m(\n\u001b[1;32m   1148\u001b[0m         prefer_skip_nested_validation \u001b[39mor\u001b[39;00m global_skip_validation\n\u001b[1;32m   1149\u001b[0m     )\n\u001b[1;32m   1150\u001b[0m ):\n\u001b[0;32m-> 1151\u001b[0m     \u001b[39mreturn\u001b[39;00m fit_method(estimator, \u001b[39m*\u001b[39margs, \u001b[39m*\u001b[39m\u001b[39m*\u001b[39mkwargs)\n",
      "File \u001b[0;32m~/anaconda3/lib/python3.11/site-packages/sklearn/linear_model/_logistic.py:1302\u001b[0m, in \u001b[0;36mLogisticRegression.fit\u001b[0;34m(self, X, y, sample_weight)\u001b[0m\n\u001b[1;32m   1299\u001b[0m \u001b[39melse\u001b[39;00m:\n\u001b[1;32m   1300\u001b[0m     n_threads \u001b[39m=\u001b[39m \u001b[39m1\u001b[39m\n\u001b[0;32m-> 1302\u001b[0m fold_coefs_ \u001b[39m=\u001b[39m Parallel(n_jobs\u001b[39m=\u001b[39m\u001b[39mself\u001b[39m\u001b[39m.\u001b[39mn_jobs, verbose\u001b[39m=\u001b[39m\u001b[39mself\u001b[39m\u001b[39m.\u001b[39mverbose, prefer\u001b[39m=\u001b[39mprefer)(\n\u001b[1;32m   1303\u001b[0m     path_func(\n\u001b[1;32m   1304\u001b[0m         X,\n\u001b[1;32m   1305\u001b[0m         y,\n\u001b[1;32m   1306\u001b[0m         pos_class\u001b[39m=\u001b[39mclass_,\n\u001b[1;32m   1307\u001b[0m         Cs\u001b[39m=\u001b[39m[C_],\n\u001b[1;32m   1308\u001b[0m         l1_ratio\u001b[39m=\u001b[39m\u001b[39mself\u001b[39m\u001b[39m.\u001b[39ml1_ratio,\n\u001b[1;32m   1309\u001b[0m         fit_intercept\u001b[39m=\u001b[39m\u001b[39mself\u001b[39m\u001b[39m.\u001b[39mfit_intercept,\n\u001b[1;32m   1310\u001b[0m         tol\u001b[39m=\u001b[39m\u001b[39mself\u001b[39m\u001b[39m.\u001b[39mtol,\n\u001b[1;32m   1311\u001b[0m         verbose\u001b[39m=\u001b[39m\u001b[39mself\u001b[39m\u001b[39m.\u001b[39mverbose,\n\u001b[1;32m   1312\u001b[0m         solver\u001b[39m=\u001b[39msolver,\n\u001b[1;32m   1313\u001b[0m         multi_class\u001b[39m=\u001b[39mmulti_class,\n\u001b[1;32m   1314\u001b[0m         max_iter\u001b[39m=\u001b[39m\u001b[39mself\u001b[39m\u001b[39m.\u001b[39mmax_iter,\n\u001b[1;32m   1315\u001b[0m         class_weight\u001b[39m=\u001b[39m\u001b[39mself\u001b[39m\u001b[39m.\u001b[39mclass_weight,\n\u001b[1;32m   1316\u001b[0m         check_input\u001b[39m=\u001b[39m\u001b[39mFalse\u001b[39;00m,\n\u001b[1;32m   1317\u001b[0m         random_state\u001b[39m=\u001b[39m\u001b[39mself\u001b[39m\u001b[39m.\u001b[39mrandom_state,\n\u001b[1;32m   1318\u001b[0m         coef\u001b[39m=\u001b[39mwarm_start_coef_,\n\u001b[1;32m   1319\u001b[0m         penalty\u001b[39m=\u001b[39mpenalty,\n\u001b[1;32m   1320\u001b[0m         max_squared_sum\u001b[39m=\u001b[39mmax_squared_sum,\n\u001b[1;32m   1321\u001b[0m         sample_weight\u001b[39m=\u001b[39msample_weight,\n\u001b[1;32m   1322\u001b[0m         n_threads\u001b[39m=\u001b[39mn_threads,\n\u001b[1;32m   1323\u001b[0m     )\n\u001b[1;32m   1324\u001b[0m     \u001b[39mfor\u001b[39;00m class_, warm_start_coef_ \u001b[39min\u001b[39;00m \u001b[39mzip\u001b[39m(classes_, warm_start_coef)\n\u001b[1;32m   1325\u001b[0m )\n\u001b[1;32m   1327\u001b[0m fold_coefs_, _, n_iter_ \u001b[39m=\u001b[39m \u001b[39mzip\u001b[39m(\u001b[39m*\u001b[39mfold_coefs_)\n\u001b[1;32m   1328\u001b[0m \u001b[39mself\u001b[39m\u001b[39m.\u001b[39mn_iter_ \u001b[39m=\u001b[39m np\u001b[39m.\u001b[39masarray(n_iter_, dtype\u001b[39m=\u001b[39mnp\u001b[39m.\u001b[39mint32)[:, \u001b[39m0\u001b[39m]\n",
      "File \u001b[0;32m~/anaconda3/lib/python3.11/site-packages/sklearn/utils/parallel.py:65\u001b[0m, in \u001b[0;36mParallel.__call__\u001b[0;34m(self, iterable)\u001b[0m\n\u001b[1;32m     60\u001b[0m config \u001b[39m=\u001b[39m get_config()\n\u001b[1;32m     61\u001b[0m iterable_with_config \u001b[39m=\u001b[39m (\n\u001b[1;32m     62\u001b[0m     (_with_config(delayed_func, config), args, kwargs)\n\u001b[1;32m     63\u001b[0m     \u001b[39mfor\u001b[39;00m delayed_func, args, kwargs \u001b[39min\u001b[39;00m iterable\n\u001b[1;32m     64\u001b[0m )\n\u001b[0;32m---> 65\u001b[0m \u001b[39mreturn\u001b[39;00m \u001b[39msuper\u001b[39m()\u001b[39m.\u001b[39m\u001b[39m__call__\u001b[39m(iterable_with_config)\n",
      "File \u001b[0;32m~/anaconda3/lib/python3.11/site-packages/joblib/parallel.py:1085\u001b[0m, in \u001b[0;36mParallel.__call__\u001b[0;34m(self, iterable)\u001b[0m\n\u001b[1;32m   1076\u001b[0m \u001b[39mtry\u001b[39;00m:\n\u001b[1;32m   1077\u001b[0m     \u001b[39m# Only set self._iterating to True if at least a batch\u001b[39;00m\n\u001b[1;32m   1078\u001b[0m     \u001b[39m# was dispatched. In particular this covers the edge\u001b[39;00m\n\u001b[0;32m   (...)\u001b[0m\n\u001b[1;32m   1082\u001b[0m     \u001b[39m# was very quick and its callback already dispatched all the\u001b[39;00m\n\u001b[1;32m   1083\u001b[0m     \u001b[39m# remaining jobs.\u001b[39;00m\n\u001b[1;32m   1084\u001b[0m     \u001b[39mself\u001b[39m\u001b[39m.\u001b[39m_iterating \u001b[39m=\u001b[39m \u001b[39mFalse\u001b[39;00m\n\u001b[0;32m-> 1085\u001b[0m     \u001b[39mif\u001b[39;00m \u001b[39mself\u001b[39m\u001b[39m.\u001b[39mdispatch_one_batch(iterator):\n\u001b[1;32m   1086\u001b[0m         \u001b[39mself\u001b[39m\u001b[39m.\u001b[39m_iterating \u001b[39m=\u001b[39m \u001b[39mself\u001b[39m\u001b[39m.\u001b[39m_original_iterator \u001b[39mis\u001b[39;00m \u001b[39mnot\u001b[39;00m \u001b[39mNone\u001b[39;00m\n\u001b[1;32m   1088\u001b[0m     \u001b[39mwhile\u001b[39;00m \u001b[39mself\u001b[39m\u001b[39m.\u001b[39mdispatch_one_batch(iterator):\n",
      "File \u001b[0;32m~/anaconda3/lib/python3.11/site-packages/joblib/parallel.py:901\u001b[0m, in \u001b[0;36mParallel.dispatch_one_batch\u001b[0;34m(self, iterator)\u001b[0m\n\u001b[1;32m    899\u001b[0m     \u001b[39mreturn\u001b[39;00m \u001b[39mFalse\u001b[39;00m\n\u001b[1;32m    900\u001b[0m \u001b[39melse\u001b[39;00m:\n\u001b[0;32m--> 901\u001b[0m     \u001b[39mself\u001b[39m\u001b[39m.\u001b[39m_dispatch(tasks)\n\u001b[1;32m    902\u001b[0m     \u001b[39mreturn\u001b[39;00m \u001b[39mTrue\u001b[39;00m\n",
      "File \u001b[0;32m~/anaconda3/lib/python3.11/site-packages/joblib/parallel.py:819\u001b[0m, in \u001b[0;36mParallel._dispatch\u001b[0;34m(self, batch)\u001b[0m\n\u001b[1;32m    817\u001b[0m \u001b[39mwith\u001b[39;00m \u001b[39mself\u001b[39m\u001b[39m.\u001b[39m_lock:\n\u001b[1;32m    818\u001b[0m     job_idx \u001b[39m=\u001b[39m \u001b[39mlen\u001b[39m(\u001b[39mself\u001b[39m\u001b[39m.\u001b[39m_jobs)\n\u001b[0;32m--> 819\u001b[0m     job \u001b[39m=\u001b[39m \u001b[39mself\u001b[39m\u001b[39m.\u001b[39m_backend\u001b[39m.\u001b[39mapply_async(batch, callback\u001b[39m=\u001b[39mcb)\n\u001b[1;32m    820\u001b[0m     \u001b[39m# A job can complete so quickly than its callback is\u001b[39;00m\n\u001b[1;32m    821\u001b[0m     \u001b[39m# called before we get here, causing self._jobs to\u001b[39;00m\n\u001b[1;32m    822\u001b[0m     \u001b[39m# grow. To ensure correct results ordering, .insert is\u001b[39;00m\n\u001b[1;32m    823\u001b[0m     \u001b[39m# used (rather than .append) in the following line\u001b[39;00m\n\u001b[1;32m    824\u001b[0m     \u001b[39mself\u001b[39m\u001b[39m.\u001b[39m_jobs\u001b[39m.\u001b[39minsert(job_idx, job)\n",
      "File \u001b[0;32m~/anaconda3/lib/python3.11/site-packages/joblib/_parallel_backends.py:208\u001b[0m, in \u001b[0;36mSequentialBackend.apply_async\u001b[0;34m(self, func, callback)\u001b[0m\n\u001b[1;32m    206\u001b[0m \u001b[39mdef\u001b[39;00m \u001b[39mapply_async\u001b[39m(\u001b[39mself\u001b[39m, func, callback\u001b[39m=\u001b[39m\u001b[39mNone\u001b[39;00m):\n\u001b[1;32m    207\u001b[0m \u001b[39m    \u001b[39m\u001b[39m\"\"\"Schedule a func to be run\"\"\"\u001b[39;00m\n\u001b[0;32m--> 208\u001b[0m     result \u001b[39m=\u001b[39m ImmediateResult(func)\n\u001b[1;32m    209\u001b[0m     \u001b[39mif\u001b[39;00m callback:\n\u001b[1;32m    210\u001b[0m         callback(result)\n",
      "File \u001b[0;32m~/anaconda3/lib/python3.11/site-packages/joblib/_parallel_backends.py:597\u001b[0m, in \u001b[0;36mImmediateResult.__init__\u001b[0;34m(self, batch)\u001b[0m\n\u001b[1;32m    594\u001b[0m \u001b[39mdef\u001b[39;00m \u001b[39m__init__\u001b[39m(\u001b[39mself\u001b[39m, batch):\n\u001b[1;32m    595\u001b[0m     \u001b[39m# Don't delay the application, to avoid keeping the input\u001b[39;00m\n\u001b[1;32m    596\u001b[0m     \u001b[39m# arguments in memory\u001b[39;00m\n\u001b[0;32m--> 597\u001b[0m     \u001b[39mself\u001b[39m\u001b[39m.\u001b[39mresults \u001b[39m=\u001b[39m batch()\n",
      "File \u001b[0;32m~/anaconda3/lib/python3.11/site-packages/joblib/parallel.py:288\u001b[0m, in \u001b[0;36mBatchedCalls.__call__\u001b[0;34m(self)\u001b[0m\n\u001b[1;32m    284\u001b[0m \u001b[39mdef\u001b[39;00m \u001b[39m__call__\u001b[39m(\u001b[39mself\u001b[39m):\n\u001b[1;32m    285\u001b[0m     \u001b[39m# Set the default nested backend to self._backend but do not set the\u001b[39;00m\n\u001b[1;32m    286\u001b[0m     \u001b[39m# change the default number of processes to -1\u001b[39;00m\n\u001b[1;32m    287\u001b[0m     \u001b[39mwith\u001b[39;00m parallel_backend(\u001b[39mself\u001b[39m\u001b[39m.\u001b[39m_backend, n_jobs\u001b[39m=\u001b[39m\u001b[39mself\u001b[39m\u001b[39m.\u001b[39m_n_jobs):\n\u001b[0;32m--> 288\u001b[0m         \u001b[39mreturn\u001b[39;00m [func(\u001b[39m*\u001b[39margs, \u001b[39m*\u001b[39m\u001b[39m*\u001b[39mkwargs)\n\u001b[1;32m    289\u001b[0m                 \u001b[39mfor\u001b[39;00m func, args, kwargs \u001b[39min\u001b[39;00m \u001b[39mself\u001b[39m\u001b[39m.\u001b[39mitems]\n",
      "File \u001b[0;32m~/anaconda3/lib/python3.11/site-packages/joblib/parallel.py:288\u001b[0m, in \u001b[0;36m<listcomp>\u001b[0;34m(.0)\u001b[0m\n\u001b[1;32m    284\u001b[0m \u001b[39mdef\u001b[39;00m \u001b[39m__call__\u001b[39m(\u001b[39mself\u001b[39m):\n\u001b[1;32m    285\u001b[0m     \u001b[39m# Set the default nested backend to self._backend but do not set the\u001b[39;00m\n\u001b[1;32m    286\u001b[0m     \u001b[39m# change the default number of processes to -1\u001b[39;00m\n\u001b[1;32m    287\u001b[0m     \u001b[39mwith\u001b[39;00m parallel_backend(\u001b[39mself\u001b[39m\u001b[39m.\u001b[39m_backend, n_jobs\u001b[39m=\u001b[39m\u001b[39mself\u001b[39m\u001b[39m.\u001b[39m_n_jobs):\n\u001b[0;32m--> 288\u001b[0m         \u001b[39mreturn\u001b[39;00m [func(\u001b[39m*\u001b[39margs, \u001b[39m*\u001b[39m\u001b[39m*\u001b[39mkwargs)\n\u001b[1;32m    289\u001b[0m                 \u001b[39mfor\u001b[39;00m func, args, kwargs \u001b[39min\u001b[39;00m \u001b[39mself\u001b[39m\u001b[39m.\u001b[39mitems]\n",
      "File \u001b[0;32m~/anaconda3/lib/python3.11/site-packages/sklearn/utils/parallel.py:127\u001b[0m, in \u001b[0;36m_FuncWrapper.__call__\u001b[0;34m(self, *args, **kwargs)\u001b[0m\n\u001b[1;32m    125\u001b[0m     config \u001b[39m=\u001b[39m {}\n\u001b[1;32m    126\u001b[0m \u001b[39mwith\u001b[39;00m config_context(\u001b[39m*\u001b[39m\u001b[39m*\u001b[39mconfig):\n\u001b[0;32m--> 127\u001b[0m     \u001b[39mreturn\u001b[39;00m \u001b[39mself\u001b[39m\u001b[39m.\u001b[39mfunction(\u001b[39m*\u001b[39margs, \u001b[39m*\u001b[39m\u001b[39m*\u001b[39mkwargs)\n",
      "File \u001b[0;32m~/anaconda3/lib/python3.11/site-packages/sklearn/linear_model/_logistic.py:452\u001b[0m, in \u001b[0;36m_logistic_regression_path\u001b[0;34m(X, y, pos_class, Cs, fit_intercept, max_iter, tol, verbose, solver, coef, class_weight, dual, penalty, intercept_scaling, multi_class, random_state, check_input, max_squared_sum, sample_weight, l1_ratio, n_threads)\u001b[0m\n\u001b[1;32m    448\u001b[0m l2_reg_strength \u001b[39m=\u001b[39m \u001b[39m1.0\u001b[39m \u001b[39m/\u001b[39m C\n\u001b[1;32m    449\u001b[0m iprint \u001b[39m=\u001b[39m [\u001b[39m-\u001b[39m\u001b[39m1\u001b[39m, \u001b[39m50\u001b[39m, \u001b[39m1\u001b[39m, \u001b[39m100\u001b[39m, \u001b[39m101\u001b[39m][\n\u001b[1;32m    450\u001b[0m     np\u001b[39m.\u001b[39msearchsorted(np\u001b[39m.\u001b[39marray([\u001b[39m0\u001b[39m, \u001b[39m1\u001b[39m, \u001b[39m2\u001b[39m, \u001b[39m3\u001b[39m]), verbose)\n\u001b[1;32m    451\u001b[0m ]\n\u001b[0;32m--> 452\u001b[0m opt_res \u001b[39m=\u001b[39m optimize\u001b[39m.\u001b[39mminimize(\n\u001b[1;32m    453\u001b[0m     func,\n\u001b[1;32m    454\u001b[0m     w0,\n\u001b[1;32m    455\u001b[0m     method\u001b[39m=\u001b[39m\u001b[39m\"\u001b[39m\u001b[39mL-BFGS-B\u001b[39m\u001b[39m\"\u001b[39m,\n\u001b[1;32m    456\u001b[0m     jac\u001b[39m=\u001b[39m\u001b[39mTrue\u001b[39;00m,\n\u001b[1;32m    457\u001b[0m     args\u001b[39m=\u001b[39m(X, target, sample_weight, l2_reg_strength, n_threads),\n\u001b[1;32m    458\u001b[0m     options\u001b[39m=\u001b[39m{\u001b[39m\"\u001b[39m\u001b[39miprint\u001b[39m\u001b[39m\"\u001b[39m: iprint, \u001b[39m\"\u001b[39m\u001b[39mgtol\u001b[39m\u001b[39m\"\u001b[39m: tol, \u001b[39m\"\u001b[39m\u001b[39mmaxiter\u001b[39m\u001b[39m\"\u001b[39m: max_iter},\n\u001b[1;32m    459\u001b[0m )\n\u001b[1;32m    460\u001b[0m n_iter_i \u001b[39m=\u001b[39m _check_optimize_result(\n\u001b[1;32m    461\u001b[0m     solver,\n\u001b[1;32m    462\u001b[0m     opt_res,\n\u001b[1;32m    463\u001b[0m     max_iter,\n\u001b[1;32m    464\u001b[0m     extra_warning_msg\u001b[39m=\u001b[39m_LOGISTIC_SOLVER_CONVERGENCE_MSG,\n\u001b[1;32m    465\u001b[0m )\n\u001b[1;32m    466\u001b[0m w0, loss \u001b[39m=\u001b[39m opt_res\u001b[39m.\u001b[39mx, opt_res\u001b[39m.\u001b[39mfun\n",
      "File \u001b[0;32m~/anaconda3/lib/python3.11/site-packages/scipy/optimize/_minimize.py:710\u001b[0m, in \u001b[0;36mminimize\u001b[0;34m(fun, x0, args, method, jac, hess, hessp, bounds, constraints, tol, callback, options)\u001b[0m\n\u001b[1;32m    707\u001b[0m     res \u001b[39m=\u001b[39m _minimize_newtoncg(fun, x0, args, jac, hess, hessp, callback,\n\u001b[1;32m    708\u001b[0m                              \u001b[39m*\u001b[39m\u001b[39m*\u001b[39moptions)\n\u001b[1;32m    709\u001b[0m \u001b[39melif\u001b[39;00m meth \u001b[39m==\u001b[39m \u001b[39m'\u001b[39m\u001b[39ml-bfgs-b\u001b[39m\u001b[39m'\u001b[39m:\n\u001b[0;32m--> 710\u001b[0m     res \u001b[39m=\u001b[39m _minimize_lbfgsb(fun, x0, args, jac, bounds,\n\u001b[1;32m    711\u001b[0m                            callback\u001b[39m=\u001b[39mcallback, \u001b[39m*\u001b[39m\u001b[39m*\u001b[39moptions)\n\u001b[1;32m    712\u001b[0m \u001b[39melif\u001b[39;00m meth \u001b[39m==\u001b[39m \u001b[39m'\u001b[39m\u001b[39mtnc\u001b[39m\u001b[39m'\u001b[39m:\n\u001b[1;32m    713\u001b[0m     res \u001b[39m=\u001b[39m _minimize_tnc(fun, x0, args, jac, bounds, callback\u001b[39m=\u001b[39mcallback,\n\u001b[1;32m    714\u001b[0m                         \u001b[39m*\u001b[39m\u001b[39m*\u001b[39moptions)\n",
      "File \u001b[0;32m~/anaconda3/lib/python3.11/site-packages/scipy/optimize/_lbfgsb_py.py:356\u001b[0m, in \u001b[0;36m_minimize_lbfgsb\u001b[0;34m(fun, x0, args, jac, bounds, disp, maxcor, ftol, gtol, eps, maxfun, maxiter, iprint, callback, maxls, finite_diff_rel_step, **unknown_options)\u001b[0m\n\u001b[1;32m    354\u001b[0m g \u001b[39m=\u001b[39m g\u001b[39m.\u001b[39mastype(np\u001b[39m.\u001b[39mfloat64)\n\u001b[1;32m    355\u001b[0m \u001b[39m# x, f, g, wa, iwa, task, csave, lsave, isave, dsave = \\\u001b[39;00m\n\u001b[0;32m--> 356\u001b[0m _lbfgsb\u001b[39m.\u001b[39msetulb(m, x, low_bnd, upper_bnd, nbd, f, g, factr,\n\u001b[1;32m    357\u001b[0m                pgtol, wa, iwa, task, iprint, csave, lsave,\n\u001b[1;32m    358\u001b[0m                isave, dsave, maxls)\n\u001b[1;32m    359\u001b[0m task_str \u001b[39m=\u001b[39m task\u001b[39m.\u001b[39mtobytes()\n\u001b[1;32m    360\u001b[0m \u001b[39mif\u001b[39;00m task_str\u001b[39m.\u001b[39mstartswith(\u001b[39mb\u001b[39m\u001b[39m'\u001b[39m\u001b[39mFG\u001b[39m\u001b[39m'\u001b[39m):\n\u001b[1;32m    361\u001b[0m     \u001b[39m# The minimization routine wants f and g at the current x.\u001b[39;00m\n\u001b[1;32m    362\u001b[0m     \u001b[39m# Note that interruptions due to maxfun are postponed\u001b[39;00m\n\u001b[1;32m    363\u001b[0m     \u001b[39m# until the completion of the current minimization iteration.\u001b[39;00m\n\u001b[1;32m    364\u001b[0m     \u001b[39m# Overwrite f and g:\u001b[39;00m\n",
      "\u001b[0;31mKeyboardInterrupt\u001b[0m: "
     ]
    }
   ],
   "source": [
    "from sklearn.linear_model import LogisticRegression\n",
    "\n",
    "start_time = time.time()\n",
    "text_clf = Pipeline([('vect', CountVectorizer(ngram_range=(1, 1),\n",
    "                                              max_df=0.8,\n",
    "                                              max_features=None)),\n",
    "                     ('tfidf', TfidfTransformer()),\n",
    "                     ('clf', LogisticRegression(solver='lbfgs',\n",
    "                                                multi_class='auto',\n",
    "                                                max_iter=10000))\n",
    "                     ])\n",
    "text_clf = text_clf.fit(X_train, y_train)\n",
    "\n",
    "train_time = time.time() - start_time\n",
    "print('Done training Linear Classifier in', train_time, 'seconds.')\n",
    "\n",
    "# Save model\n",
    "pickle.dump(text_clf, open(os.path.join(\n",
    "    MODEL_PATH, \"linear_classifier.pkl\"), 'wb'))"
   ]
  }
 ],
 "metadata": {
  "kernelspec": {
   "display_name": "Python 3 (ipykernel)",
   "language": "python",
   "name": "python3"
  },
  "language_info": {
   "codemirror_mode": {
    "name": "ipython",
    "version": 3
   },
   "file_extension": ".py",
   "mimetype": "text/x-python",
   "name": "python",
   "nbconvert_exporter": "python",
   "pygments_lexer": "ipython3",
   "version": "3.11.5"
  }
 },
 "nbformat": 4,
 "nbformat_minor": 5
}
