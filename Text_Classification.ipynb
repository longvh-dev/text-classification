{
 "cells": [
  {
   "cell_type": "code",
   "execution_count": 2,
   "id": "8144627f",
   "metadata": {},
   "outputs": [
    {
     "name": "stdout",
     "output_type": "stream",
     "text": [
      "Requirement already satisfied: underthesea in /Users/long/anaconda3/lib/python3.11/site-packages (6.8.0)\n",
      "Requirement already satisfied: Click>=6.0 in /Users/long/anaconda3/lib/python3.11/site-packages (from underthesea) (8.0.4)\n",
      "Requirement already satisfied: python-crfsuite>=0.9.6 in /Users/long/anaconda3/lib/python3.11/site-packages (from underthesea) (0.9.9)\n",
      "Requirement already satisfied: nltk in /Users/long/anaconda3/lib/python3.11/site-packages (from underthesea) (3.8.1)\n",
      "Requirement already satisfied: tqdm in /Users/long/anaconda3/lib/python3.11/site-packages (from underthesea) (4.65.0)\n",
      "Requirement already satisfied: requests in /Users/long/anaconda3/lib/python3.11/site-packages (from underthesea) (2.31.0)\n",
      "Requirement already satisfied: joblib in /Users/long/anaconda3/lib/python3.11/site-packages (from underthesea) (1.2.0)\n",
      "Requirement already satisfied: scikit-learn in /Users/long/anaconda3/lib/python3.11/site-packages (from underthesea) (1.3.0)\n",
      "Requirement already satisfied: PyYAML in /Users/long/anaconda3/lib/python3.11/site-packages (from underthesea) (6.0)\n",
      "Requirement already satisfied: underthesea-core==1.0.4 in /Users/long/anaconda3/lib/python3.11/site-packages (from underthesea) (1.0.4)\n",
      "Requirement already satisfied: regex>=2021.8.3 in /Users/long/anaconda3/lib/python3.11/site-packages (from nltk->underthesea) (2023.10.3)\n",
      "Requirement already satisfied: charset-normalizer<4,>=2 in /Users/long/anaconda3/lib/python3.11/site-packages (from requests->underthesea) (2.0.4)\n",
      "Requirement already satisfied: idna<4,>=2.5 in /Users/long/anaconda3/lib/python3.11/site-packages (from requests->underthesea) (3.4)\n",
      "Requirement already satisfied: urllib3<3,>=1.21.1 in /Users/long/anaconda3/lib/python3.11/site-packages (from requests->underthesea) (1.26.16)\n",
      "Requirement already satisfied: certifi>=2017.4.17 in /Users/long/anaconda3/lib/python3.11/site-packages (from requests->underthesea) (2023.7.22)\n",
      "Requirement already satisfied: numpy>=1.17.3 in /Users/long/anaconda3/lib/python3.11/site-packages (from scikit-learn->underthesea) (1.24.3)\n",
      "Requirement already satisfied: scipy>=1.5.0 in /Users/long/anaconda3/lib/python3.11/site-packages (from scikit-learn->underthesea) (1.11.3)\n",
      "Requirement already satisfied: threadpoolctl>=2.0.0 in /Users/long/anaconda3/lib/python3.11/site-packages (from scikit-learn->underthesea) (2.2.0)\n"
     ]
    }
   ],
   "source": [
    "!pip3 install --user underthesea"
   ]
  },
  {
   "cell_type": "code",
   "execution_count": 23,
   "id": "4f3d02ce",
   "metadata": {},
   "outputs": [],
   "source": [
    "import regex as re\n",
    "from underthesea import word_tokenize\n",
    "import pandas as pd"
   ]
  },
  {
   "cell_type": "code",
   "execution_count": 24,
   "id": "4b00f848",
   "metadata": {},
   "outputs": [
    {
     "name": "stdout",
     "output_type": "stream",
     "text": [
      "14976\n",
      "14976\n",
      "['__label__Ghế_văn_phòng', '__label__Thước_dây', '__label__Cưa_tay', '__label__Váy,_đầm', '__label__Dụng_cụ_đo,_kiểm_tra_khác']\n",
      "['Ghế HQ - HK095', '30m Thước dây làm bằng sợi thủy tinh TOTAL TMTF12306', 'Cưa gỗ cầm tay cán lớn Asaki AK - 8657', 'Đầm ren cổ V tay ngắn cao cấp', 'Máy đo độ đồng tâm HANN YAN 6401D1']\n"
     ]
    }
   ],
   "source": [
    "# read txt file\n",
    "f = open(\"input/product_train_0.txt\", \"r\")\n",
    "\n",
    "# get category and product\n",
    "categories = []\n",
    "products = []\n",
    "\n",
    "while True:\n",
    "    line = f.readline()\n",
    "    if not line:\n",
    "        break\n",
    "    category = line.split(\" \", 1)[0]\n",
    "    categories.append(category)\n",
    "\n",
    "    product = ''.join(line.split(\" \", 1)[1:]).replace(\"\\n\", \"\")\n",
    "    products.append(product)\n",
    "\n",
    "# remove duplicate\n",
    "unique_categories = list(dict.fromkeys(categories))\n",
    "\n",
    "print(len(categories))\n",
    "print(len(products))\n",
    "\n",
    "print(categories[0:5])\n",
    "print(products[0:5])"
   ]
  },
  {
   "cell_type": "code",
   "execution_count": 25,
   "id": "cf80cb4a",
   "metadata": {
    "scrolled": false
   },
   "outputs": [
    {
     "name": "stdout",
     "output_type": "stream",
     "text": [
      "                                            products  \\\n",
      "0                                     Ghế HQ - HK095   \n",
      "1  30m Thước dây làm bằng sợi thủy tinh TOTAL TMT...   \n",
      "2             Cưa gỗ cầm tay cán lớn Asaki AK - 8657   \n",
      "3                      Đầm ren cổ V tay ngắn cao cấp   \n",
      "4                 Máy đo độ đồng tâm HANN YAN 6401D1   \n",
      "\n",
      "                           categories  \n",
      "0              __label__Ghế_văn_phòng  \n",
      "1                  __label__Thước_dây  \n",
      "2                    __label__Cưa_tay  \n",
      "3                   __label__Váy,_đầm  \n",
      "4  __label__Dụng_cụ_đo,_kiểm_tra_khác  \n"
     ]
    }
   ],
   "source": [
    "data = pd.DataFrame(list(zip(products, categories)),\n",
    "                    columns=['products', 'categories'])\n",
    "print(data.head(5))"
   ]
  },
  {
   "cell_type": "markdown",
   "id": "f67cb6fe",
   "metadata": {},
   "source": [
    "# EDA\n"
   ]
  },
  {
   "cell_type": "code",
   "execution_count": 26,
   "id": "1ff38268",
   "metadata": {},
   "outputs": [
    {
     "data": {
      "text/plain": [
       "products      0\n",
       "categories    0\n",
       "dtype: int64"
      ]
     },
     "execution_count": 26,
     "metadata": {},
     "output_type": "execute_result"
    }
   ],
   "source": [
    "# check misssing values\n",
    "\n",
    "data.isna().sum()"
   ]
  },
  {
   "cell_type": "code",
   "execution_count": 27,
   "id": "1d0f0177",
   "metadata": {},
   "outputs": [
    {
     "data": {
      "text/plain": [
       "(14976, 2)"
      ]
     },
     "execution_count": 27,
     "metadata": {},
     "output_type": "execute_result"
    }
   ],
   "source": [
    "# check data shape\n",
    "\n",
    "data.shape"
   ]
  },
  {
   "cell_type": "code",
   "execution_count": 28,
   "id": "7fbfd8b9",
   "metadata": {},
   "outputs": [
    {
     "name": "stdout",
     "output_type": "stream",
     "text": [
      "categories\n",
      "__label__Bao_đựng,_ốp_lưng_điện_thoại    342\n",
      "__label__Bàn_ghế_phòng_khách             187\n",
      "__label__Bộ_bàn_ghế_cafe                 175\n",
      "__label__Váy,_đầm                        158\n",
      "__label__Bộ_bàn_ghế_(_phòng_ăn,_bếp_)    135\n",
      "                                        ... \n",
      "__label__Tời_kéo                           1\n",
      "__label__Van_công_nghiệp_khác              1\n",
      "__label__Máy_in_khổ_lớn                    1\n",
      "__label__Bể_cá                             1\n",
      "__label__Bánh_pía                          1\n",
      "Name: count, Length: 1971, dtype: int64\n"
     ]
    }
   ],
   "source": [
    "# check target balance\n",
    "\n",
    "print(data['categories'].value_counts())"
   ]
  },
  {
   "cell_type": "code",
   "execution_count": null,
   "id": "f9e28a57",
   "metadata": {},
   "outputs": [],
   "source": []
  },
  {
   "cell_type": "markdown",
   "id": "fcbb7e89",
   "metadata": {},
   "source": [
    "# Data Preprocessing\n"
   ]
  },
  {
   "cell_type": "markdown",
   "id": "236590f4",
   "metadata": {},
   "source": [
    "## 1. Chuẩn hoá unicode\n"
   ]
  },
  {
   "cell_type": "code",
   "execution_count": 29,
   "id": "1fa1ab93",
   "metadata": {},
   "outputs": [],
   "source": [
    "uniChars = \"àáảãạâầấẩẫậăằắẳẵặèéẻẽẹêềếểễệđìíỉĩịòóỏõọôồốổỗộơờớởỡợùúủũụưừứửữựỳýỷỹỵÀÁẢÃẠÂẦẤẨẪẬĂẰẮẲẴẶÈÉẺẼẸÊỀẾỂỄỆĐÌÍỈĨỊÒÓỎÕỌÔỒỐỔỖỘƠỜỚỞỠỢÙÚỦŨỤƯỪỨỬỮỰỲÝỶỸỴÂĂĐÔƠƯ\"\n",
    "unsignChars = \"aaaaaaaaaaaaaaaaaeeeeeeeeeeediiiiiooooooooooooooooouuuuuuuuuuuyyyyyAAAAAAAAAAAAAAAAAEEEEEEEEEEEDIIIOOOOOOOOOOOOOOOOOOOUUUUUUUUUUUYYYYYAADOOU\"\n",
    "\n",
    "\n",
    "def loaddicchar():\n",
    "    dic = {}\n",
    "    char1252 = 'à|á|ả|ã|ạ|ầ|ấ|ẩ|ẫ|ậ|ằ|ắ|ẳ|ẵ|ặ|è|é|ẻ|ẽ|ẹ|ề|ế|ể|ễ|ệ|ì|í|ỉ|ĩ|ị|ò|ó|ỏ|õ|ọ|ồ|ố|ổ|ỗ|ộ|ờ|ớ|ở|ỡ|ợ|ù|ú|ủ|ũ|ụ|ừ|ứ|ử|ữ|ự|ỳ|ý|ỷ|ỹ|ỵ|À|Á|Ả|Ã|Ạ|Ầ|Ấ|Ẩ|Ẫ|Ậ|Ằ|Ắ|Ẳ|Ẵ|Ặ|È|É|Ẻ|Ẽ|Ẹ|Ề|Ế|Ể|Ễ|Ệ|Ì|Í|Ỉ|Ĩ|Ị|Ò|Ó|Ỏ|Õ|Ọ|Ồ|Ố|Ổ|Ỗ|Ộ|Ờ|Ớ|Ở|Ỡ|Ợ|Ù|Ú|Ủ|Ũ|Ụ|Ừ|Ứ|Ử|Ữ|Ự|Ỳ|Ý|Ỷ|Ỹ|Ỵ'.split(\n",
    "        '|')\n",
    "    charutf8 = \"à|á|ả|ã|ạ|ầ|ấ|ẩ|ẫ|ậ|ằ|ắ|ẳ|ẵ|ặ|è|é|ẻ|ẽ|ẹ|ề|ế|ể|ễ|ệ|ì|í|ỉ|ĩ|ị|ò|ó|ỏ|õ|ọ|ồ|ố|ổ|ỗ|ộ|ờ|ớ|ở|ỡ|ợ|ù|ú|ủ|ũ|ụ|ừ|ứ|ử|ữ|ự|ỳ|ý|ỷ|ỹ|ỵ|À|Á|Ả|Ã|Ạ|Ầ|Ấ|Ẩ|Ẫ|Ậ|Ằ|Ắ|Ẳ|Ẵ|Ặ|È|É|Ẻ|Ẽ|Ẹ|Ề|Ế|Ể|Ễ|Ệ|Ì|Í|Ỉ|Ĩ|Ị|Ò|Ó|Ỏ|Õ|Ọ|Ồ|Ố|Ổ|Ỗ|Ộ|Ờ|Ớ|Ở|Ỡ|Ợ|Ù|Ú|Ủ|Ũ|Ụ|Ừ|Ứ|Ử|Ữ|Ự|Ỳ|Ý|Ỷ|Ỹ|Ỵ\".split(\n",
    "        '|')\n",
    "    for i in range(len(char1252)):\n",
    "        dic[char1252[i]] = charutf8[i]\n",
    "    return dic\n",
    "\n",
    "\n",
    "dicchar = loaddicchar()\n",
    "\n",
    "# Hàm chuyển Unicode dựng sẵn về Unicde tổ hợp (phổ biến hơn)\n",
    "\n",
    "\n",
    "def convert_unicode(txt):\n",
    "    return re.sub(\n",
    "        r'à|á|ả|ã|ạ|ầ|ấ|ẩ|ẫ|ậ|ằ|ắ|ẳ|ẵ|ặ|è|é|ẻ|ẽ|ẹ|ề|ế|ể|ễ|ệ|ì|í|ỉ|ĩ|ị|ò|ó|ỏ|õ|ọ|ồ|ố|ổ|ỗ|ộ|ờ|ớ|ở|ỡ|ợ|ù|ú|ủ|ũ|ụ|ừ|ứ|ử|ữ|ự|ỳ|ý|ỷ|ỹ|ỵ|À|Á|Ả|Ã|Ạ|Ầ|Ấ|Ẩ|Ẫ|Ậ|Ằ|Ắ|Ẳ|Ẵ|Ặ|È|É|Ẻ|Ẽ|Ẹ|Ề|Ế|Ể|Ễ|Ệ|Ì|Í|Ỉ|Ĩ|Ị|Ò|Ó|Ỏ|Õ|Ọ|Ồ|Ố|Ổ|Ỗ|Ộ|Ờ|Ớ|Ở|Ỡ|Ợ|Ù|Ú|Ủ|Ũ|Ụ|Ừ|Ứ|Ử|Ữ|Ự|Ỳ|Ý|Ỷ|Ỹ|Ỵ',\n",
    "        lambda x: dicchar[x.group()], txt)\n",
    "\n",
    "\n",
    "bang_nguyen_am = [['a', 'à', 'á', 'ả', 'ã', 'ạ', 'a'],\n",
    "                  ['ă', 'ằ', 'ắ', 'ẳ', 'ẵ', 'ặ', 'aw'],\n",
    "                  ['â', 'ầ', 'ấ', 'ẩ', 'ẫ', 'ậ', 'aa'],\n",
    "                  ['e', 'è', 'é', 'ẻ', 'ẽ', 'ẹ', 'e'],\n",
    "                  ['ê', 'ề', 'ế', 'ể', 'ễ', 'ệ', 'ee'],\n",
    "                  ['i', 'ì', 'í', 'ỉ', 'ĩ', 'ị', 'i'],\n",
    "                  ['o', 'ò', 'ó', 'ỏ', 'õ', 'ọ', 'o'],\n",
    "                  ['ô', 'ồ', 'ố', 'ổ', 'ỗ', 'ộ', 'oo'],\n",
    "                  ['ơ', 'ờ', 'ớ', 'ở', 'ỡ', 'ợ', 'ow'],\n",
    "                  ['u', 'ù', 'ú', 'ủ', 'ũ', 'ụ', 'u'],\n",
    "                  ['ư', 'ừ', 'ứ', 'ử', 'ữ', 'ự', 'uw'],\n",
    "                  ['y', 'ỳ', 'ý', 'ỷ', 'ỹ', 'ỵ', 'y']]\n",
    "bang_ky_tu_dau = ['', 'f', 's', 'r', 'x', 'j']\n",
    "\n",
    "nguyen_am_to_ids = {}\n",
    "\n",
    "for i in range(len(bang_nguyen_am)):\n",
    "    for j in range(len(bang_nguyen_am[i]) - 1):\n",
    "        nguyen_am_to_ids[bang_nguyen_am[i][j]] = (i, j)"
   ]
  },
  {
   "cell_type": "markdown",
   "id": "f2444beb",
   "metadata": {},
   "source": [
    "## 2. Chuẩn hoá kiểu gõ dấu\n",
    "\n",
    "VD: **òa** và **oà** là 2 từ khác nhau. <br>\n",
    "Chi tiết: [Wikipedia](https://vi.wikipedia.org/wiki/Quy_t%E1%BA%AFc_%C4%91%E1%BA%B7t_d%E1%BA%A5u_thanh_c%E1%BB%A7a_ch%E1%BB%AF_Qu%E1%BB%91c_ng%E1%BB%AF)\n"
   ]
  },
  {
   "cell_type": "code",
   "execution_count": 30,
   "id": "29f8c2dd",
   "metadata": {},
   "outputs": [
    {
     "name": "stdout",
     "output_type": "stream",
     "text": [
      "anh hòa thụy, đang làm.. gì\n"
     ]
    }
   ],
   "source": [
    "def chuan_hoa_dau_tu_tieng_viet(word):\n",
    "    if not is_valid_vietnam_word(word):\n",
    "        return word\n",
    "\n",
    "    chars = list(word)\n",
    "    dau_cau = 0\n",
    "    nguyen_am_index = []\n",
    "    qu_or_gi = False\n",
    "    for index, char in enumerate(chars):\n",
    "        x, y = nguyen_am_to_ids.get(char, (-1, -1))\n",
    "        if x == -1:\n",
    "            continue\n",
    "        elif x == 9:  # check qu\n",
    "            if index != 0 and chars[index - 1] == 'q':\n",
    "                chars[index] = 'u'\n",
    "                qu_or_gi = True\n",
    "        elif x == 5:  # check gi\n",
    "            if index != 0 and chars[index - 1] == 'g':\n",
    "                chars[index] = 'i'\n",
    "                qu_or_gi = True\n",
    "        if y != 0:\n",
    "            dau_cau = y\n",
    "            chars[index] = bang_nguyen_am[x][0]\n",
    "        if not qu_or_gi or index != 1:\n",
    "            nguyen_am_index.append(index)\n",
    "    if len(nguyen_am_index) < 2:\n",
    "        if qu_or_gi:\n",
    "            if len(chars) == 2:\n",
    "                x, y = nguyen_am_to_ids.get(chars[1])\n",
    "                chars[1] = bang_nguyen_am[x][dau_cau]\n",
    "            else:\n",
    "                x, y = nguyen_am_to_ids.get(chars[2], (-1, -1))\n",
    "                if x != -1:\n",
    "                    chars[2] = bang_nguyen_am[x][dau_cau]\n",
    "                else:\n",
    "                    chars[1] = bang_nguyen_am[5][dau_cau] if chars[1] == 'i' else bang_nguyen_am[9][dau_cau]\n",
    "            return ''.join(chars)\n",
    "        return word\n",
    "\n",
    "    for index in nguyen_am_index:\n",
    "        x, y = nguyen_am_to_ids[chars[index]]\n",
    "        if x == 4 or x == 8:  # ê, ơ\n",
    "            chars[index] = bang_nguyen_am[x][dau_cau]\n",
    "            # for index2 in nguyen_am_index:\n",
    "            #     if index2 != index:\n",
    "            #         x, y = nguyen_am_to_ids[chars[index]]\n",
    "            #         chars[index2] = bang_nguyen_am[x][0]\n",
    "            return ''.join(chars)\n",
    "\n",
    "    if len(nguyen_am_index) == 2:\n",
    "        if nguyen_am_index[-1] == len(chars) - 1:\n",
    "            x, y = nguyen_am_to_ids[chars[nguyen_am_index[0]]]\n",
    "            chars[nguyen_am_index[0]] = bang_nguyen_am[x][dau_cau]\n",
    "            # x, y = nguyen_am_to_ids[chars[nguyen_am_index[1]]]\n",
    "            # chars[nguyen_am_index[1]] = bang_nguyen_am[x][0]\n",
    "        else:\n",
    "            # x, y = nguyen_am_to_ids[chars[nguyen_am_index[0]]]\n",
    "            # chars[nguyen_am_index[0]] = bang_nguyen_am[x][0]\n",
    "            x, y = nguyen_am_to_ids[chars[nguyen_am_index[1]]]\n",
    "            chars[nguyen_am_index[1]] = bang_nguyen_am[x][dau_cau]\n",
    "    else:\n",
    "        # x, y = nguyen_am_to_ids[chars[nguyen_am_index[0]]]\n",
    "        # chars[nguyen_am_index[0]] = bang_nguyen_am[x][0]\n",
    "        x, y = nguyen_am_to_ids[chars[nguyen_am_index[1]]]\n",
    "        chars[nguyen_am_index[1]] = bang_nguyen_am[x][dau_cau]\n",
    "        # x, y = nguyen_am_to_ids[chars[nguyen_am_index[2]]]\n",
    "        # chars[nguyen_am_index[2]] = bang_nguyen_am[x][0]\n",
    "    return ''.join(chars)\n",
    "\n",
    "\n",
    "def is_valid_vietnam_word(word):\n",
    "    chars = list(word)\n",
    "    nguyen_am_index = -1\n",
    "    for index, char in enumerate(chars):\n",
    "        x, y = nguyen_am_to_ids.get(char, (-1, -1))\n",
    "        if x != -1:\n",
    "            if nguyen_am_index == -1:\n",
    "                nguyen_am_index = index\n",
    "            else:\n",
    "                if index - nguyen_am_index != 1:\n",
    "                    return False\n",
    "                nguyen_am_index = index\n",
    "    return True\n",
    "\n",
    "\n",
    "def chuan_hoa_dau_cau_tieng_viet(sentence):\n",
    "    \"\"\"\n",
    "        Chuyển câu tiếng việt về chuẩn gõ dấu kiểu cũ.\n",
    "        :param sentence:\n",
    "        :return:\n",
    "        \"\"\"\n",
    "    sentence = sentence.lower()\n",
    "    words = sentence.split()\n",
    "    for index, word in enumerate(words):\n",
    "        cw = re.sub(r'(^p{P}*)([p{L}.]*p{L}+)(p{P}*$)',\n",
    "                    r'1/2/3', word).split('/')\n",
    "        # print(cw)\n",
    "        if len(cw) == 3:\n",
    "            cw[1] = chuan_hoa_dau_tu_tieng_viet(cw[1])\n",
    "        words[index] = ''.join(cw)\n",
    "    return ' '.join(words)\n",
    "\n",
    "\n",
    "\"\"\"\n",
    "    End section: Chuyển câu văn về cách gõ dấu kiểu cũ: dùng òa úy thay oà uý\n",
    "    Xem tại đây: https://vi.wikipedia.org/wiki/Quy_tắc_đặt_dấu_thanh_trong_chữ_quốc_ngữ\n",
    "\"\"\"\n",
    "# if __name__ == '__main__':\n",
    "print(chuan_hoa_dau_cau_tieng_viet('anh hòa thụy, đang làm.. gì'))"
   ]
  },
  {
   "cell_type": "markdown",
   "id": "30463bb1",
   "metadata": {},
   "source": [
    "## 3. Tách từ\n",
    "\n",
    "Học sinh học sinh học => Học_sinh học sinh_học\n"
   ]
  },
  {
   "cell_type": "code",
   "execution_count": 31,
   "id": "e271af5d",
   "metadata": {},
   "outputs": [
    {
     "name": "stdout",
     "output_type": "stream",
     "text": [
      "Tôi là sinh_viên trường đại_học bách_khoa hà_nội\n"
     ]
    }
   ],
   "source": [
    "from underthesea import word_tokenize\n",
    "\n",
    "sentence = \"Tôi là sinh viên trường đại học bách khoa hà nội\"\n",
    "print(word_tokenize(sentence, format=\"text\"))"
   ]
  },
  {
   "cell_type": "markdown",
   "id": "11fc2d52",
   "metadata": {},
   "source": [
    "## 4. Đưa về chữ thường\n"
   ]
  },
  {
   "cell_type": "code",
   "execution_count": 32,
   "id": "368952f1",
   "metadata": {},
   "outputs": [
    {
     "name": "stdout",
     "output_type": "stream",
     "text": [
      "tôi là sinh viên trường đại học bách khoa hà nội\n"
     ]
    }
   ],
   "source": [
    "sentence=sentence.lower()\n",
    "print(sentence)"
   ]
  },
  {
   "cell_type": "markdown",
   "id": "80bc62c7",
   "metadata": {},
   "source": [
    "# Hàm tiền xử lý\n"
   ]
  },
  {
   "cell_type": "code",
   "execution_count": 33,
   "id": "908581a7",
   "metadata": {},
   "outputs": [
    {
     "name": "stdout",
     "output_type": "stream",
     "text": [
      "tp hcm phạt người không đeo khẩu_trang nơi công_cộng người_dân ở thành_phố không đeo khẩu_trang nơi công_cộng sẽ bị xử_phạt mức cao nhất 300.000 đồng , từ ngày 58 . yêu_cầu này được chủ_tịch ubnd thành_phố nguyễn_thành_phong đưa ra tại cuộc họp ban chỉ_đạo phòng_chống dịch_bệnh covid-19 của tp hcm chiều 38 . việc xử_phạt không đeo khẩu_trang nơi công_cộng được tp hcm cũng như các địa_phương khác thực_hiện từ cuối tháng 3 khi covid-19 bùng_phát . tuy_nhiên , sau khi hết thực_hiện cách_ly xã_hội từ ngày 234 , việc đeo khẩu_trang nơi công_cộng chỉ dừng lại ở mức khuyến_cáo . theo nghị_định số 1762013 , người_dân không đeo khẩu_trang nơi công_cộng sẽ bị xử_phạt từ 100.000 đến 300.000 đồng . trong khoảng một tháng áp_dụng trước đó , tp hcm đã xử_phạt hơn 4.300 trường_hợp với gần 870 triệu đồng . theo ông phong , việc đeo khẩu_trang đã được khẳng_định có_thể tránh lây_lan dịch_bệnh cho người khác và bảo_vệ sức_khỏe cho người sử_dụng . \" sở công_thương phải nắm nguồn cung_ứng khẩu_trang , chủ_động thông_báo các điểm bán để người_dân dễ_dàng mua vì đã xử_phạt thì phải bảo_đảm đủ nguồn cung \" , ông phong nói . đội trật_tự đô_thị phường bến_nghé , quận 1 , xử_phạt người không đeo khẩu_trang trên phố đi bộ nguyễn_huệ , chiều 154 . ảnh : quỳnh_trần . đội trật_tự đô_thị phường bến_nghé , quận 1 , xử_phạt người không đeo khẩu_trang trên phố đi bộ nguyễn_huệ , chiều 154 . ảnh : quỳnh_trần . bí_thư thành ủy nguyễn_thiện_nhân cũng cho rằng việc đeo khẩu_trang là một trong những biện_pháp cơ_bản để tránh dịch_bệnh lây_lan . việc này rất dễ làm , không tốn nhiều tiền nhưng nhiều nước bỏ lơi và đã bị \" vỡ trận \" . \" ngoài đường hiện có ít_nhất 20 % người không đeo khẩu_trang . người không đeo không_những tự rước bệnh vào mình mà_còn nguy_cơ lây cho người khác . đeo khẩu_trang hơi cực tí thôi nhưng đi đâu cũng_nên đeo để giữ an_toàn \" , ông nhân nói và khẳng_định thành_phố bảo_đảm không thiếu khẩu_trang cho người_dân . chủ_tịch ubnd thành_phố nguyễn_thành_phong cũng cho biết đã đồng_ý việc tái_lập các chốt kiểm_soát ở cửa_ngõ tp hcm để phòng_chống covid-19 . trước đó , thành_phố đã lập 62 chốt kiểm_soát , hoạt_động 2424 từ ngày 44 để phòng_chống dịch . lực_lượng tham_gia là công_an thành_phố , sở y_tế , bộ_tư_lệnh thành_phố , thanh_tra giao_thông , ban quản_lý an_toàn thực_phẩm , quản_lý thị_trường . trong đó , 16 chốt chính ( cấp thành_phố ) đặt tại : trạm thu phí long_phước ( cao_tốc tp hcm - long thành - dầu_giây ) , cao_tốc trung_lương , cầu đôi ( đường trần_văn giàu ) , đường ba làng , đường xuyên á ( quốc_lộ 22 ) , cầu_phú_cường , cầu vĩnh_bình , cầu_vượt sóng_thần , quốc_lộ 1 k , quốc_lộ 50 , quốc_lộ 1 a , cầu đồng_nai , bến_xe miền tây , bến_xe miền đông , sân_bay tân_sơn nhất , cảng cát lái . đến ngày 234 , chính_quyền thành_phố dừng hoạt_động các chốt này vì dịch_bệnh đã được khống_chế , tp hcm dừng cách_ly xã_hội theo chỉ_thị 19 của thủ_tướng . sau 19 ngày hoạt_động , các chốt chính đã kiểm_tra gần 270.000 xe , trong đó có 235.000 ôtô ; gần 600.000 người được kiểm_tra y_tế , đo thân_nhiệt , bao_gồm cả 3.000 người nước_ngoài ; hơn 130.000 người được yêu_cầu khai_báo y_tế .\n"
     ]
    }
   ],
   "source": [
    "import regex as re\n",
    "\n",
    "\n",
    "def text_preprocess(document):\n",
    "    # chuẩn hóa unicode\n",
    "    document = convert_unicode(document)\n",
    "    # chuẩn hóa cách gõ dấu tiếng Việt\n",
    "    document = chuan_hoa_dau_cau_tieng_viet(document)\n",
    "    # tách từ\n",
    "    document = word_tokenize(document, format=\"text\")\n",
    "    # đưa về lower\n",
    "    document = document.lower()\n",
    "    # xóa các ký tự không cần thiết\n",
    "    # document = re.sub(\n",
    "    #     r'[^áàảãạăắằẳẵặâấầẩẫậéèẻẽẹêếềểễệóòỏõọôốồổỗộơớờởỡợíìỉĩịúùủũụưứừửữựýỳỷỹỵđ_]', ' ', document)\n",
    "    # xóa khoảng trắng thừa\n",
    "    document = re.sub(r'\\s+', ' ', document).strip()\n",
    "    return document\n",
    "\n",
    "documents = \"\"\"\n",
    "TP HCM phạt người không đeo khẩu trang nơi công cộng\n",
    "Người dân ở thành phố không đeo khẩu trang nơi công cộng sẽ bị xử phạt mức cao nhất 300.000 đồng, từ ngày 5/8.\n",
    "\n",
    "Yêu cầu này được Chủ tịch UBND thành phố Nguyễn Thành Phong đưa ra tại cuộc họp Ban chỉ đạo phòng chống dịch bệnh Covid-19 của TP HCM chiều 3/8.\n",
    "\n",
    "Việc xử phạt không đeo khẩu trang nơi công cộng được TP HCM cũng như các địa phương khác thực hiện từ cuối tháng 3 khi Covid-19 bùng phát. Tuy nhiên, sau khi hết thực hiện cách ly xã hội từ ngày 23/4, việc đeo khẩu trang nơi công cộng chỉ dừng lại ở mức khuyến cáo.\n",
    "\n",
    "Theo Nghị định số 176/2013, người dân không đeo khẩu trang nơi công cộng sẽ bị xử phạt từ 100.000 đến 300.000 đồng. Trong khoảng một tháng áp dụng trước đó, TP HCM đã xử phạt hơn 4.300 trường hợp với gần 870 triệu đồng.\n",
    "\n",
    "Theo ông Phong, việc đeo khẩu trang đã được khẳng định có thể tránh lây lan dịch bệnh cho người khác và bảo vệ sức khỏe cho người sử dụng. \"Sở Công thương phải nắm nguồn cung ứng khẩu trang, chủ động thông báo các điểm bán để người dân dễ dàng mua vì đã xử phạt thì phải bảo đảm đủ nguồn cung\", ông Phong nói.\n",
    "\n",
    "Đội trật tự đô thị phường Bến Nghé, quận 1, xử phạt người không đeo khẩu trang trên phố đi bộ Nguyễn Huệ, chiều 15/4. Ảnh: Quỳnh Trần.\n",
    "Đội trật tự đô thị phường Bến Nghé, quận 1, xử phạt người không đeo khẩu trang trên phố đi bộ Nguyễn Huệ, chiều 15/4. Ảnh: Quỳnh Trần.\n",
    "\n",
    "Bí thư Thành uỷ Nguyễn Thiện Nhân cũng cho rằng việc đeo khẩu trang là một trong những biện pháp cơ bản để tránh dịch bệnh lây lan. Việc này rất dễ làm, không tốn nhiều tiền nhưng nhiều nước bỏ lơi và đã bị \"vỡ trận\".\n",
    "\n",
    "\"Ngoài đường hiện có ít nhất 20% người không đeo khẩu trang. Người không đeo không những tự rước bệnh vào mình mà còn nguy cơ lây cho người khác. Đeo khẩu trang hơi cực tí thôi nhưng đi đâu cũng nên đeo để giữ an toàn\", ông Nhân nói và khẳng định thành phố bảo đảm không thiếu khẩu trang cho người dân.\n",
    "\n",
    "Chủ tịch UBND thành phố Nguyễn Thành Phong cũng cho biết đã đồng ý việc tái lập các chốt kiểm soát ở cửa ngõ TP HCM để phòng chống Covid-19.\n",
    "\n",
    "Trước đó, thành phố đã lập 62 chốt kiểm soát, hoạt động 24/24 từ ngày 4/4 để phòng chống dịch. Lực lượng tham gia là Công an thành phố, Sở Y tế, Bộ Tư lệnh thành phố, Thanh tra giao thông, Ban Quản lý An toàn thực phẩm, quản lý thị trường.\n",
    "\n",
    "Trong đó, 16 chốt chính (cấp thành phố) đặt tại: Trạm thu phí Long Phước (cao tốc TP HCM - Long Thành - Dầu Giây), cao tốc Trung Lương, cầu Đôi (đường Trần Văn Giàu), đường Ba Làng, đường Xuyên Á (quốc lộ 22), cầu Phú Cường, cầu Vĩnh Bình, cầu vượt Sóng Thần, quốc lộ 1K, quốc lộ 50, quốc lộ 1A, cầu Đồng Nai, Bến xe Miền Tây, Bến xe miền Đông, sân bay Tân Sơn Nhất, cảng Cát Lái.\n",
    "\n",
    "Đến ngày 23/4, chính quyền thành phố dừng hoạt động các chốt này vì dịch bệnh đã được khống chế, TP HCM dừng cách ly xã hội theo Chỉ thị 19 của Thủ tướng.\n",
    "\n",
    "Sau 19 ngày hoạt động, các chốt chính đã kiểm tra gần 270.000 xe, trong đó có 235.000 ôtô; gần 600.000 người được kiểm tra y tế, đo thân nhiệt, bao gồm cả 3.000 người nước ngoài; hơn 130.000 người được yêu cầu khai báo y tế.\n",
    "\"\"\"\n",
    "print(text_preprocess(documents))"
   ]
  },
  {
   "cell_type": "code",
   "execution_count": 34,
   "id": "3dee7159",
   "metadata": {},
   "outputs": [
    {
     "name": "stdout",
     "output_type": "stream",
     "text": [
      "['ghế hq - hk095', '30 m thước_dây làm bằng sợi thủy tinh_total tmtf12306', 'cưa gỗ cầm tay cán lớn asaki ak - 8657', 'đầm ren cổ v tay ngắn cao_cấp', 'máy đo độ đồng_tâm hann yan 6401 d1']\n"
     ]
    }
   ],
   "source": [
    "# process all products\n",
    "products = [text_preprocess(product) for product in products]\n",
    "print(products[0:5])"
   ]
  },
  {
   "cell_type": "markdown",
   "id": "4d9321c5",
   "metadata": {},
   "source": [
    "## loại bỏ stopwords"
   ]
  },
  {
   "cell_type": "code",
   "execution_count": null,
   "id": "b679383c",
   "metadata": {},
   "outputs": [],
   "source": []
  },
  {
   "cell_type": "markdown",
   "id": "fa2e1443",
   "metadata": {},
   "source": [
    "# Xây dựng mô hình phân loại\n"
   ]
  },
  {
   "cell_type": "markdown",
   "id": "88c5ff47",
   "metadata": {},
   "source": [
    "## 1. Xây dựng tập train / test\n"
   ]
  },
  {
   "cell_type": "code",
   "execution_count": 35,
   "id": "c53bcf0c",
   "metadata": {},
   "outputs": [
    {
     "name": "stdout",
     "output_type": "stream",
     "text": [
      "['__label__Access_point_(Wifi)', '__label__Ampe_kìm', '__label__Amplifier', '__label__Amplifier_Hi-End', '__label__An_toàn_cho_bé_khi_đi_ô_tô', '__label__An_toàn_cho_trẻ', '__label__Ba_lô_học_sinh', '__label__Ba_lô_leo_núi,_du_lịch', '__label__Baga_xe_máy', '__label__Balo_thời_trang', '__label__Bao_bì_thực_phẩm', '__label__Bao_cao_su', '__label__Bao_cố_định_chấn_thương', '__label__Bao_đựng,_ốp_lưng_điện_thoại', '__label__Barie_tự_động', '__label__Bia', '__label__Biến_tần', '__label__Biến_áp_máy_cấp_nguồn_đa_năng', '__label__Biển,_bảng,_đèn_thông_báo_(_Led_)', '__label__Biển_báo_giao_thông', '__label__Biển_chỉ', '__label__Block_điều_hòa', '__label__Bluetooth_USB_Adapter', '__label__Board_mạch_điều_khiển', '__label__Body_liền_cho_bé', '__label__Boot_nữ', '__label__Bu_lông,_tắc_kê', '__label__Buồng_tắm_đa_năng', '__label__Buộc_tóc', '__label__Buộc_tóc_trẻ_em', '__label__Bài_vị_thờ', '__label__Bàn_Billiard_(Bi_A)', '__label__Bàn_cafe_(_café)', '__label__Bàn_chơi_game_-_Bàn_phòng_Game', '__label__Bàn_chải_đánh_răng', '__label__Bàn_chế_biến_thực_phẩm', '__label__Bàn_chụp_sản_phẩm', '__label__Bàn_ghế_học_tập_và_giảng_dạy', '__label__Bàn_ghế_nhà_hàng,_khách_sạn', '__label__Bàn_ghế_nhựa', '__label__Bàn_ghế_phòng_khách', '__label__Bàn_ghế_phòng_ngủ', '__label__Bàn_ghế_phòng_thí_nghiệm', '__label__Bàn_ghế_sân_vườn', '__label__Bàn_ghế_trang_điểm', '__label__Bàn_ghế_trẻ_em', '__label__Bàn_giám_đốc', '__label__Bàn_họp', '__label__Bàn_là', '__label__Bàn_làm_việc_văn_phòng', '__label__Bàn_lạnh_pizza', '__label__Bàn_mổ,_giường_khám', '__label__Bàn_phím', '__label__Bàn_phím_Game_thủ', '__label__Bàn_phím_laptop', '__label__Bàn_phím_điều_khiển', '__label__Bàn_phím_điện_thoại', '__label__Bàn_quầy,_bàn_lễ_tân', '__label__Bàn_thờ_treo', '__label__Bàn_trà_đa_năng', '__label__Bàn_vi_tính', '__label__Bánh_chocolate', '__label__Bánh_kem_xốp', '__label__Bánh_khác', '__label__Bánh_ngũ_cốc', '__label__Bánh_pía', '__label__Bánh_trung_thu', '__label__Bánh_xe_đẩy', '__label__Bát,_đĩa_...', '__label__Bát_hương', '__label__Bê_tông,_vữa', '__label__Bìa', '__label__Bình,_Lọ_hoa', '__label__Bình,_thùng_đá_nhựa', '__label__Bình_(lọ)_hoa_thờ', '__label__Bình_chữa_cháy', '__label__Bình_giữ_nóng_trà,_cafe', '__label__Bình_khí_nén', '__label__Bình_nóng_lạnh', '__label__Bình_phong_tre', '__label__Bình_sữa_và_phụ_kiện', '__label__Bình_thủy,_Phích_điện', '__label__Bình_trà,_bộ_ấm_chén', '__label__Bình_tích_áp_máy_bơm', '__label__Bình_uống_nước_cho_bé', '__label__Bình_đựng_nước', '__label__Bóng_Tennis', '__label__Bóng_chuyền', '__label__Bóng_rổ', '__label__Bóng_đèn', '__label__Bô,_thùng_rác_cho_bé', '__label__Bông,_băng,_gạc', '__label__Bông_tai,_hoa_tai_nữ', '__label__Bông_trang_điểm', '__label__Bông_tẩy_trang,_giấy_thấm_dầu', '__label__Búa_cầm_tay', '__label__Búa_thoát_hiểm_Ô_tô', '__label__Búp_bê', '__label__Bút', '__label__Bút_cao_cấp', '__label__Bút_kẻ_lông_mày', '__label__Bút_kẻ_mắt_nước', '__label__Bút_kẻ_viền_môi', '__label__Bút_đo_nhiệt_kế,_Cặp_nhiệt_độ', '__label__Bút_đánh_dấu_bề_mặt', '__label__Băng_keo,_hồ_dán', '__label__Băng_keo_chịu_lực', '__label__Băng_mực_cho_máy_in_Kim', '__label__Băng_vệ_sinh', '__label__Bơ,_pho_mát_(cheese)', '__label__Bơm_hút_chân_không', '__label__Bơm_ly_tâm', '__label__Bơm_nước_Ôtô', '__label__Bơm_tay_thủy_lực', '__label__Bơm_thùng_phuy', '__label__Bơm_thả_chìm', '__label__Bơm_thủy_lực', '__label__Bơm_Ôtô', '__label__Bơm_định_lượng', '__label__Bạc_biên_Ô_tô', '__label__Bạc_đạn,_Vòng_bi,_vòng_đệm', '__label__Bạt,_mái_che', '__label__Bạt_phủ_xe_máy', '__label__Bạt_phủ_Ô_tô', '__label__Bản_lề', '__label__Bản_lề_laptop', '__label__Bảng', '__label__Bảng_điện_tử', '__label__Bảo_vệ,_chống_nóng_cho_ô_tô', '__label__Bấm_ghim,_đục_lỗ', '__label__Bật_lửa,_hộp_quẹt', '__label__Bếp_gas', '__label__Bếp_gas_âm', '__label__Bếp_hầm', '__label__Bếp_hồng_ngoại', '__label__Bếp_nướng', '__label__Bếp_nướng_thịt_Doner', '__label__Bếp_nướng_xúc_xích', '__label__Bếp_rán', '__label__Bếp_từ', '__label__Bếp_á', '__label__Bếp_âu', '__label__Bếp_điện', '__label__Bể_bơi_mini', '__label__Bể_cá', '__label__Bể_rửa_siêu_âm', '__label__Bệ_bước_Ôtô', '__label__Bệt_Toilet_tự_động', '__label__Bệt_toilet', '__label__Bỉm,_quần_tã', '__label__Bọc_ghế_-_Lót_ghế', '__label__Bọc_tay_lái', '__label__Bố_thắng_(má_phanh)_xe_máy', '__label__Bồn_ngâm_chân', '__label__Bồn_nước', '__label__Bồn_rửa_y_tế', '__label__Bồn_tắm_góc_(bồn_ngâm)', '__label__Bồn_tắm_góc_massage', '__label__Bồn_tắm_massage', '__label__Bồn_tắm_nằm_(bồn_ngâm)', '__label__Bồn_tắm_đứng_(vách_kính)', '__label__Bộ_Timer_hẹn_giờ', '__label__Bộ_bàn_ghế_(_phòng_ăn,_bếp_)', '__label__Bộ_bàn_ghế_cafe', '__label__Bộ_bàn_phím_&_Chuột', '__label__Bộ_bàn_tủ_thờ', '__label__Bộ_bình_thở_(_bộ_bình_khí_o2_)', '__label__Bộ_chia_màn_hình', '__label__Bộ_chuyển_đổi_-_Converter', '__label__Bộ_chuyển_đổi_quang_điện_(Converter)', '__label__Bộ_chìa_lục_giác_(_lục_lăng_)', '__label__Bộ_chăn_ga_gối_đệm', '__label__Bộ_chổi_trang_điểm', '__label__Bộ_chụp_sản_phẩm', '__label__Bộ_cờ_lê', '__label__Bộ_dụng_cụ_sửa_chữa_tổng_hợp', '__label__Bộ_ga_và_đệm_cho_cũi', '__label__Bộ_giũa', '__label__Bộ_giải_mã_DAC', '__label__Bộ_hàn,_cắt_gió_đá', '__label__Bộ_khẩu,_tay_khẩu', '__label__Bộ_liên_hoàn_trong_nhà', '__label__Bộ_lưu_điện_(UPS)', '__label__Bộ_lưu_điện_cho_cửa_cuốn', '__label__Bộ_lọc_khí', '__label__Bộ_mỹ_phẩm_chăm_sóc_da', '__label__Bộ_mỹ_phẩm_chăm_sóc_tóc', '__label__Bộ_mỹ_phẩm_tổng_hợp', '__label__Bộ_phòng_ngủ', '__label__Bộ_phụ_kiện_phòng_tắm', '__label__Bộ_phụ_kiện_điện_thoại', '__label__Bộ_quần_áo_lót_nữ', '__label__Bộ_quần_áo_nam', '__label__Bộ_quần_áo_nữ', '__label__Bộ_quần_áo_thể_thao_nam', '__label__Bộ_quần_áo_thể_thao_nữ', '__label__Bộ_sập_tủ_chè', '__label__Bộ_thiết_bị_phòng_tắm', '__label__Bộ_trang_sức,_nữ_trang', '__label__Bộ_trang_điểm', '__label__Bộ_trả_nước_về_bể_bơi', '__label__Bộ_trễ_Delay_bảo_vệ_tủ_lạnh', '__label__Bộ_trống', '__label__Bộ_trống_điện_tử', '__label__Bộ_trộn_âm_(Mixer)', '__label__Bộ_típ_(_bộ_tuýp_)', '__label__Bộ_tản_nhiệt_CPU_laptop', '__label__Bộ_điều_khiển_máy_móc', '__label__Bộ_điều_khiển_nguồn_điện', '__label__Bộ_điều_khiển_nhiệt_độ', '__label__Bộ_điều_khiển_van_khí_nén', '__label__Bộ_điều_khiển_điện_tử', '__label__Bộ_đèn_trang_trí', '__label__Bộ_đồ_chế_biến_ăn_dặm_cho_bé', '__label__Bộ_đồ_nấu_bếp', '__label__Bộ_đồ_sơ_sinh', '__label__Bộ_đồ_ăn_cho_bé', '__label__Bộ_đồ_đôi', '__label__Bộ_đục', '__label__Bột_giặt', '__label__Bột_giặt,_nước_xả_cho_bé', '__label__Bột_màu_công_nghiệp', '__label__Bột_ngũ_cốc', '__label__Bột_đá_(CaCO3)', '__label__Bột_đậu_đỏ', '__label__Bục_phát_biểu', '__label__CPU_Server', '__label__CPU_laptop', '__label__Ca,_nắp_nhựa', '__label__Camera_IP', '__label__Camera_giám_sát', '__label__Camera_hành_trình_Ôtô', '__label__Cao_dán', '__label__Cao_su_công_nghiệp', '__label__Cao_áp_màn_hình_laptop', '__label__Caravat_nam', '__label__Card_kỹ_xảo', '__label__Card_mở_rộng', '__label__Các_loại_phần_mềm_khác', '__label__Chai,_lọ,_can', '__label__Che_khuyết_điểm', '__label__Chiết_áp', '__label__Chiếu', '__label__Cho_bé_sơ_sinh', '__label__Cho_thuê_trang_thiết_bị_tổ_chức_sự_kiện', '__label__Cho_thuê_xe_du_lịch', '__label__Chocolate', '__label__Chuyển_phát_nhanh', '__label__Chuông,_còi_báo_cháy', '__label__Chuông_cửa', '__label__Chuông_cửa_có_màn_hình', '__label__Chuồng,_cũi_cho_vật_nuôi', '__label__Chuồng_trại_chăn_nuôi', '__label__Chuột_máy_tính_(_Mouse)', '__label__Cháo_ăn_liền', '__label__Chân_máy_quay', '__label__Chân_máy_ảnh_(Tripod)', '__label__Chân_váy', '__label__Chân_đế_bàn_ghế', '__label__Chì_hàn,_thiếc_hàn', '__label__Chì_kẻ_viền_mắt', '__label__Chìa_khóa_(Remote)_Ôtô', '__label__Chìa_lục_giác', '__label__Chó_cảnh', '__label__Chóa_đèn', '__label__Chăm_sóc_cơ_thể', '__label__Chăm_sóc_mẹ_khi_sinh', '__label__Chăm_sóc_răng_miệng', '__label__Chăn', '__label__Chăn_cho_bé', '__label__Chăn_điện', '__label__Chăn_ủ_cho_bé', '__label__Chạm_đồng', '__label__Chảo', '__label__Chấn_lưu', '__label__Chất_rửa_chén,_bát', '__label__Chất_tẩy_rửa', '__label__Chậu_hoa,_đôn_hoa', '__label__Chậu_rửa_(Lavabo)_khác', '__label__Chậu_rửa_Lavabo_treo_tường', '__label__Chậu_rửa_Lavabo_âm_bàn', '__label__Chậu_rửa_Lavabo_để_bàn', '__label__Chậu_rửa_bát_có_bàn', '__label__Chậu_rửa_bát_có_hộp_Inox', '__label__Chậu_rửa_bát_không_bàn', '__label__Chậu_rửa_bát_không_bàn_lắp_âm_bàn', '__label__Chậu_rửa_khẩn_cấp', '__label__Chắn_bùn_xe_máy', '__label__Chặn_lùi_xe,_định_vị_bánh_xe', '__label__Chỉ_phẫu_thuật', '__label__Chống_ẩm,_khử_mùi,_xịt_phòng_các_loại', '__label__Chống_ồn_Ô_tô', '__label__Chụp_khí', '__label__Chụp_ảnh_nghệ_thuật', '__label__Compa', '__label__Connectors_-_Đầu_nối', '__label__Contactor_(_công_tắc_tơ_)', '__label__Cua', '__label__Cua_biển_-_Ghẹ_biển', '__label__Cung_cấp_công_nghệ', '__label__Cung_cấp_trang_phục_tổ_chức_sự_kiện', '__label__Cung_cấp_trang_thiết_bị_tổ_chức_sự_kiện', '__label__Cup,_huy_chương,_biểu_trưng', '__label__Cà_phê_giảm_cân', '__label__Cà_phê_hòa_tan', '__label__Cà_phê_hạt', '__label__Cà_phê_phin', '__label__Cá', '__label__Cá_khô', '__label__Các_linh_kiện_khác_(máy_tính)', '__label__Các_loại_kem_phấn_cho_bé', '__label__Các_loại_máy_khác', '__label__Các_loại_móc', '__label__Các_loại_nước_hoa_khác', '__label__Các_loại_phụ_kiện_ô_tô_khác', '__label__Các_loại_vật_liệu_hoàn_thiện_khác', '__label__Các_món_ăn_khác', '__label__Các_phụ_kiện_điện_thoại_khác', '__label__Các_phụ_tùng_xe_máy_khác', '__label__Các_phụ_tùng_xe_đạp_khác', '__label__Các_sản_phẩm_cơ_khí_khác', '__label__Các_sản_phẩm_khác', '__label__Các_sản_phẩm_nhựa_khác', '__label__Các_thiết_bị_tản_nhiệt', '__label__Các_vật_tư_phụ', '__label__Các_đồ_dùng_bơi_lội_khác', '__label__Cáp_kết_nối_tivi', '__label__Cáp_màn_hình_laptop', '__label__Cáp_thép', '__label__Cáp_usb_-_USB_cable', '__label__Cáp_viễn_thông', '__label__Cáp_điện', '__label__Cáp_đồng_trục', '__label__Cân_bàn', '__label__Cân_chiết_rót', '__label__Cân_nhà_bếp', '__label__Cân_phân_tích', '__label__Cân_sức_khoẻ', '__label__Cân_điện_tử_khác', '__label__Cân_định_lượng', '__label__Cây_Inox', '__label__Cây_cảnh_Tết', '__label__Cây_giả_-_Hoa_giả_nghệ_thuật', '__label__Cây_nước_nóng_lạnh', '__label__Cây_nội_thất', '__label__Cầu_nâng_xe_máy', '__label__Còi_xe_máy', '__label__Còi_ô_tô', '__label__Công_tơ_điện', '__label__Công_tắc_ba', '__label__Công_tắc_cảm_ứng', '__label__Công_tắc_cảm_ứng_chuyển_động', '__label__Công_tắc_gạt', '__label__Công_tắc_hành_trình', '__label__Công_tắc_hẹn_giờ_(_công_tắc_đồng_hồ_)', '__label__Công_tắc_đôi', '__label__Công_tắc_đơn', '__label__Cưa_tay', '__label__Cảm_biến_lực', '__label__Cảm_biến_nhiệt_độ', '__label__Cảm_biến_tiệm_cận', '__label__Cảm_biến_từ', '__label__Cảm_biến_Ô_tô', '__label__Cảm_biến_áp_lực_(_áp_suất_)', '__label__Cảm_biến_đo_tốc_độ', '__label__Cảo_-_Vam', '__label__Cần_câu', '__label__Cần_cẩu', '__label__Cần_xiết_lực', '__label__Cầu_dao_tự_động_(_Aptomat_)', '__label__Cầu_nâng', '__label__Cầu_thang_gỗ', '__label__Cầu_trượt', '__label__Cặp,_túi_đựng_laptop', '__label__Cặp_học_sinh', '__label__Cọ_trang_điểm', '__label__Cọc_tiêu_giao_thông', '__label__Cỏ_nhân_tạo', '__label__Cốc,_chén_...', '__label__Cốc_giấy', '__label__Cốp_pha', '__label__Cồn_công_nghiệp', '__label__Cổng_chia,_gộp,_chuyển_tín_hiệu_(Hình_ảnh)', '__label__Cổng_trượt', '__label__Cổng_từ_dò_kim_loại', '__label__Cổng_từ_kiểm_soát_ra_vào', '__label__Cổng_tự_động', '__label__Cổng_xếp', '__label__Cột_ngăn', '__label__Cột_nước,_vòi_phun', '__label__Cờ_lê', '__label__Cừ_thép_(_thép_cọc_cừ_)', '__label__Cửa_chống_cháy', '__label__Cửa_cuốn', '__label__Cửa_gỗ', '__label__Cửa_kéo', '__label__Cửa_kính', '__label__Cửa_lùa', '__label__Cửa_nhựa', '__label__Cửa_nhựa_lõi_thép', '__label__Cửa_tự_động', '__label__Cửa_đi_mở_quay_ra_ngoài', '__label__Dao,_kéo,_dụng_cụ_cắt_gọt_...', '__label__Dao_cạo,_bàn_cạo_râu', '__label__Dao_cắt_ống', '__label__Dao_kỹ_thuật', '__label__Dao_rọc_giấy', '__label__Dao_đa_năng', '__label__Display_(màn_hình_Laptop)', '__label__Docking_stations_(Đế_cắm_thêm)', '__label__Downlight', '__label__Dung_dịch_rửa_tay', '__label__Dung_dịch_tẩy_rửa', '__label__Dung_dịch_vệ_sinh_phụ_nữ', '__label__Dung_dịch_xả', '__label__Duỡng_tóc,_tạo_kiểu_cho_nam', '__label__Dàn_karaoke', '__label__Dàn_âm_thanh', '__label__Dây_Curoa_công_nghiệp', '__label__Dây_chuyền,_vòng_cổ_nữ', '__label__Dây_chuyền_nam', '__label__Dây_câu', '__label__Dây_công_nghiệp', '__label__Dây_dẫn_Hi-End', '__label__Dây_hàn,_cáp_hàn', '__label__Dây_lưng,_đai_an_toàn', '__label__Dây_lưng_(thắt_lưng)_nam', '__label__Dây_lưng_(thắt_lưng)_nữ', '__label__Dây_mạng', '__label__Dây_nối_(Cable)', '__label__Dây_phao_bể_bơi', '__label__Dây_thép', '__label__Dây_thắt_thời_trang_nam', '__label__Dây_thắt_thời_trang_nữ', '__label__Dây_đai', '__label__Dây_đeo_máy_ảnh,_máy_quay', '__label__Dây_điện', '__label__Dây_đồng_hồ', '__label__Dép,_Sandal_nam', '__label__Dép,_Sandal_nữ', '__label__Dép,_Sandal_trẻ_em', '__label__Dưỡng_móng', '__label__Dưỡng_môi', '__label__Dải_phân_cách', '__label__Dầu,_nhớt,_dung_dịch_bảo_dưỡng', '__label__Dầu,_nhớt_công_nghiệp', '__label__Dầu_gội_đầu', '__label__Dầu_gội_đầu_nam', '__label__Dầu_nhớt_cho_động_cơ_xe_máy', '__label__Dầu_xả', '__label__Dầu_ăn', '__label__Dịch_vụ_câu_cá', '__label__Dịch_vụ_cắt,_khắc_laser', '__label__Dịch_vụ_gia_công,_chế_tạo', '__label__Dịch_vụ_luật_khác', '__label__Dịch_vụ_sửa_chữa_thiết_bị', '__label__Dịch_vụ_sửa_chữa_điện_thoại', '__label__Dịch_vụ_tháo_dỡ_và_di_chuyển', '__label__Dịch_vụ_thẩm_mỹ', '__label__Dụng_cụ,_thiết_bị_sửa_chữa_Xe_máy', '__label__Dụng_cụ,_thiết_bị_sửa_chữa_Ôtô', '__label__Dụng_cụ_bóng_chuyền', '__label__Dụng_cụ_bổ_trợ_may', '__label__Dụng_cụ_cho_vật_nuôi', '__label__Dụng_cụ_chỉnh_sửa_móng', '__label__Dụng_cụ_cách_điện', '__label__Dụng_cụ_cố_định_ngoài_xương', '__label__Dụng_cụ_dán_mi', '__label__Dụng_cụ_gá_cặp', '__label__Dụng_cụ_hỗ_trợ_tỉa,_vẽ_lông_mày', '__label__Dụng_cụ_massage', '__label__Dụng_cụ_ngư_nghiệp', '__label__Dụng_cụ_nha_khoa', '__label__Dụng_cụ_niêm_phong_hàng_hóa', '__label__Dụng_cụ_nẹp_DHS-DCS', '__label__Dụng_cụ_siết_mở_ốc,_vít', '__label__Dụng_cụ_sửa_chữa', '__label__Dụng_cụ_tai_mũi_họng_khác', '__label__Dụng_cụ_thi_công_cáp_quang', '__label__Dụng_cụ_thí_nghiệm', '__label__Dụng_cụ_thể_hình_khác', '__label__Dụng_cụ_trang_điểm_khác', '__label__Dụng_cụ_trồng_cây,_làm_vườn', '__label__Dụng_cụ_tập_bụng', '__label__Dụng_cụ_tập_luyện,_thi_đấu_(võ_thuật,_yoga)', '__label__Dụng_cụ_tập_luyện_võ_thuật', '__label__Dụng_cụ_xây_dựng_cầm_tay', '__label__Dụng_cụ_y_tế_khác', '__label__Dụng_cụ_ăn_uống_vật_nuôi', '__label__Dụng_cụ_đo,_kiểm_tra_khác', '__label__Dụng_cụ_đo_ren', '__label__Dụng_cụ_đựng_&_Chế_biến_thực_phẩm', '__label__Dụng_cụ_đựng_hóa_chất', '__label__Fibre_Media_Converter', '__label__File_tài_liệu', '__label__Flycam', '__label__GPS_-_Hệ_thống_định_vị_vệ_tinh_trên_Ô_tô', '__label__Ga_thoát_sàn', '__label__Ga_trải_giường', '__label__Gaming_Mouse_-_Chuột_game_thủ', '__label__Gel_bôi_trơn', '__label__Ghim_bấm', '__label__Ghép_hình_công_trình_nổi_tiếng', '__label__Ghép_hình_khối', '__label__Ghép_hình_lâu_đài', '__label__Ghép_hình_máy_bay', '__label__Ghép_hình_nhà_cửa', '__label__Ghép_hình_nhân_vật', '__label__Ghép_hình_xe_cộ', '__label__Ghép_hình_động_vật', '__label__Ghế_Sun_Lounger', '__label__Ghế_băng_công_cộng', '__label__Ghế_cafe_(_café)', '__label__Ghế_chơi_game_-_Ghế_phòng_game', '__label__Ghế_cắt_tóc', '__label__Ghế_giám_đốc', '__label__Ghế_gội_đầu', '__label__Ghế_hội_trường,_rạp_hát', '__label__Ghế_nằm_(relax)', '__label__Ghế_phòng_chờ', '__label__Ghế_phòng_họp', '__label__Ghế_thư_giãn_(_ghế_xích_đu_)', '__label__Ghế_tập_ăn,_ghế_rung_cho_bé', '__label__Ghế_văn_phòng', '__label__Ghế_xếp_Folding', '__label__Gia_vị_rắc_cơm', '__label__Gioăng_cửa', '__label__Giàn_giáo', '__label__Giàn_năng_lượng_mặt_trời_(_Máy_nước_nóng_năng_lượng_mặt_trời_)', '__label__Giàn_phơi', '__label__Giày,_dép_khác', '__label__Giày_(vớ)_sơ_sinh', '__label__Giày_bóng_rổ', '__label__Giày_bóng_đá_nam', '__label__Giày_bệt_nữ', '__label__Giày_cao_gót', '__label__Giày_cầu_lông', '__label__Giày_da_nam', '__label__Giày_gót_thấp', '__label__Giày_tennis_nam', '__label__Giày_thể_thao_nam', '__label__Giày_thể_thao_nữ', '__label__Giày_thể_thao_trẻ_em', '__label__Giày_trẻ_em', '__label__Giày_vải_nam', '__label__Giá,_kệ,_tủ_văn_phòng_khác', '__label__Giá,_kệ_quán_cafe', '__label__Giá,_kệ_để_hàng', '__label__Giá,_kệ_để_đồ_trẻ_em', '__label__Giá,_móc_treo_quần_áo', '__label__Giá,_tủ,_kệ_đựng_đĩa_CD', '__label__Giá_treo_màn_hình', '__label__Giá_vẽ_cho_bé', '__label__Giá_để_dụng_cụ_sửa_chữa_Ô_tô', '__label__Giá_đỡ_điện_thoại', '__label__Giường', '__label__Giường_cũi_trẻ_em', '__label__Giường_trẻ_em', '__label__Giấy', '__label__Giấy_công_nghiệp', '__label__Giấy_dán_kính', '__label__Giấy_dán_tường', '__label__Giấy_in_ảnh', '__label__Giấy_thơm_quần_áo', '__label__Giấy_ướt,_giấy_lót_xu...', '__label__Giầy,_ủng_bảo_hộ', '__label__Giỏ,_khay,_kệ', '__label__Giống_cây_trồng', '__label__Gáy_lò_xo_đóng_sổ', '__label__Gói_cước_3G', '__label__Găng_tay,_tất_tay', '__label__Găng_tay_bảo_hộ', '__label__Gương,_kính_ô_tô', '__label__Gương_chiếu_hậu_xe_đạp', '__label__Gương_cầu_lồi', '__label__Gương_phòng_tắm', '__label__Gương_soi_treo_tường', '__label__Gương_trang_điểm', '__label__Gương_đèn_trang_trí', '__label__Gạch_bông', '__label__Gạch_granite', '__label__Gạch_không_nung_siêu_nhẹ', '__label__Gạch_lát_nền', '__label__Gạch_trang_trí', '__label__Gạch_tự_chèn_(_gạch_block_)', '__label__Gạch_xây', '__label__Gạch_ốp_lát', '__label__Gạt_mưa_Ôtô', '__label__Gậy_leo_núi', '__label__Gậy_đánh_Golf', '__label__Gọng_kính_thuốc', '__label__Gọng_kính_thời_trang', '__label__Gối', '__label__Gối_cho_bé', '__label__Gối_trang_trí', '__label__Gối_ô_tô', '__label__Gối_ôm', '__label__Gỗ_mỹ_nghệ', '__label__Gỗ_thông', '__label__Gờ_giảm_tốc', '__label__HDD_3.5_Inch_(Ổ_cứng_Desktop)', '__label__HDD_box', '__label__HDD_di_động_(Ổ_cứng_cắm_ngoài)', '__label__Head_Phone_-_Tai_nghe', '__label__Hoa_chúc_mừng', '__label__Hoa_cưới', '__label__Hoa_khô', '__label__Hoa_quả,_trái_cây', '__label__Hoa_sinh_nhật', '__label__Hoa_trang_trí', '__label__Hoa_tình_yêu', '__label__Hoa_văn_phòng', '__label__Hot_Deal_Spa,_sức_khỏe', '__label__Hot_Deal_Thời_trang', '__label__Hot_Deal_Đào_tạo', '__label__Hot_Deal_Ẩm_thực', '__label__Hoành_phi,_câu_đối', '__label__Hub_-_Switch', '__label__Hàng_rào', '__label__Hình_xăm_thời_trang', '__label__Hóa_chất_công_nghiệp', '__label__Hóa_chất_thí_nghiệm', '__label__Hóa_chất_tinh_khiết', '__label__Hóa_chất_xây_dựng', '__label__Hóa_chất_xử_lý_chất_thải', '__label__Hương_đốt_(nhang)', '__label__Hạc_thờ', '__label__Hạt_khô,_khoai_chiên,_bắp_rang,_hoa_quả_sấy', '__label__Hạt_mạng_(Conector)', '__label__Hạt_nêm', '__label__Hạt_tiêu', '__label__Hệ_giàn_thép', '__label__Hệ_thống_camera_giám_sát', '__label__Hệ_thống_kiểm_soát_ra_vào', '__label__Hệ_thống_xử_lý_bụi,_thông_gió', '__label__Hệ_thống_xử_lý_chất_thải', '__label__Hộp,_khay_nhựa', '__label__Hộp,_tủ_phối_quang', '__label__Hộp_box_điện', '__label__Hộp_giảm_tốc', '__label__Hộp_giữ_nhiệt_thức_ăn_cho_bé', '__label__Hộp_nối,_hộp_chia_ngả_(_cho_ống_luồn_dây_điện_)', '__label__Hộp_tỳ_tay_trên_Ô_tô', '__label__Hộp_đựng_giấy_phòng_tắm', '__label__Hộp_đựng_kính', '__label__In_bao_bì,_nhãn_mác', '__label__In_trên_vật_liệu_khác', '__label__In_túi_giấy', '__label__Jack_chuyển_tai_nghe', '__label__Kem_lót', '__label__Kem_nền_nữ', '__label__Kem_tẩy_da_chết_toàn_thân', '__label__Kem_tắm_trắng', '__label__Kem_đánh_răng', '__label__Keo_công_nghiệp', '__label__Khay,_hộp_tre', '__label__Khay,_hộp_đựng_xà_phòng_(_xà_bông_)', '__label__Khay_mực_in', '__label__Khay_đựng_hoa_quả', '__label__Khay_đựng_thức_ăn,_đồ_uống', '__label__Khu_nghỉ_dưỡng_Hòa_Bình', '__label__Khung,_album_ảnh', '__label__Khung_kéo_phông', '__label__Khung_tranh', '__label__Khung_treo_tivi', '__label__Khuôn_cửa,_khung_cửa', '__label__Khuôn_hàn', '__label__Khuôn_mẫu_các_loại', '__label__Khóa', '__label__Khóa_chống_trộm_xe_máy', '__label__Khóa_cửa_bằng_vân_tay', '__label__Khóa_cửa_sử_dụng_thẻ_từ', '__label__Khóa_điện_tử', '__label__Khăn_giấy_ướt', '__label__Khăn_khách_sạn', '__label__Khăn_nữ', '__label__Khăn_trải_bàn,_khăn_ăn_...', '__label__Khăn_tắm,_khăn_mặt_...', '__label__Khăn_tắm_cho_bé', '__label__Khẩu_trang', '__label__Khẩu_trang_bảo_hộ', '__label__Khử_mùi,Hút_mùi_Ôtô', '__label__Kim_loại_và_hợp_kim', '__label__Kim_xăm', '__label__Kèn_Saxophone', '__label__Kéo', '__label__Kéo,_dao_cạo', '__label__Kéo_cắt_công_nghiệp', '__label__Két_bán_hàng', '__label__Két_sắt,_két_bạc', '__label__Kìm', '__label__Kìm_bấm_cáp', '__label__Kích_thuỷ_lực_(_Con_đội_thủy_lực_)', '__label__Kính_hiển_vi', '__label__Kính_hiển_vi_phẫu_thuật', '__label__Kính_lúp', '__label__Kính_lúp_công_nghiệp', '__label__Kính_lọc_(Filter)', '__label__Kính_mắt_Hồng_Kông_nữ', '__label__Kính_mắt_Trung_Quốc_nam', '__label__Kính_mắt_bảo_hộ', '__label__Kính_mắt_hàng_hiệu_nam', '__label__Kính_mắt_hàng_hiệu_nữ', '__label__Kính_mắt_hàng_hiệu_trẻ_em', '__label__Kính_xem_phim_3D_(3D_Glasses)', '__label__Kính_áp_tròng', '__label__Kính_ốp', '__label__Kẹo_cao_su', '__label__Kẹo_chocolate', '__label__Kẹo_hoa_quả', '__label__Kẹo_mềm,_dẻo', '__label__Kẹo_sâm', '__label__Kẹo_sữa', '__label__Kẹo_trà_xanh', '__label__Kẹp_bướm', '__label__Kẹp_số_bàn', '__label__Kẹp_tóc,_cặp_tóc', '__label__Kẹp_tóc,_cặp_tóc_trẻ_em', '__label__Kẹp_đa_năng', '__label__Kệ_kính_phòng_tắm', '__label__Kệ_tivi', '__label__Kệ_đựng_đồ_phòng_tắm', '__label__LED_Displays_-_bóng_đèn_LED', '__label__LED_trang_trí,_quảng_cáo', '__label__La_bàn_điện_tử', '__label__Laptop,_Tablet_Trung_Quốc', '__label__Lá_côn_Ô_tô', '__label__Lens_Mount', '__label__Linh_kiện,_chân_sạc,_cáp_trong_điện_thoại', '__label__Linh_kiện,_phụ_kiện_đồ_chơi', '__label__Linh_kiện_máy_in', '__label__Linh_kiện_máy_nghe_nhạc', '__label__Linh_kiện_máy_photocopy', '__label__Linh_kiện_điện_tử', '__label__Loa_che_nắng_(Hood)', '__label__Loa_máy_tính', '__label__Loa_nghe_nhạc', '__label__Loa_ngoài_cho_laptop,_máy_nghe_nhạc', '__label__Loa_ngoài_điện_thoại', '__label__Loa_phóng_thanh', '__label__Loa_trang_trí', '__label__Loa_trong_laptop', '__label__Loa_ôtô', '__label__Logo,_Decal_Xe_máy', '__label__Logo,_poster,_đề_can', '__label__Logo,_đề_can', '__label__Lò_nướng', '__label__Lò_xo_uốn_ống_(_cho_ống_luồn_dây_điện_)', '__label__Lò_xông,_tinh_dầu', '__label__Lót_ly,_treo_ly,_gạt_tàn_...', '__label__Lõi_lọc_nước', '__label__Lư_hương', '__label__Lưới_an_toàn', '__label__Lưới_giặt', '__label__Lưới_thép', '__label__Lưới_địa_kỹ_thuật,_lưới_xây_dựng', '__label__Lưỡi_câu', '__label__Lưỡi_cưa,_lưỡi_cắt', '__label__Lạc', '__label__Lắc_tay_bạc_nữ', '__label__Lắc_tay_nam', '__label__Lắc_tay_nữ', '__label__Lắc_tay_đá_phong_thủy', '__label__Lắc_tay_đôi', '__label__Lều,_bạt', '__label__Lều_chơi', '__label__Lịch', '__label__Lọc_dầu_Ô_tô', '__label__Lọc_gió_Ôtô', '__label__Lốp_xe_máy', '__label__Lốp_xe_nâng', '__label__Lốp_xe_ôtô', '__label__Lồng_chụp_sản_phẩm', '__label__MacBook', '__label__Mac_Accessories', '__label__Mainboard', '__label__Mainboard_Laptop', '__label__Manơ_Canh', '__label__Mascara', '__label__Máy_cân_bằng_bánh_xe_Ôtô', '__label__Máy_tháo_lắp_lốp_xe_máy', '__label__Máy_tháo_lắp_lốp_Ôtô', '__label__Men_bia,_rượu', '__label__Mi_giả', '__label__Micro_ghi_âm_camera', '__label__Microphone', '__label__Miếng_dán_trắng_răng', '__label__Mobile', '__label__Modem_quang', '__label__Module_quang', '__label__Mousepad_(Bàn_di_chuột)', '__label__Mua_xe_trả_góp', '__label__Muối_tắm', '__label__Màn_(mùng)_cho_bé', '__label__Màn_chiếu_Projector', '__label__Màn_hình', '__label__Màn_hình_LCD_quảng_cáo_-_đa_dụng', '__label__Màn_hình_Mobile,_PDA_phone', '__label__Màn_hình_máy_tính_LCD', '__label__Màn_ngăn_PVC', '__label__Màu_mắt', '__label__Máng_đèn', '__label__Máy_bay_điều_khiển_từ_xa', '__label__Máy_biến_áp', '__label__Máy_bào_gỗ', '__label__Máy_băm_rau_cỏ_cho_gia_súc,_gia_cầm', '__label__Máy_bơm,_lọc_bể_cá', '__label__Máy_bơm_bể_bơi', '__label__Máy_bơm_chữa_cháy', '__label__Máy_bơm_hút_dầu,_mỡ', '__label__Máy_bơm_nước_công_nghiệp', '__label__Máy_bơm_nước_gia_dụng', '__label__Máy_bơm_thoát_nước_thải', '__label__Máy_bơm_và_hút_dầu_thải_xe_máy', '__label__Máy_bắn_tia_nước_cao_áp', '__label__Máy_bắt_muỗi', '__label__Máy_bộ_đàm_cầm_tay', '__label__Máy_chiết_rót', '__label__Máy_chà_sàn', '__label__Máy_chưng_cất_rượu', '__label__Máy_chấm_công', '__label__Máy_chế_biến_thực_phẩm_khác', '__label__Máy_cày,_xới_đất', '__label__Máy_cán_bột_(_nghiền_bột_,_xay_bột_)', '__label__Máy_cân_bằng_tia_Laser', '__label__Máy_câu', '__label__Máy_cưa_bàn_trượt', '__label__Máy_cưa_vanh', '__label__Máy_cưa_xích', '__label__Máy_cưa_xương_(máy_chặt_xương)', '__label__Máy_cưa_đĩa', '__label__Máy_cạo_râu', '__label__Máy_cất_nước', '__label__Máy_cấy', '__label__Máy_cắt_CNC', '__label__Máy_cắt_Plasma', '__label__Máy_cắt_cỏ', '__label__Máy_cắt_khuôn_mẫu_may_công_nghiệp', '__label__Máy_cắt_laser', '__label__Máy_cắt_nhôm', '__label__Máy_cắt_sắt', '__label__Máy_cắt_vòng', '__label__Máy_cắt_đá', '__label__Máy_dán_cạnh', '__label__Máy_dán_miệng_cốc', '__label__Máy_dán_nhãn_tự_động', '__label__Máy_dán_thùng_carton', '__label__Máy_dò_kim_loại_công_nghiệp', '__label__Máy_ghi_âm', '__label__Máy_ghi_âm_điện_thoại', '__label__Máy_gia_công_thanh_cái', '__label__Máy_gieo_hạt,_xới_cỏ_và_bón_phân', '__label__Máy_giám_sát_bảo_vệ', '__label__Máy_giặt', '__label__Máy_giặt_công_nghiệp', '__label__Máy_giặt_thảm', '__label__Máy_hiện_sóng', '__label__Máy_hàn_CO2/MAG', '__label__Máy_hàn_Mig/Mag', '__label__Máy_hàn_TIG', '__label__Máy_hàn_công_nghiệp', '__label__Máy_hàn_que', '__label__Máy_hàn_ống', '__label__Máy_hút_bụi', '__label__Máy_hút_bụi_công_nghiệp', '__label__Máy_hút_chân_không', '__label__Máy_hút_khử_mùi_công_nghiệp', '__label__Máy_hút_mùi', '__label__Máy_hút_ẩm', '__label__Máy_hút_ẩm_công_nghiệp', '__label__Máy_hủy_tài_liệu', '__label__Máy_in', '__label__Máy_in_3D', '__label__Máy_in_All_in_One', '__label__Máy_in_hóa_đơn', '__label__Máy_in_khổ_lớn', '__label__Máy_in_laser_đen_trắng', '__label__Máy_in_mã_ngày', '__label__Máy_in_mã_vạch', '__label__Máy_in_nhãn_mác', '__label__Máy_in_phun', '__label__Máy_khoan,_đục_bê_tông', '__label__Máy_khoan_bàn', '__label__Máy_khoan_cầm_tay', '__label__Máy_khoan_ổ_khóa,_bản_lề', '__label__Máy_khác', '__label__Máy_khò', '__label__Máy_kiểm_kho', '__label__Máy_kiểm_vải', '__label__Máy_li_tâm', '__label__Máy_làm_kem', '__label__Máy_làm_khăn_sạch', '__label__Máy_làm_lạnh_nước', '__label__Máy_làm_lạnh_nước_hoa_quả', '__label__Máy_làm_mát_di_động', '__label__Máy_làm_mát_không_khí_công_nghiệp', '__label__Máy_làm_sushi', '__label__Máy_làm_sữa_chua', '__label__Máy_làm_sữa_đậu_nành', '__label__Máy_làm_vỏ_ốc_quế', '__label__Máy_làm_đá_siêu_tốc', '__label__Máy_làm_đẹp_da', '__label__Máy_lọc,_khử_độc_tố_rượu', '__label__Máy_lọc_không_khí', '__label__Máy_lọc_nước', '__label__Máy_lọc_thông_minh_cho_bể_bơi', '__label__Máy_massage_toàn_thân', '__label__Máy_may_công_nghiệp', '__label__Máy_mài_cầm_tay', '__label__Máy_mài_góc', '__label__Máy_mài_khuôn', '__label__Máy_nghe_nhạc_Mp4', '__label__Máy_nghiền_dược_liệu', '__label__Máy_nghiền_thức_ăn_chăn_nuôi', '__label__Máy_nén_khí', '__label__Máy_nén_khí_piston', '__label__Máy_nén_khí_trục_vít', '__label__Máy_nước_nóng_bơm_nhiệt', '__label__Máy_nạp_ắc_quy', '__label__Máy_nổ_ngô', '__label__Máy_pha_cafe', '__label__Máy_phay_gỗ', '__label__Máy_photocopy_cũ', '__label__Máy_phun,_xịt_côn_trùng', '__label__Máy_phun_rửa_áp_lực', '__label__Máy_phun_sơn', '__label__Máy_phun_sương', '__label__Máy_phun_sương_tăng_độ_ẩm', '__label__Máy_phun_thuốc_khử_trùng', '__label__Máy_phát_điện_công_nghiệp', '__label__Máy_phát_điện_dân_dụng', '__label__Máy_rang_cà_phê', '__label__Máy_rang_hạt_nông_sản', '__label__Máy_rung_khí_nén', '__label__Máy_rút_màng_co_(_máy_hút_màng_co_)', '__label__Máy_rửa_bát', '__label__Máy_rửa_chén,_bát_công_nghiệp', '__label__Máy_rửa_rau_quả,_thực_phẩm', '__label__Máy_sinh_hóa', '__label__Máy_sản_xuất_đá_viên', '__label__Máy_sấy_công_nghiệp', '__label__Máy_sấy_khí_nén', '__label__Máy_sấy_khô_bát', '__label__Máy_sấy_tóc', '__label__Máy_sốc_tim', '__label__Máy_sủi', '__label__Máy_taro_(Máy_khoan_tạo_ren)', '__label__Máy_thu_hoạch_khoai_tây', '__label__Máy_thái_lát_thịt', '__label__Máy_thái_rau,_củ', '__label__Máy_thông_tắc_(_ống,_cống_)', '__label__Máy_thùa_khuy', '__label__Máy_thổi_khí', '__label__Máy_tiện_CNC', '__label__Máy_tiệt_trùng', '__label__Máy_tiệt_trùng_-_Hâm_sữa', '__label__Máy_trộn_bê_tông', '__label__Máy_trộn_bột', '__label__Máy_tách,_bóc_vỏ_thực_phẩm', '__label__Máy_tách_màu_gạo', '__label__Máy_tách_xương_cá', '__label__Máy_tính_Desktop', '__label__Máy_tính_Desktop_(Công_ty_lắp_ráp)', '__label__Máy_tính_bảng_(Tablet_PC)', '__label__Máy_tính_laptop', '__label__Máy_tính_phòng_Net_-_Game', '__label__Máy_tạo_Ozone', '__label__Máy_tạo_Ozone_công_nghiệp', '__label__Máy_tạo_hạt_phân_bón', '__label__Máy_tạo_kiểu_tóc', '__label__Máy_tập_chạy_bộ', '__label__Máy_uốn_ống_thường', '__label__Máy_viền_chỉ', '__label__Máy_vát_mép', '__label__Máy_vắt_khô', '__label__Máy_vắt_sổ', '__label__Máy_vặt_lông_gia_cầm', '__label__Máy_xay_cà_phê', '__label__Máy_xay_hạt', '__label__Máy_xay_sinh_tố', '__label__Máy_xay_thực_phẩm', '__label__Máy_xay_đá', '__label__Máy_xét_nghiệm_máu', '__label__Máy_xóa_xăm', '__label__Máy_xông_hơi_mặt', '__label__Máy_xông_hơi_ướt', '__label__Máy_xúc_đào', '__label__Máy_xăm', '__label__Máy_ép_dầu_thực_vật', '__label__Máy_ép_dầu_đậu_nành', '__label__Máy_ép_màng_nhôm', '__label__Máy_ép_mía', '__label__Máy_ép_nhiệt,_cán_màng', '__label__Máy_ép_nhiệt_(gỗ)', '__label__Máy_ép_nhựa', '__label__Máy_ép_thủy_lực', '__label__Máy_ép_trái_cây', '__label__Máy_đo_huyết_áp', '__label__Máy_đo_nhiệt_độ', '__label__Máy_đo_nồng_độ_Oxy_trong_máu', '__label__Máy_đo_thính_lực', '__label__Máy_đo_đường_huyết', '__label__Máy_đo_độ_cứng', '__label__Máy_đo_độ_nhớt', '__label__Máy_đo_độ_pH', '__label__Máy_đánh_giầy', '__label__Máy_đánh_trứng', '__label__Máy_đóng_gói', '__label__Máy_đóng_trà_túi_lọc', '__label__Máy_đóng_đai', '__label__Máy_đùn_xúc_xích', '__label__Máy_đùn_ép_cám_viên', '__label__Máy_đầm_đất,_bê_tông', '__label__Máy_đập_lúa', '__label__Máy_đếm_tiền', '__label__Máy_đếm_tần_số', '__label__Máy_đọc_mã_vạch', '__label__Máy_ảnh_số', '__label__Máy_ảnh_số_chuyên_dụng', '__label__Máy_ấp_trứng_gia_cầm', '__label__Món_Cá', '__label__Món_Tôm', '__label__Mô_hình_xe_ô_tô,_xe_máy', '__label__Mô_tơ_cửa', '__label__Mô_tơ_máy_bơm', '__label__Mũ,_nón_bảo_hộ', '__label__Mũ,_nón_khác', '__label__Mũ,_nón_nam', '__label__Mũ,_nón_nữ', '__label__Mũ,_nón_sơ_sinh', '__label__Mũ,_nón_trẻ_em', '__label__Mũ,_nón_đồng_phục_sự_kiện', '__label__Mũ_(Nón)_bảo_hiểm_xe_máy', '__label__Mũ_(Nón)_bảo_hiểm_xe_đạp', '__label__Mũi_khoan', '__label__Mực_máy_photocopy', '__label__Mật_ong', '__label__Mắt_kính_thời_trang', '__label__Mặt_dây_chuyền_nữ', '__label__Mặt_dây_đá_phong_thủy', '__label__Mặt_kính_điện_thoại', '__label__Mặt_nạ', '__label__Mặt_nạ,_hấp,_ủ_dưỡng_tóc', '__label__Mặt_nạ_bảo_hộ', '__label__Mặt_nạ_ổ_điện', '__label__Mỏ_hàn,_mỏ_thổi', '__label__Mỏ_lết', '__label__Mồi_câu', '__label__Mỡ_công_nghiệp', '__label__Mực_in', '__label__Mực_khô', '__label__Mực_xăm', '__label__Mỹ_phẩm_cao_cấp_-_Trang_điểm', '__label__Mỹ_phẩm_tạo_dáng_tóc', '__label__Nam_châm', '__label__Nguyên_liệu,_hương_liệu_mỹ_phẩm', '__label__Nguyên_liệu,_hương_liệu_thực_phẩm', '__label__Nguyên_liệu,_phụ_kiện_khác', '__label__Nguyên_liệu_làm_bánh_các_loại', '__label__Nguyên_liệu_làm_kem', '__label__Nguyên_liệu_sản_xuất_gạch', '__label__Nguyên_liệu_sản_xuất_thực_phẩm', '__label__Nguyên_liệu_thực_phẩm_khác', '__label__Nguyên_liệu_trà_sữa', '__label__Nguyên_liệu_tá_dược', '__label__Nguồn', '__label__Nguồn_máy_tính_(PSU)', '__label__Ngói', '__label__Nhau_thai_cừu', '__label__Nhà_biệt_thự', '__label__Nhà_bóng,_bể_vầy', '__label__Nhà_chung_cư', '__label__Nhà_hơi,_nhà_phao', '__label__Nhân_sâm_khô', '__label__Nhân_sâm_tươi', '__label__Nhãn_dán', '__label__Nhíp_gắp_tụ', '__label__Nhôm_tấm', '__label__Nhạc_cụ_dân_tộc', '__label__Nhẫn_cưới,_nhẫn_đính_hôn', '__label__Nhẫn_nam', '__label__Nhẫn_nữ', '__label__Nhổ_ghim', '__label__Nút_nhấn', '__label__Nước_hoa_hồng', '__label__Nước_hoa_nam', '__label__Nước_hoa_nữ', '__label__Nước_hoa_quả_ngâm', '__label__Nước_hoa_ôtô', '__label__Nước_mắm,_xì_dầu', '__label__Nước_ngọt,_nước_trái_cây,_đóng_lon', '__label__Nước_súc_miệng', '__label__Nấm', '__label__Nắp_che_ống_kính', '__label__Nắp_thùng_sau_Ô_tô', '__label__Nắp_xăng_Ô_tô', '__label__Nến_thờ', '__label__Nến_điện_tử', '__label__Nồi,_Xoong', '__label__Nồi_buffet', '__label__Nồi_chiên_đa_năng', '__label__Nồi_cơm_điện', '__label__Nồi_hơi', '__label__Nồi_hấp', '__label__Nồi_nấu_cháo_công_nghiệp', '__label__Nồi_nấu_phở_công_nghiệp', '__label__Nồi_xào_nấu_công_nghiệp', '__label__Nồi_áp_suất', '__label__Nồi_áp_suất_điện', '__label__Pa_Lăng', '__label__Pallet', '__label__Panel_PC_-_máy_tính_Panel', '__label__Phanh,Má_phanh_Ôtô', '__label__Phao,_Áo_phao', '__label__Phiếu_thu,_chi', '__label__Phân_bón,_đạm,_tăng_trưởng', '__label__Phích_cắm_điện', '__label__Phòng_của_bé', '__label__Phòng_học_bộ_môn', '__label__Phòng_thay_đồ_di_động', '__label__Phòng_tắm_Spa', '__label__Phông_chụp_ảnh', '__label__Phù_điêu,_tượng', '__label__Phấn_má', '__label__Phấn_nền', '__label__Phấn_phủ', '__label__Phần_mềm_Mobile,_PDA', '__label__Phần_mềm_cho_Windows', '__label__Phần_mềm_quản_lý_khách_hàng', '__label__Phụ_gia_xây_dựng', '__label__Phụ_kiện,_thiết_bị_Cầu_lông', '__label__Phụ_kiện,_thiết_bị_Tennis', '__label__Phụ_kiện_Flycam', '__label__Phụ_kiện_Golf', '__label__Phụ_kiện_Toilet', '__label__Phụ_kiện_báo,_chữa_cháy_khác', '__label__Phụ_kiện_bảng_tương_tác', '__label__Phụ_kiện_bảo_hộ_lao_động', '__label__Phụ_kiện_bể_bơi_khác', '__label__Phụ_kiện_cho_thiết_bị_mạng', '__label__Phụ_kiện_cho_tivi', '__label__Phụ_kiện_cho_đồng_hồ_thông_minh', '__label__Phụ_kiện_cáp', '__label__Phụ_kiện_cân_điện_tử', '__label__Phụ_kiện_dụng_cụ_nông_nghiệp', '__label__Phụ_kiện_dụng_cụ_sửa_chữa', '__label__Phụ_kiện_giàn_giáo,_cốp_pha', '__label__Phụ_kiện_hệ_thống_kiểm_soát_ra_vào', '__label__Phụ_kiện_i-Pad_(i-Pad_Accessories)', '__label__Phụ_kiện_khí_nén', '__label__Phụ_kiện_khóa_điện_tử', '__label__Phụ_kiện_kết_nối', '__label__Phụ_kiện_làm_bánh', '__label__Phụ_kiện_lọc_nước_tinh_khiết', '__label__Phụ_kiện_máy_chơi_Game', '__label__Phụ_kiện_máy_chế_biến_gỗ', '__label__Phụ_kiện_máy_cơ_khí', '__label__Phụ_kiện_máy_hàn_khác', '__label__Phụ_kiện_máy_nén_khí_khác', '__label__Phụ_kiện_máy_phun_rửa_áp_lực', '__label__Phụ_kiện_máy_phun_sương', '__label__Phụ_kiện_máy_tính_bảng_(Tablet_Accessories)', '__label__Phụ_kiện_máy_tập_chạy_bộ', '__label__Phụ_kiện_máy_đo_đạc,_trắc_địa', '__label__Phụ_kiện_máy_ảnh,_máy_quay', '__label__Phụ_kiện_mạng', '__label__Phụ_kiện_nhà_bếp', '__label__Phụ_kiện_nhà_bếp_công_nghiệp', '__label__Phụ_kiện_nhạc_cụ', '__label__Phụ_kiện_phòng_tắm_khác', '__label__Phụ_kiện_quang', '__label__Phụ_kiện_sàn_gỗ', '__label__Phụ_kiện_sách_điện_tử_(Ebook_Reader_Accessories)', '__label__Phụ_kiện_teen_nam', '__label__Phụ_kiện_teen_nữ', '__label__Phụ_kiện_thiết_bị_công_nghiệp_khác', '__label__Phụ_kiện_thiết_bị_cầm_tay', '__label__Phụ_kiện_thiết_bị_làm_sạch', '__label__Phụ_kiện_thiết_bị_nâng_hạ', '__label__Phụ_kiện_thiết_bị_âm_thanh', '__label__Phụ_kiện_thiết_bị_điện_khác', '__label__Phụ_kiện_thiết_bị_đo,_kiểm_tra', '__label__Phụ_kiện_thông_minh', '__label__Phụ_kiện_thời_trang', '__label__Phụ_kiện_thời_trang_vật_nuôi', '__label__Phụ_kiện_trang_trí_xe_máy', '__label__Phụ_kiện_tủ_bếp', '__label__Phụ_kiện_tủ_điện', '__label__Phụ_kiện_và_vật_liệu', '__label__Phụ_kiện_xe_đạp', '__label__Phụ_kiện_xăm', '__label__Phụ_kiện_đèn_chiếu_sáng', '__label__Phụ_kiện_ống_dẫn_công_nghiệp', '__label__Phụ_kiện_ống_luồn_dây_điện_khác', '__label__Phụ_kiện_ống_nước', '__label__Phụ_tùng_bơm_bê_tông', '__label__Phụ_tùng_máy_đầm', '__label__Phụ_tùng_phụ_kiện_tàu_thuyền_khác', '__label__Phụ_tùng_xe_nâng_khác', '__label__Phụ_tùng_ôtô', '__label__Phục_trang_Triều_đình_nam', '__label__Phục_trang_nam_khác', '__label__Phục_trang_nữ_khác', '__label__Phục_trang_trẻ_em_khác', '__label__Pin_laptop', '__label__Pin_máy_tính_bảng', '__label__Pin_máy_ảnh,_máy_quay', '__label__Pin_thông_dụng', '__label__Pin_và_phụ_kiện', '__label__Pin_điện_thoại', '__label__Power_Amplifier', '__label__Projector_(máy_chiếu)', '__label__Que_hàn_,_thau_hàn', '__label__Que_thử_y_tế', '__label__Quà_tặng_gốm_sứ', '__label__Quà_tặng_pha_lê,_thủy_tinh', '__label__Quà_tổng_hợp', '__label__Quạt_cây', '__label__Quạt_hơi_nước', '__label__Quạt_hướng_trục', '__label__Quạt_không_cánh', '__label__Quạt_ly_tâm', '__label__Quạt_sạc', '__label__Quạt_thông_gió_công_nghiệp', '__label__Quạt_thông_gió_dân_dụng', '__label__Quạt_thờ', '__label__Quạt_treo_tường', '__label__Quạt_trần', '__label__Quạt_điện_công_nghiệp', '__label__Quạt_điện_dân_dụng', '__label__Quạt_đèn_trang_trí', '__label__Quả_bóng_bàn', '__label__Quả_bóng_đá', '__label__Quần_bò_nam_(Jeans)', '__label__Quần_bò_nữ_(Jeans)', '__label__Quần_giả_váy', '__label__Quần_kaki_nam', '__label__Quần_legging', '__label__Quần_lót_nữ', '__label__Quần_lót_trẻ_em', '__label__Quần_ngố_nam', '__label__Quần_nữ_khác', '__label__Quần_shorts_nam', '__label__Quần_shorts_nữ', '__label__Quần_thể_thao_nam', '__label__Quần_thể_thao_nữ', '__label__Quần_trẻ_em', '__label__Quần_tây', '__label__Quần_tây_nữ', '__label__Quần_yếm', '__label__Quần_áo_bóng_rổ', '__label__Quần_áo_bóng_đá_nam', '__label__Quần_áo_bảo_hộ', '__label__Quần_áo_cả_bộ_cho_trẻ_em', '__label__Quần_áo_khiêu_vũ_nam', '__label__Quần_áo_lặn_biển', '__label__Quần_áo_mặc_ở_nhà', '__label__Quần_áo_ngủ_nam', '__label__Quần_áo_tập_luyện,_thi_đấu_(golf)', '__label__Quần_đôi', '__label__Quầy_bar_nhà_hàng', '__label__Quầy_xe_lưu_động_(_quầy_bán_hàng_di_động_)', '__label__RAM(laptop)', '__label__RAM_(Desktop)', '__label__RAM_(Server)', '__label__Rau,_củ,_quả', '__label__Receiver', '__label__Robot_cấp_phôi_tự_động', '__label__Robot_lắp_ráp', '__label__Robot_điều_khiển_từ_xa', '__label__Rong_biển_khô', '__label__Router', '__label__Rulo_cuốn_ống_khí_nén', '__label__Ruột_bút_bi', '__label__Ruột_bút_chì', '__label__Ruột_chăn', '__label__Ruột_gối', '__label__Rào_chắn', '__label__Rèm_cửa_khác', '__label__Rơ_Moóc', '__label__Rơ_le_bán_dẫn', '__label__Rơ_le_bảo_vệ_kết_hợp', '__label__Rơ_le_điều_khiển', '__label__Rổ,_rá_các_loại', '__label__SDH/MSAP', '__label__SP_chăm_sóc_sức_khỏe,_sắc_đẹp_khác', '__label__Sen_cây', '__label__Sen_vòi', '__label__Server_(Máy_chủ)', '__label__Snack', '__label__Sofa,_salon', '__label__Sofa_giường', '__label__Sofa_nhà_hàng', '__label__Sofa_văn_phòng', '__label__Son', '__label__Sound_Card', '__label__Switches_-_Chuyển_mạch', '__label__Sàn_gỗ', '__label__Sàn_nhẹ', '__label__Sàn_nhựa,_gạch_nhựa', '__label__Sách', '__label__Sách_điện_tử_(_eBook_Readers_)', '__label__Sên_nhông_đĩa', '__label__Súng_bắn_đinh', '__label__Súng_dán_keo', '__label__Súng_hàn', '__label__Súng_xiết_Bu_lông', '__label__Súng_xịt_hơi_(_súng_xịt_khí_)', '__label__Sơn', '__label__Sơn_chống_thấm', '__label__Sơn_móng', '__label__Sơn_ngoại_thất', '__label__Sơn_nội_thất', '__label__Sạc_pin_laptop_(Adapter)', '__label__Sạc_pin_máy_ảnh,_máy_quay', '__label__Sạc_pin_ngoài_cho_điện_thoại', '__label__Sạc_điện,_chuyển_đổi_điện', '__label__Sạc_điện_thoại', '__label__Sản_phẩm_chăm_sóc_bàn_chân', '__label__Sản_phẩm_chăm_sóc_da_tay', '__label__Sản_phẩm_chăm_sóc_tóc', '__label__Sản_phẩm_chăm_sóc_vật_nuôi', '__label__Sản_phẩm_chống_nắng_cho_da_mặt', '__label__Sản_phẩm_chống_nắng_toàn_thân', '__label__Sản_phẩm_diệt_côn_trùng', '__label__Sản_phẩm_dành_cho_da_bị_mụn', '__label__Sản_phẩm_dành_cho_da_lão_hóa', '__label__Sản_phẩm_dành_cho_da_nám,_tàn_nhang', '__label__Sản_phẩm_dành_cho_ngực', '__label__Sản_phẩm_dành_riêng_cho_nam', '__label__Sản_phẩm_dùng_cho_da_vùng_mắt', '__label__Sản_phẩm_dùng_cho_giày,_dép_khác', '__label__Sản_phẩm_dùng_một_lần', '__label__Sản_phẩm_dưỡng_da_mặt', '__label__Sản_phẩm_dưỡng_da_toàn_thân', '__label__Sản_phẩm_khử_mùi_cho_nam', '__label__Sản_phẩm_làm_sạch', '__label__Sản_phẩm_làm_trắng', '__label__Sản_phẩm_làm_đẹp_từ_thiên_nhiên', '__label__Sản_phẩm_massage', '__label__Sản_phẩm_massage_mặt', '__label__Sản_phẩm_massage_toàn_thân', '__label__Sản_phẩm_phòng_chống_côn_trùng', '__label__Sản_phẩm_thêu_thùa', '__label__Sản_phẩm_trị_sẹo', '__label__Sản_phẩm_tẩy_da_chết_cho_da_mặt', '__label__Sản_phẩm_tẩy_trang_mặt', '__label__Sản_phẩm_từ_tổ_yến', '__label__Sập', '__label__Sập_thờ', '__label__Sắt_nghệ_thuật', '__label__Sổ', '__label__Sửa_chữa,_bảo_dưỡng,_lắp_đặt', '__label__Sữa_bột', '__label__Sữa_nước', '__label__Sữa_rửa_mặt', '__label__Sữa_rửa_mặt_nam', '__label__Sữa_tắm', '__label__Sữa_tắm,_dầu_gội_đầu_cho_bé', '__label__Sữa_tắm_nam', '__label__Tab_đầu_giường', '__label__Tai_nghe_bluetooth', '__label__Tampon,_dấu,_mực_dấu', '__label__Tay_co,_đẩy_thủy_lực', '__label__Tay_máy_hàn_thiếc', '__label__Tay_nắm_cửa', '__label__Tay_nắm_xe_máy', '__label__Tay_treo_hắt_sáng', '__label__Tay_vịn_cầu_thang', '__label__Thang', '__label__Thang_máy', '__label__Thang_nâng', '__label__Thanh_Cân_Bằng_Ôtô', '__label__Thanh_chống_va_đập', '__label__Thanh_lăn_khử_mùi', '__label__Thanh_ray', '__label__Thanh_ren', '__label__Thanh_treo_khăn_đôi', '__label__Thanh_treo_khăn_đơn', '__label__Thanh_ốp_cột,_góc_tường', '__label__Thi_công_xây_dựng', '__label__Thiết_bị,_linh_kiện_khác', '__label__Thiết_bị_PDH_Multiplexer', '__label__Thiết_bị_báo_động_chống_trộm', '__label__Thiết_bị_bảo_dưỡng_ô_tô', '__label__Thiết_bị_chuyển_đổi_điện_áp', '__label__Thiết_bị_cân_vành_xe_máy', '__label__Thiết_bị_cơ_khí_Ôtô_khác', '__label__Thiết_bị_cảm_biến', '__label__Thiết_bị_cảm_biến_quang_điện', '__label__Thiết_bị_cảm_ứng_phòng_tắm', '__label__Thiết_bị_dạy_và_học_các_cấp', '__label__Thiết_bị_ghi_âm_bộ_đàm', '__label__Thiết_bị_giảm_chấn', '__label__Thiết_bị_giảm_cân', '__label__Thiết_bị_kiểm_soát_ra_vào', '__label__Thiết_bị_kiểm_định_ô_tô', '__label__Thiết_bị_làm_sạch', '__label__Thiết_bị_ngành_tóc', '__label__Thiết_bị_nhà_xưởng', '__label__Thiết_bị_phát_sóng_wifi_trên_Ô_tô', '__label__Thiết_bị_phòng_chống_sét', '__label__Thiết_bị_phòng_sạch', '__label__Thiết_bị_phục_hồi_chức_năng', '__label__Thiết_bị_rửa_xe_Ôtô', '__label__Thiết_bị_siêu_thị', '__label__Thiết_bị_thu_nước_bể_bơi', '__label__Thiết_bị_trình_chiếu', '__label__Thiết_bị_trình_chiếu_ánh_sáng', '__label__Thiết_bị_tạo_nhiệt_bo_mạch', '__label__Thiết_bị_tự_động_hóa', '__label__Thiết_bị_viễn_thông_khác', '__label__Thiết_bị_vệ_sinh_bể_bơi', '__label__Thiết_bị_xông_hơi_khô', '__label__Thiết_bị_xông_hơi_ướt', '__label__Thiết_bị_điều_khiển_tưới_sân_vườn', '__label__Thiết_bị_điều_khiển_tự_động', '__label__Thiết_bị_đo,_kiểm_tra_khí', '__label__Thiết_bị_đo_khí_độc', '__label__Thiết_bị_đo_lực_căng', '__label__Thiết_bị_đo_nhiệt_độ', '__label__Thiết_bị_đo_ánh_sáng', '__label__Thiết_bị_đo_áp_suất', '__label__Thiết_bị_đo_độ_ẩm', '__label__Thiết_bị_đo_độ_ồn', '__label__Thiết_bị_đại_tu,_phục_hồi_ô_tô', '__label__Thiết_bị_định_vị_GPS', '__label__Thiết_bị_ổn_định_hình_ảnh_cầm_tay', '__label__Thiết_kế_kiến_trúc_tổng_hợp', '__label__Thiết_kế_nội_thất_khác', '__label__Thiết_kế_phòng_khách', '__label__Thiết_kế_quảng_cáo', '__label__Thiệp_cưới', '__label__Thuốc_an_thần', '__label__Thuốc_bổ,_Vitamin', '__label__Thuốc_giảm_cân', '__label__Thuốc_nhuộm_tóc', '__label__Thuốc_tiểu_đường', '__label__Thuốc_uốn_tóc', '__label__Thuốc_ép_tóc', '__label__Thuốc_đông_y', '__label__Thép_cuộn', '__label__Thép_cây_(_thép_thanh_)', '__label__Thép_hình', '__label__Thép_hộp', '__label__Thép_vuông', '__label__Thép_vằn', '__label__Thép_ống', '__label__Thìa,_dĩa,_đũa_...', '__label__Thìa,_dĩa_cho_bé', '__label__Thùng,_vỏ_máy_tính_(PC_Case)', '__label__Thùng_rác_công_cộng', '__label__Thùng_rác_thông_minh', '__label__Thùng_sau_Xe_máy', '__label__Thùng_đựng_gạo', '__label__Thùng_đựng_rác', '__label__Thùng_đựng_đồ_nghề', '__label__Thú_nhún', '__label__Thú_nhồi_bông', '__label__Thước_Pan-me', '__label__Thước_dây', '__label__Thước_kẹp_(_Thước_cặp_)', '__label__Thước_kẻ', '__label__Thước_lá', '__label__Thước_thuỷ', '__label__Thước_thẳng', '__label__Thước_xếp', '__label__Thước_êke', '__label__Thước_đo_khe_hở', '__label__Thước_đo_lỗ', '__label__Thước_đo_độ_dày_(Dụng_cụ_đo_độ_dày)', '__label__Thước_đo_độ_sâu', '__label__Thạch_trái_cây', '__label__Thảm', '__label__Thảm_chơi_trẻ_em', '__label__Thẻ_cảm_ứng', '__label__Thẻ_nhớ', '__label__Thịt_hun_khói', '__label__Thổ_cẩm', '__label__Thớt,_rế,_lót_tay_...', '__label__Thời_trang_Tennis', '__label__Thời_trang_cho_vật_nuôi', '__label__Thời_trang_công_sở_nữ', '__label__Thời_trang_dạ_hội', '__label__Thời_trang_nam_khác', '__label__Thời_trang_nữ_khác', '__label__Thức_ăn_chăn_nuôi', '__label__Thức_ăn_vật_nuôi', '__label__Thức_ăn_đông_lạnh', '__label__Thực_phẩm_bổ_dưỡng_dành_cho_trẻ_em', '__label__Thực_phẩm_bổ_dưỡng_từ_thiên_nhiên', '__label__Thực_phẩm_cho_bà_bầu', '__label__Thực_phẩm_chức_năng_khác', '__label__Thực_phẩm_dinh_dưỡng_tăng_cân', '__label__Thực_phẩm_giảm_cân_chống_béo_phì', '__label__Thực_phẩm_hỗ_trợ_làm_đẹp_da,_tóc', '__label__Thực_phẩm_hỗ_trợ_điều_trị_bệnh_dạ_dày', '__label__Thực_phẩm_hỗ_trợ_điều_trị_bệnh_thận', '__label__Thực_phẩm_hỗ_trợ_điều_trị_xương_khớp', '__label__Thực_phẩm_khô_khác', '__label__Thực_phẩm_phòng_bệnh,_tăng_sức_đề_kháng', '__label__Thực_phẩm_qua_sơ_chế', '__label__Thực_phẩm_tăng_cường_sức_khỏe', '__label__Tinh_bột_nghệ', '__label__Tinh_dầu_(Chăm_sóc_cơ_thể)', '__label__Tinh_dầu_(Chăm_sóc_da_mặt)', '__label__Tinh_dầu_chăm_sóc_tóc', '__label__Tivi_Box', '__label__Tivi_LCD', '__label__Tivi_LED', '__label__Tivi_OLED', '__label__Tivi_Plasma', '__label__Tiêu,_Sáo', '__label__Tour_du_lịch_Châu_Á', '__label__Tour_du_lịch_Châu_Âu', '__label__Tour_du_lịch_Trong_nước', '__label__Trang_phục_bảo_hiểm_xe_máy', '__label__Trang_phục_teen_nam', '__label__Tranh_chữ', '__label__Tranh_dán_tường_khác', '__label__Tranh_gạch', '__label__Tranh_nghệ_thuật', '__label__Tranh_tường_(Graffiti)', '__label__Tranh_vải_dán_tường', '__label__Tranh_đá', '__label__Tripod_Head', '__label__Trung_tâm_báo_cháy', '__label__Trà', '__label__Trạm_trộn_bê_tông', '__label__Trải_sàn_-_Lót_sàn', '__label__Trần_gỗ', '__label__Trụ_chữa_cháy_(_trụ_cứu_hỏa_)', '__label__Trụ_nhảy_cao', '__label__Trục_giấy_vệ_sinh', '__label__Tuốc_nơ_vít_(_tô_vít_)', '__label__Tóc_giả', '__label__Tông_đơ_cắt_tóc', '__label__Túi,_cặp_xách_tổng_hợp_khác', '__label__Túi,_cặp_xách_tổng_hợp_nam', '__label__Túi,_cặp_xách_tổng_hợp_nữ', '__label__Túi,_hộp_mỹ_phẩm', '__label__Túi,_vỏ_chống_nước', '__label__Túi_Hand-made', '__label__Túi_cứu_thương', '__label__Túi_giữ_nhiệt', '__label__Túi_lọc_bụi', '__label__Túi_nilon', '__label__Túi_xách_hàng_hiệu_nam', '__label__Túi_xách_hàng_hiệu_nữ', '__label__Túi_xách_teen_nữ', '__label__Túi_đựng_máy_quay', '__label__Túi_đựng_máy_ảnh', '__label__Túi_đựng_đồ_cho_bé', '__label__Tương_hột', '__label__Tương_đen', '__label__Tương_ớt', '__label__Tượng_thờ', '__label__Tải_giả_điện_tử_DC', '__label__Tấm_Inox', '__label__Tấm_dán_bảo_vệ', '__label__Tấm_lót_bồn_cầu_(_tấm_lót_bệ_xí_)', '__label__Tấm_mặt_chống_tràn_bể_bơi', '__label__Tấm_ốp_tường', '__label__Tất_nam', '__label__Tất_nữ', '__label__Tất_phun', '__label__Tất_trẻ_em', '__label__Tất_y_khoa', '__label__Tập,_vở', '__label__Tỏi_khô', '__label__Tồn_ngai_thờ', '__label__Tổ_yến_qua_sơ_chế', '__label__Tổ_yến_thô', '__label__Tời_kéo', '__label__Tời_nâng', '__label__Tủ,_giá_để_thiết_bị', '__label__Tủ,_lò_sấy_thiết_bị_y_tế', '__label__Tủ_Lavabo', '__label__Tủ_bếp', '__label__Tủ_chống_ẩm', '__label__Tủ_giám_đốc', '__label__Tủ_gương', '__label__Tủ_hút_khí_độc', '__label__Tủ_hồ_sơ', '__label__Tủ_kệ_phòng_khách', '__label__Tủ_lạnh', '__label__Tủ_lạnh_công_nghiệp', '__label__Tủ_lạnh_phòng_thí_nghiệm', '__label__Tủ_lạnh_ô_tô', '__label__Tủ_mạng', '__label__Tủ_nhựa', '__label__Tủ_nấu_cơm_công_nghiệp', '__label__Tủ_quần_áo', '__label__Tủ_rượu', '__label__Tủ_sách', '__label__Tủ_thuốc', '__label__Tủ_thờ_Thần_Tài', '__label__Tủ_trưng_bày_thực_phẩm', '__label__Tủ_trẻ_em', '__label__Tủ_tài_liệu', '__label__Tủ_tạo_môi_trường', '__label__Tủ_vải', '__label__Tủ_đông', '__label__Tủ_đựng_đồ_phòng_ngủ', '__label__USB_Memory_3.0', '__label__USB_Modem_-_USB_3G', '__label__USB_memory', '__label__Uốn_mi', '__label__Vali,_Hành_lý', '__label__Vali_đi_học', '__label__Van_bi', '__label__Van_bướm', '__label__Van_các_loại_(_dùng_cho_bể_bơi_)', '__label__Van_công_nghiệp_khác', '__label__Van_cầu', '__label__Van_cửa_(_van_cổng_)', '__label__Van_giảm_áp', '__label__Van_khí_nén', '__label__Van_lọc', '__label__Van_máy_nén_khí', '__label__Van_một_chiều', '__label__Van_nước', '__label__Van_thủy_lực', '__label__Van_xả_khí', '__label__Van_áp_suất', '__label__Van_điện_từ', '__label__Vest_nam', '__label__Video_Card', '__label__Vách_chống_cháy', '__label__Vách_ngăn_bàn_làm_việc', '__label__Vách_ngăn_gỗ_ốp', '__label__Vách_ngăn_phòng_khách', '__label__Vách_tắm_(_Cabin_tắm_)', '__label__Ván_gỗ', '__label__Ván_trượt_-_SkateBoard', '__label__Váy,_đầm', '__label__Váy_bầu', '__label__Váy_bộ', '__label__Váy_chữ_A', '__label__Váy_liền', '__label__Váy_maxi', '__label__Váy_quây', '__label__Váy_suông', '__label__Váy_sơ_sinh', '__label__Váy_trẻ_em', '__label__Váy_xòe', '__label__Váy_xếp_li', '__label__Váy_yếm', '__label__Váy_đuôi_cá', '__label__Vè_che_mưa_Ôtô', '__label__Vé_máy_bay_Trong_nước', '__label__Ví,_bóp_nam', '__label__Ví,_bóp_nữ', '__label__Vít', '__label__Vòi_hoa_sen,_vòi_nước', '__label__Vòi_hoa_sen_khác', '__label__Vòi_rửa,_vòi_nước', '__label__Vòi_xịt_vệ_sinh_phòng_tắm', '__label__Vòng_bi_xe_nâng', '__label__Vòng_bi_Ôtô', '__label__Vòng_tay_trẻ_em', '__label__Vô_Lăng_Ô_tô', '__label__Võng,_Ghế_xếp', '__label__Văn_phòng_phẩm_khác', '__label__Vải', '__label__Vải_lọc_chống_tĩnh_điện', '__label__Vận_tải_nội_địa', '__label__Vật_dụng_liên_quan_bóng_rổ', '__label__Vật_dụng_trang_trí', '__label__Vật_dụng_trang_trí_vườn', '__label__Vật_liệu_chống_cháy', '__label__Vật_liệu_chống_thấm', '__label__Vật_liệu_cách_âm,_cách_nhiệt', '__label__Vật_liệu_lọc_nước', '__label__Vật_liệu_đóng_gói_hàng_hóa', '__label__Vật_tư_ngành_lạnh', '__label__Vật_tư_phòng_thí_nghiệm', '__label__Vật_tư_y_tế_khác', '__label__Vỉ_nướng', '__label__Vỏ_chăn', '__label__Vỏ_máy_điện_thoại', '__label__Vỏ_nhựa_xe_máy', '__label__Vợt_cầu_lông', '__label__Wax_Tẩy_lông', '__label__Workstation_-_Máy_trạm', '__label__Xe_bồn', '__label__Xe_chuyên_dụng', '__label__Xe_dành_cho_người_khuyết_tật', '__label__Xe_lu', '__label__Xe_máy', '__label__Xe_máy_ba_bánh_chở_hàng', '__label__Xe_máy_cũ', '__label__Xe_máy_phân_khối_lớn_(Motor)', '__label__Xe_máy_điều_khiển_từ_xa', '__label__Xe_nâng', '__label__Xe_nâng_tay', '__label__Xe_quét_rác', '__label__Xe_tải', '__label__Xe_tải_cẩu', '__label__Xe_tập_đi_cho_bé', '__label__Xe_Ô_tô,_xe_máy_đồ_chơi', '__label__Xe_đi_chợ', '__label__Xe_điện', '__label__Xe_đạp', '__label__Xe_đạp_trẻ_em', '__label__Xe_đầu_kéo_(Xe_container)', '__label__Xe_đẩy', '__label__Xe_đẩy,_giá_thức_ăn', '__label__Xe_đẩy_hành_lý', '__label__Xe_đẩy_phục_vụ', '__label__Xe_đẩy_quần_áo_-_dọn_phòng', '__label__Xe_đẩy_tay', '__label__Xe_đẩy_thiết_bị_y_tế', '__label__Xi_lanh_(_dùng_cho_máy_nén_khí_)', '__label__Xi_lanh_(bơm_kim_tiêm)', '__label__Xi_đánh_bóng_Ôtô', '__label__Xi_đánh_giày', '__label__Xà_bông', '__label__Xà_đơn', '__label__Xích', '__label__Xích_đu', '__label__Xô,_thùng,_chậu_nhựa', '__label__Yên_xe_máy', '__label__Yếm_ăn_cho_bé', '__label__Án_gian_thờ', '__label__Áo_bò_nữ', '__label__Áo_bầu', '__label__Áo_cưới,_váy_cưới', '__label__Áo_da_nam', '__label__Áo_da_nữ', '__label__Áo_dài_nam', '__label__Áo_dài_nữ', '__label__Áo_dài_trẻ_em', '__label__Áo_dạ_nữ', '__label__Áo_gió_nữ', '__label__Áo_hai_dây,_áo_quây', '__label__Áo_khoác_chống_nắng', '__label__Áo_khoác_cách_điệu', '__label__Áo_khoác_có_mũ', '__label__Áo_khoác_cổ_lông', '__label__Áo_khoác_len_nữ', '__label__Áo_khoác_nam', '__label__Áo_khoác_phao_nữ', '__label__Áo_khoác_thể_thao_nữ', '__label__Áo_khoác_trẻ_em', '__label__Áo_khoác_đôi', '__label__Áo_len_nam', '__label__Áo_len_nữ', '__label__Áo_lót_nữ', '__label__Áo_măng_tô_nữ', '__label__Áo_mưa,_ủng_đi_mưa', '__label__Áo_sơ_mi_nam', '__label__Áo_sơ_mi_nữ', '__label__Áo_sơ_mi_trẻ_em', '__label__Áo_sơ_sinh', '__label__Áo_thun_nam_(áo_phông)', '__label__Áo_thun_nữ_(áo_pull)', '__label__Áo_thun_trẻ_em', '__label__Áo_thun_đôi', '__label__Áo_thể_thao_nam', '__label__Áo_thể_thao_nữ', '__label__Áo_trẻ_em', '__label__Áo_vest_nữ', '__label__Áo_váy_bầu', '__label__Ê_tô', '__label__Ô_dù', '__label__Ô_tô_Điện', '__label__Ô_tô_điều_khiển_từ_xa', '__label__Ôtô_(Du_lịch)', '__label__Ôtô_cũ', '__label__Đai_cột_sống', '__label__Đai_giữ_bụng_bầu', '__label__Đai_massage_bụng', '__label__Đai_ốc', '__label__Điều_hòa', '__label__Điều_hòa_công_nghiệp', '__label__Điều_khiển_máy_ảnh', '__label__Điện_thoại_Trung_Quốc', '__label__Điện_thoại_trả_góp', '__label__Đui_đèn', '__label__Đui_đèn_các_loại', '__label__Đuốc_hàn', '__label__Đàn_Ghi-ta_(guitar)', '__label__Đàn_Organ', '__label__Đàn_Piano', '__label__Đàn_Piano_điện_(Digital_Pianos)', '__label__Đàn_Ukulele', '__label__Đàn_Violin_(Vĩ_cầm)', '__label__Đào_tạo_lái_xe_ô_tô', '__label__Đá_,_Cát', '__label__Đá_cắt', '__label__Đá_mài', '__label__Đá_điêu_khắc', '__label__Đá_ốp_lát', '__label__Đèn_Exit,_sự_cố', '__label__Đèn_Flash', '__label__Đèn_Led', '__label__Đèn_bàn', '__label__Đèn_báo_sự_cố_(_dùng_trong_pccc_)', '__label__Đèn_bể_bơi', '__label__Đèn_cao_áp', '__label__Đèn_chiếu_sáng_công_cộng', '__label__Đèn_chiếu_sáng_khuôn_viên', '__label__Đèn_chiếu_sáng_khẩn_cấp', '__label__Đèn_chiếu_sáng_nhà_xưởng', '__label__Đèn_chùm', '__label__Đèn_chụp_ngoài_trời', '__label__Đèn_cây', '__label__Đèn_diệt_côn_trùng', '__label__Đèn_giao_thông', '__label__Đèn_mâm', '__label__Đèn_mổ', '__label__Đèn_ngủ', '__label__Đèn_năng_lượng_mặt_trời', '__label__Đèn_pha', '__label__Đèn_pha_lê', '__label__Đèn_pin', '__label__Đèn_pin,_đèn_xách', '__label__Đèn_quay_phim', '__label__Đèn_rọi', '__label__Đèn_sân_vườn', '__label__Đèn_sưởi', '__label__Đèn_sạc', '__label__Đèn_thả', '__label__Đèn_trang_trí_dưới_nước', '__label__Đèn_tranh', '__label__Đèn_trụ', '__label__Đèn_tường', '__label__Đèn_vách', '__label__Đèn_xe_máy', '__label__Đèn_áp_trần', '__label__Đèn_ôtô', '__label__Đĩa_chà_nhám', '__label__Đĩa_hoa_quả_thờ', '__label__Đĩa_mài', '__label__Đường', '__label__Đạo_cụ_ảo_thuật', '__label__Đầu_ghi_hình_cho_camera_giám_sát', '__label__Đầu_gắn_mũi_khoan', '__label__Đầu_nối_(_cho_ống_luồn_dây_điện_)', '__label__Đầu_nối_Jack', '__label__Đầu_nối_nhanh_khí_nén', '__label__Đầu_phun_nước', '__label__Đầu_socket', '__label__Đầu_thu_kỹ_thuật_số', '__label__Đầu_đĩa_than', '__label__Đầu_đọc_thẻ_nhớ', '__label__Đặc_sản_miền_Bắc', '__label__Đặc_sản_miền_Nam', '__label__Đặc_sản_miền_Trung', '__label__Đế_(chân)_nến_thờ', '__label__Đế_sạc_(Dock)_cho_điện_thoại', '__label__Đế_âm', '__label__Đệm_(Nệm)', '__label__Đệm_(Nệm)_cho_bé', '__label__Đệm_chống_va_tàu', '__label__Đệm_phím', '__label__Đỉnh_thờ', '__label__Địu_bé', '__label__Đồ_bơi_nữ', '__label__Đồ_bơi_trẻ_em', '__label__Đồ_bảo_vệ,_phụ_kiện_bóng_đá', '__label__Đồ_bảo_vệ_sức_khoẻ', '__label__Đồ_chơi', '__label__Đồ_chơi_-_Trang_trí_nội_thất_Ô_tô', '__label__Đồ_chơi_bập_bênh', '__label__Đồ_chơi_bằng_gỗ', '__label__Đồ_chơi_chữ_viết', '__label__Đồ_chơi_dùng_pin', '__label__Đồ_chơi_ghép_hình_khác', '__label__Đồ_chơi_hóa_trang', '__label__Đồ_chơi_laptop', '__label__Đồ_chơi_lắp_ghép', '__label__Đồ_chơi_mô_hình_khác', '__label__Đồ_chơi_môn_Bóng_rổ', '__label__Đồ_chơi_môn_Câu_cá', '__label__Đồ_chơi_nhân_vật', '__label__Đồ_chơi_nhạc_cụ', '__label__Đồ_chơi_thông_minh,_phát_triển_trí_não_khác', '__label__Đồ_chơi_thể_thao_cho_trẻ_khác', '__label__Đồ_chơi_thể_thao_tổng_hợp', '__label__Đồ_chơi_thử_thách_trí_tuệ', '__label__Đồ_chơi_trong_giáo_dục', '__label__Đồ_chơi_tổng_hợp_khác', '__label__Đồ_dùng_khác_cho_bé', '__label__Đồ_dùng_nhà_bếp_khác', '__label__Đồ_dùng_sinh_hoạt_khác', '__label__Đồ_dùng_trong_nhà_tắm', '__label__Đồ_dùng_đựng_thực_phẩm', '__label__Đồ_hộp', '__label__Đồ_lót_nam', '__label__Đồ_lót_nữ_khác', '__label__Đồ_ngủ_nữ', '__label__Đồ_phong_thủy', '__label__Đồ_thờ_khác', '__label__Đồ_thủ_công_mỹ_nghệ_khác', '__label__Đồ_thủy_tinh', '__label__Đồ_trang_trí_gốm,_sứ', '__label__Đồ_uống_bổ_dưỡng,_làm_đẹp', '__label__Đồ_uống_khác', '__label__Đồ_vệ_sinh,_bàn_chải,_khăn', '__label__Đồ_ăn_cho_bà_bầu', '__label__Đồ_ăn_khác_cho_bé', '__label__Đồ_ăn_không_béo,_ăn_kiêng', '__label__Đồ_ăn_liền', '__label__Đồ_ăn_nghiền_cho_bé', '__label__Đồ_độ_xe_máy', '__label__Đồ_độ_Ô_tô', '__label__Đồ_đựng_bút', '__label__Đồng_hồ_Argon,_Co2,_Oxy', '__label__Đồng_hồ_báo_thức,_để_bàn', '__label__Đồng_hồ_cây', '__label__Đồng_hồ_cổ', '__label__Đồng_hồ_hàng_hiệu_khác', '__label__Đồng_hồ_hàng_hiệu_nam', '__label__Đồng_hồ_hàng_hiệu_nữ', '__label__Đồng_hồ_nước', '__label__Đồng_hồ_so', '__label__Đồng_hồ_thông_minh_(SmartWatch)', '__label__Đồng_hồ_trang_trí', '__label__Đồng_hồ_treo_tường', '__label__Đồng_hồ_đeo_tay_Hồng_Kông_nam', '__label__Đồng_hồ_đeo_tay_Hồng_Kông_nữ', '__label__Đồng_hồ_đeo_tay_Hồng_Kông_trẻ_em', '__label__Đồng_hồ_đeo_tay_Trung_Quốc_nam', '__label__Đồng_hồ_đeo_tay_Trung_Quốc_nữ', '__label__Đồng_hồ_đo_km_xe_máy', '__label__Đồng_hồ_đo_lưu_lượng', '__label__Đồng_hồ_đo_vạn_năng', '__label__Đồng_hồ_đo_áp_suất_lốp_Ô_tô', '__label__Đồng_hồ_đo_điện_trở', '__label__Đồng_hồ_đôi', '__label__Đồng_phục_bệnh_viện', '__label__Đồng_phục_công_nhân', '__label__Đồng_phục_công_sở', '__label__Đồng_phục_gia_đình', '__label__Đồng_phục_học_sinh-_sinh_viên', '__label__Đồng_phục_mẫu_giáo', '__label__Đồng_phục_nhà_hàng-_Khách_sạn', '__label__Đồng_phục_sự_kiện', '__label__Động_cơ_gắn_ngoài_thuyền', '__label__Động_cơ_nổ', '__label__Động_cơ_điện', '__label__Đục_gỗ', '__label__Ấm_siêu_tốc', '__label__Ắc_quy', '__label__Ắc_quy_xe_máy', '__label__Ắc_quy_ô_tô', '__label__Ống_bơm_cát', '__label__Ống_dẫn_công_nghiệp_khác', '__label__Ống_dẫn_hơi', '__label__Ống_dẫn_khí', '__label__Ống_dẫn_xăng_dầu', '__label__Ống_gió', '__label__Ống_inox_công_nghiệp', '__label__Ống_kính_cho_điện_thoại', '__label__Ống_kính_máy_ảnh', '__label__Ống_luồn_dây_điện', '__label__Ống_ngắm_(Viewfinder)', '__label__Ống_nhòm', '__label__Ống_nhựa_xoắn', '__label__Ống_nước', '__label__Ống_thoát_hiểm', '__label__Ống_đồng', '__label__Ống_đựng_nhang_(hương)', '__label__Ốp_-_Cản_-_Bậc', '__label__Ốp_chân_phanh,_ga', '__label__Ổ_cắm_điện', '__label__Ổ_quang_laptop', '__label__Ổ_rắn_(SSD)_-_Solid_state_drive', '__label__Ổn_áp'] n\n",
      "['kính mắt goldsun korea gs217004 s3 59 - 12 - 145', 'decal nhôm xi_bạc', 'bàn uống nước thông_minh 003', 'bàn học_sinh có kệ sách , ngang 80 cm màu nâu , ghế tăng chỉnh_chân đơn hồng', 'bàn phím giả cơ_lightning pr - 8801']\n"
     ]
    }
   ],
   "source": [
    "from sklearn.model_selection import train_test_split\n",
    "from sklearn.preprocessing import LabelEncoder\n",
    "\n",
    "test_percent = 0.2\n",
    "\n",
    "# split data\n",
    "X_train, X_test, y_train, y_test = train_test_split(products, categories, test_size=test_percent,\n",
    "                                                    random_state=42)\n",
    "\n",
    "# save train/test data\n",
    "with open('data/train.txt', 'w') as f:\n",
    "    for x, y in zip(X_train, y_train):\n",
    "        y = y.replace(\" \", \"_\")\n",
    "        f.write('__label__' + y + ' ' + x + '\\n')\n",
    "\n",
    "with open('data/test.txt', 'w') as f:\n",
    "    for x, y in zip(X_test, y_test):\n",
    "        y = y.replace(\" \", \"_\")\n",
    "        f.write('__label__' + y + ' ' + x + '\\n')\n",
    "\n",
    "# encode target\n",
    "label_encoder = LabelEncoder()\n",
    "label_encoder.fit(data['categories'])\n",
    "\n",
    "print(list(label_encoder.classes_), 'n')\n",
    "\n",
    "y_train = label_encoder.transform(y_train)\n",
    "y_test = label_encoder.transform(y_test)\n",
    "\n",
    "print(X_train[0:5])"
   ]
  },
  {
   "cell_type": "code",
   "execution_count": 36,
   "id": "64b3f841",
   "metadata": {},
   "outputs": [],
   "source": [
    "import os\n",
    "MODEL_PATH = \"models\"\n",
    "\n",
    "if not os.path.exists(MODEL_PATH):\n",
    "    os.makedirs(MODEL_PATH)"
   ]
  },
  {
   "cell_type": "markdown",
   "id": "eb901f46",
   "metadata": {},
   "source": [
    "## 2. Naive Bayes\n",
    "\n",
    "[https://scikit-learn.org/stable/modules/generated/sklearn.naive_bayes.MultinomialNB.html]\n"
   ]
  },
  {
   "cell_type": "code",
   "execution_count": 37,
   "id": "74c1113f",
   "metadata": {},
   "outputs": [
    {
     "name": "stdout",
     "output_type": "stream",
     "text": [
      "Done training Naive Bayes in 1.229372262954712 seconds.\n"
     ]
    }
   ],
   "source": [
    "import pickle\n",
    "import time\n",
    "import os\n",
    "from sklearn.feature_extraction.text import CountVectorizer\n",
    "from sklearn.feature_extraction.text import TfidfTransformer\n",
    "from sklearn.naive_bayes import MultinomialNB\n",
    "from sklearn.pipeline import Pipeline\n",
    "\n",
    "start_time = time.time()\n",
    "text_clf = Pipeline([('vect', CountVectorizer(ngram_range=(1, 1),\n",
    "                                              max_df=0.8,\n",
    "                                              max_features=None)),\n",
    "                     ('tfidf', TfidfTransformer()),\n",
    "                     ('clf', MultinomialNB())\n",
    "                     ])\n",
    "text_clf = text_clf.fit(X_train, y_train)\n",
    "\n",
    "train_time = time.time() - start_time\n",
    "print('Done training Naive Bayes in', train_time, 'seconds.')\n",
    "\n",
    "# Save model\n",
    "pickle.dump(text_clf, open(os.path.join(MODEL_PATH, \"naive_bayes.pkl\"), 'wb'))"
   ]
  },
  {
   "cell_type": "markdown",
   "id": "ea6efe1e",
   "metadata": {},
   "source": [
    "## 3. Linear Classifier\n",
    "\n",
    "[https://scikit-learn.org/stable/modules/generated/sklearn.linear_model.LogisticRegression.html]\n"
   ]
  },
  {
   "cell_type": "code",
   "execution_count": 28,
   "id": "9b7938e6",
   "metadata": {},
   "outputs": [],
   "source": [
    "from sklearn.linear_model import LogisticRegression\n",
    "\n",
    "start_time = time.time()\n",
    "text_clf = Pipeline([('vect', CountVectorizer(ngram_range=(1, 1),\n",
    "                                              max_df=0.8,\n",
    "                                              max_features=None)),\n",
    "                     ('tfidf', TfidfTransformer()),\n",
    "                     ('clf', LogisticRegression(solver='lbfgs',\n",
    "                                                multi_class='auto',\n",
    "                                                max_iter=10000))\n",
    "                     ])\n",
    "text_clf = text_clf.fit(X_train, y_train)\n",
    "\n",
    "train_time = time.time() - start_time\n",
    "print('Done training Linear Classifier in', train_time, 'seconds.')\n",
    "\n",
    "# Save model\n",
    "pickle.dump(text_clf, open(os.path.join(\n",
    "    MODEL_PATH, \"linear_classifier.pkl\"), 'wb'))"
   ]
  },
  {
   "cell_type": "markdown",
   "id": "1e4d4bf7",
   "metadata": {},
   "source": [
    "## 4. SVM\n",
    "[https://scikit-learn.org/stable/modules/generated/sklearn.svm.SVC.html]"
   ]
  },
  {
   "cell_type": "code",
   "execution_count": 38,
   "id": "c200e83c",
   "metadata": {},
   "outputs": [
    {
     "name": "stdout",
     "output_type": "stream",
     "text": [
      "Done training SVM in 48.82425904273987 seconds.\n"
     ]
    }
   ],
   "source": [
    "from sklearn.svm import SVC\n",
    "\n",
    "start_time = time.time()\n",
    "text_clf = Pipeline([('vect', CountVectorizer(ngram_range=(1, 1),\n",
    "                                              max_df=0.8,\n",
    "                                              max_features=None)),\n",
    "                     ('tfidf', TfidfTransformer()),\n",
    "                     ('clf', SVC(gamma='scale'))\n",
    "                     ])\n",
    "text_clf = text_clf.fit(X_train, y_train)\n",
    "\n",
    "train_time = time.time() - start_time\n",
    "print('Done training SVM in', train_time, 'seconds.')\n",
    "\n",
    "# Save model\n",
    "pickle.dump(text_clf, open(os.path.join(MODEL_PATH, \"svm.pkl\"), 'wb'))"
   ]
  },
  {
   "cell_type": "markdown",
   "id": "b6eb4dfb",
   "metadata": {},
   "source": [
    "## So sánh các mô hình"
   ]
  },
  {
   "cell_type": "code",
   "execution_count": 39,
   "id": "81f36b5b",
   "metadata": {},
   "outputs": [
    {
     "name": "stdout",
     "output_type": "stream",
     "text": [
      "Naive Bayes, Accuracy = 0.22997329773030709\n",
      "SVM, Accuracy = 0.503004005340454\n"
     ]
    }
   ],
   "source": [
    "import numpy as np\n",
    "\n",
    "# Naive Bayes\n",
    "model = pickle.load(open(os.path.join(MODEL_PATH,\"naive_bayes.pkl\"), 'rb'))\n",
    "y_pred = model.predict(X_test)\n",
    "print('Naive Bayes, Accuracy =', np.mean(y_pred == y_test))\n",
    "\n",
    "# SVM\n",
    "model = pickle.load(open(os.path.join(MODEL_PATH,\"svm.pkl\"), 'rb'))\n",
    "y_pred = model.predict(X_test)\n",
    "print('SVM, Accuracy =', np.mean(y_pred == y_test))"
   ]
  },
  {
   "cell_type": "code",
   "execution_count": 40,
   "id": "83e1aefe",
   "metadata": {},
   "outputs": [
    {
     "ename": "ValueError",
     "evalue": "Number of classes, 1028, does not match size of target_names, 1971. Try specifying the labels parameter",
     "output_type": "error",
     "traceback": [
      "\u001b[0;31m---------------------------------------------------------------------------\u001b[0m",
      "\u001b[0;31mValueError\u001b[0m                                Traceback (most recent call last)",
      "\u001b[1;32m/Users/long/Desktop/KPDL_HLV/Text_Classification.ipynb Cell 36\u001b[0m line \u001b[0;36m6\n\u001b[1;32m      <a href='vscode-notebook-cell:/Users/long/Desktop/KPDL_HLV/Text_Classification.ipynb#X56sZmlsZQ%3D%3D?line=3'>4</a>\u001b[0m nb_model \u001b[39m=\u001b[39m pickle\u001b[39m.\u001b[39mload(\u001b[39mopen\u001b[39m(os\u001b[39m.\u001b[39mpath\u001b[39m.\u001b[39mjoin(MODEL_PATH,\u001b[39m\"\u001b[39m\u001b[39mnaive_bayes.pkl\u001b[39m\u001b[39m\"\u001b[39m), \u001b[39m'\u001b[39m\u001b[39mrb\u001b[39m\u001b[39m'\u001b[39m))\n\u001b[1;32m      <a href='vscode-notebook-cell:/Users/long/Desktop/KPDL_HLV/Text_Classification.ipynb#X56sZmlsZQ%3D%3D?line=4'>5</a>\u001b[0m y_pred \u001b[39m=\u001b[39m nb_model\u001b[39m.\u001b[39mpredict(X_test)\n\u001b[0;32m----> <a href='vscode-notebook-cell:/Users/long/Desktop/KPDL_HLV/Text_Classification.ipynb#X56sZmlsZQ%3D%3D?line=5'>6</a>\u001b[0m \u001b[39mprint\u001b[39m(classification_report(y_test, y_pred, target_names\u001b[39m=\u001b[39m\u001b[39mlist\u001b[39m(label_encoder\u001b[39m.\u001b[39mclasses_)))\n",
      "File \u001b[0;32m~/anaconda3/lib/python3.11/site-packages/sklearn/utils/_param_validation.py:211\u001b[0m, in \u001b[0;36mvalidate_params.<locals>.decorator.<locals>.wrapper\u001b[0;34m(*args, **kwargs)\u001b[0m\n\u001b[1;32m    205\u001b[0m \u001b[39mtry\u001b[39;00m:\n\u001b[1;32m    206\u001b[0m     \u001b[39mwith\u001b[39;00m config_context(\n\u001b[1;32m    207\u001b[0m         skip_parameter_validation\u001b[39m=\u001b[39m(\n\u001b[1;32m    208\u001b[0m             prefer_skip_nested_validation \u001b[39mor\u001b[39;00m global_skip_validation\n\u001b[1;32m    209\u001b[0m         )\n\u001b[1;32m    210\u001b[0m     ):\n\u001b[0;32m--> 211\u001b[0m         \u001b[39mreturn\u001b[39;00m func(\u001b[39m*\u001b[39margs, \u001b[39m*\u001b[39m\u001b[39m*\u001b[39mkwargs)\n\u001b[1;32m    212\u001b[0m \u001b[39mexcept\u001b[39;00m InvalidParameterError \u001b[39mas\u001b[39;00m e:\n\u001b[1;32m    213\u001b[0m     \u001b[39m# When the function is just a wrapper around an estimator, we allow\u001b[39;00m\n\u001b[1;32m    214\u001b[0m     \u001b[39m# the function to delegate validation to the estimator, but we replace\u001b[39;00m\n\u001b[1;32m    215\u001b[0m     \u001b[39m# the name of the estimator by the name of the function in the error\u001b[39;00m\n\u001b[1;32m    216\u001b[0m     \u001b[39m# message to avoid confusion.\u001b[39;00m\n\u001b[1;32m    217\u001b[0m     msg \u001b[39m=\u001b[39m re\u001b[39m.\u001b[39msub(\n\u001b[1;32m    218\u001b[0m         \u001b[39mr\u001b[39m\u001b[39m\"\u001b[39m\u001b[39mparameter of \u001b[39m\u001b[39m\\\u001b[39m\u001b[39mw+ must be\u001b[39m\u001b[39m\"\u001b[39m,\n\u001b[1;32m    219\u001b[0m         \u001b[39mf\u001b[39m\u001b[39m\"\u001b[39m\u001b[39mparameter of \u001b[39m\u001b[39m{\u001b[39;00mfunc\u001b[39m.\u001b[39m\u001b[39m__qualname__\u001b[39m\u001b[39m}\u001b[39;00m\u001b[39m must be\u001b[39m\u001b[39m\"\u001b[39m,\n\u001b[1;32m    220\u001b[0m         \u001b[39mstr\u001b[39m(e),\n\u001b[1;32m    221\u001b[0m     )\n",
      "File \u001b[0;32m~/anaconda3/lib/python3.11/site-packages/sklearn/metrics/_classification.py:2561\u001b[0m, in \u001b[0;36mclassification_report\u001b[0;34m(y_true, y_pred, labels, target_names, sample_weight, digits, output_dict, zero_division)\u001b[0m\n\u001b[1;32m   2555\u001b[0m         warnings\u001b[39m.\u001b[39mwarn(\n\u001b[1;32m   2556\u001b[0m             \u001b[39m\"\u001b[39m\u001b[39mlabels size, \u001b[39m\u001b[39m{0}\u001b[39;00m\u001b[39m, does not match size of target_names, \u001b[39m\u001b[39m{1}\u001b[39;00m\u001b[39m\"\u001b[39m\u001b[39m.\u001b[39mformat(\n\u001b[1;32m   2557\u001b[0m                 \u001b[39mlen\u001b[39m(labels), \u001b[39mlen\u001b[39m(target_names)\n\u001b[1;32m   2558\u001b[0m             )\n\u001b[1;32m   2559\u001b[0m         )\n\u001b[1;32m   2560\u001b[0m     \u001b[39melse\u001b[39;00m:\n\u001b[0;32m-> 2561\u001b[0m         \u001b[39mraise\u001b[39;00m \u001b[39mValueError\u001b[39;00m(\n\u001b[1;32m   2562\u001b[0m             \u001b[39m\"\u001b[39m\u001b[39mNumber of classes, \u001b[39m\u001b[39m{0}\u001b[39;00m\u001b[39m, does not match size of \u001b[39m\u001b[39m\"\u001b[39m\n\u001b[1;32m   2563\u001b[0m             \u001b[39m\"\u001b[39m\u001b[39mtarget_names, \u001b[39m\u001b[39m{1}\u001b[39;00m\u001b[39m. Try specifying the labels \u001b[39m\u001b[39m\"\u001b[39m\n\u001b[1;32m   2564\u001b[0m             \u001b[39m\"\u001b[39m\u001b[39mparameter\u001b[39m\u001b[39m\"\u001b[39m\u001b[39m.\u001b[39mformat(\u001b[39mlen\u001b[39m(labels), \u001b[39mlen\u001b[39m(target_names))\n\u001b[1;32m   2565\u001b[0m         )\n\u001b[1;32m   2566\u001b[0m \u001b[39mif\u001b[39;00m target_names \u001b[39mis\u001b[39;00m \u001b[39mNone\u001b[39;00m:\n\u001b[1;32m   2567\u001b[0m     target_names \u001b[39m=\u001b[39m [\u001b[39m\"\u001b[39m\u001b[39m%s\u001b[39;00m\u001b[39m\"\u001b[39m \u001b[39m%\u001b[39m l \u001b[39mfor\u001b[39;00m l \u001b[39min\u001b[39;00m labels]\n",
      "\u001b[0;31mValueError\u001b[0m: Number of classes, 1028, does not match size of target_names, 1971. Try specifying the labels parameter"
     ]
    }
   ],
   "source": [
    "# Xem kết quả trên từng nhãn\n",
    "from sklearn.metrics import classification_report\n",
    "\n",
    "nb_model = pickle.load(open(os.path.join(MODEL_PATH,\"naive_bayes.pkl\"), 'rb'))\n",
    "y_pred = nb_model.predict(X_test)\n",
    "print(classification_report(y_test, y_pred, target_names=list(label_encoder.classes_)))"
   ]
  }
 ],
 "metadata": {
  "kernelspec": {
   "display_name": "Python 3 (ipykernel)",
   "language": "python",
   "name": "python3"
  },
  "language_info": {
   "codemirror_mode": {
    "name": "ipython",
    "version": 3
   },
   "file_extension": ".py",
   "mimetype": "text/x-python",
   "name": "python",
   "nbconvert_exporter": "python",
   "pygments_lexer": "ipython3",
   "version": "3.11.5"
  }
 },
 "nbformat": 4,
 "nbformat_minor": 5
}
